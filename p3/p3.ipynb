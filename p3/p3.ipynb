{
 "cells": [
  {
   "cell_type": "markdown",
   "metadata": {},
   "source": [
    "# QUESTIONS\n",
    "\n",
    "1. Write an SQL query to create a new dataframe about baseball players who attended BYU-Idaho. The new table should contain five columns: \n",
    "   \n",
    "   1. `playerID`\n",
    "   2. `schoolID`\n",
    "   3. `salary`\n",
    "   4. `yearID`\n",
    "   5. `teamID` *associated with each salary*\n",
    "   \n",
    "   Order the table by salary (highest to lowest) and print out the table in your report.\n",
    "\n",
    "2. This three-part question requires you to calculate batting average (number of\n",
    "   hits divided by the number of at-bats)\n",
    "\n",
    "    - Write an SQL query that provides playerID, yearID, and batting average for players with at least 1 at bat that year. Sort the table from highest batting average to lowest, and then by playerid alphabetically. Show the top 5 results in your report.\n",
    "    - Use the same query as above, but only include players with at least 10 at bats that year. Print the top 5 results.\n",
    "    - Now calculate the batting average for players over their entire careers (all years combined). Only include players with at least 100 at bats, and print the top 5 results.\n",
    "\n",
    "3. Pick any two baseball teams and compare them using a metric of your choice (average salary, home runs, number of wins, etc). Write an SQL query to get the data you need, then make a graph using Plotly Express to visualize the comparison. What do you learn?\n"
   ]
  },
  {
   "cell_type": "code",
   "execution_count": 22,
   "metadata": {
    "dotnet_interactive": {
     "language": "csharp"
    },
    "polyglot_notebook": {
     "kernelName": "csharp"
    }
   },
   "outputs": [
    {
     "data": {
      "text/html": [
       "<div>\n",
       "<style scoped>\n",
       "    .dataframe tbody tr th:only-of-type {\n",
       "        vertical-align: middle;\n",
       "    }\n",
       "\n",
       "    .dataframe tbody tr th {\n",
       "        vertical-align: top;\n",
       "    }\n",
       "\n",
       "    .dataframe thead th {\n",
       "        text-align: right;\n",
       "    }\n",
       "</style>\n",
       "<table border=\"1\" class=\"dataframe\">\n",
       "  <thead>\n",
       "    <tr style=\"text-align: right;\">\n",
       "      <th></th>\n",
       "      <th>ID</th>\n",
       "      <th>playerID</th>\n",
       "      <th>yearID</th>\n",
       "      <th>gameNum</th>\n",
       "      <th>gameID</th>\n",
       "      <th>teamID</th>\n",
       "      <th>team_ID</th>\n",
       "      <th>lgID</th>\n",
       "      <th>GP</th>\n",
       "      <th>startingPos</th>\n",
       "    </tr>\n",
       "  </thead>\n",
       "  <tbody>\n",
       "    <tr>\n",
       "      <th>0</th>\n",
       "      <td>1</td>\n",
       "      <td>gomezle01</td>\n",
       "      <td>1933</td>\n",
       "      <td>0</td>\n",
       "      <td>ALS193307060</td>\n",
       "      <td>NYA</td>\n",
       "      <td>921</td>\n",
       "      <td>AL</td>\n",
       "      <td>1</td>\n",
       "      <td>1</td>\n",
       "    </tr>\n",
       "    <tr>\n",
       "      <th>1</th>\n",
       "      <td>2</td>\n",
       "      <td>ferreri01</td>\n",
       "      <td>1933</td>\n",
       "      <td>0</td>\n",
       "      <td>ALS193307060</td>\n",
       "      <td>BOS</td>\n",
       "      <td>912</td>\n",
       "      <td>AL</td>\n",
       "      <td>1</td>\n",
       "      <td>2</td>\n",
       "    </tr>\n",
       "    <tr>\n",
       "      <th>2</th>\n",
       "      <td>3</td>\n",
       "      <td>gehrilo01</td>\n",
       "      <td>1933</td>\n",
       "      <td>0</td>\n",
       "      <td>ALS193307060</td>\n",
       "      <td>NYA</td>\n",
       "      <td>921</td>\n",
       "      <td>AL</td>\n",
       "      <td>1</td>\n",
       "      <td>3</td>\n",
       "    </tr>\n",
       "    <tr>\n",
       "      <th>3</th>\n",
       "      <td>4</td>\n",
       "      <td>gehrich01</td>\n",
       "      <td>1933</td>\n",
       "      <td>0</td>\n",
       "      <td>ALS193307060</td>\n",
       "      <td>DET</td>\n",
       "      <td>919</td>\n",
       "      <td>AL</td>\n",
       "      <td>1</td>\n",
       "      <td>4</td>\n",
       "    </tr>\n",
       "    <tr>\n",
       "      <th>4</th>\n",
       "      <td>5</td>\n",
       "      <td>dykesji01</td>\n",
       "      <td>1933</td>\n",
       "      <td>0</td>\n",
       "      <td>ALS193307060</td>\n",
       "      <td>CHA</td>\n",
       "      <td>915</td>\n",
       "      <td>AL</td>\n",
       "      <td>1</td>\n",
       "      <td>5</td>\n",
       "    </tr>\n",
       "  </tbody>\n",
       "</table>\n",
       "</div>"
      ],
      "text/plain": [
       "   ID   playerID  yearID  gameNum        gameID teamID  team_ID lgID  GP  \\\n",
       "0   1  gomezle01    1933        0  ALS193307060    NYA      921   AL   1   \n",
       "1   2  ferreri01    1933        0  ALS193307060    BOS      912   AL   1   \n",
       "2   3  gehrilo01    1933        0  ALS193307060    NYA      921   AL   1   \n",
       "3   4  gehrich01    1933        0  ALS193307060    DET      919   AL   1   \n",
       "4   5  dykesji01    1933        0  ALS193307060    CHA      915   AL   1   \n",
       "\n",
       "   startingPos  \n",
       "0            1  \n",
       "1            2  \n",
       "2            3  \n",
       "3            4  \n",
       "4            5  "
      ]
     },
     "execution_count": 22,
     "metadata": {},
     "output_type": "execute_result"
    }
   ],
   "source": [
    "import sqlite3\n",
    "import numpy as np\n",
    "import pandas as pd\n",
    "import plotly.express as px\n",
    "\n",
    "# careful to list your path to the file or save it in the same place as your .qmd or .py file\n",
    "sqlite_file = \"lahmansbaseballdb.sqlite\"\n",
    "con = sqlite3.connect(sqlite_file)\n",
    "\n",
    "q = \"SELECT * FROM allstarfull LIMIT 5\"\n",
    "results = pd.read_sql_query(q, con)\n",
    "\n",
    "results"
   ]
  },
  {
   "cell_type": "code",
   "execution_count": 23,
   "metadata": {},
   "outputs": [
    {
     "data": {
      "text/plain": [
       "['allstarfull',\n",
       " 'appearances',\n",
       " 'awardsmanagers',\n",
       " 'awardsplayers',\n",
       " 'awardssharemanagers',\n",
       " 'awardsshareplayers',\n",
       " 'batting',\n",
       " 'battingpost',\n",
       " 'collegeplaying',\n",
       " 'divisions',\n",
       " 'fielding',\n",
       " 'fieldingof',\n",
       " 'fieldingofsplit',\n",
       " 'fieldingpost',\n",
       " 'halloffame',\n",
       " 'homegames',\n",
       " 'leagues',\n",
       " 'managers',\n",
       " 'managershalf',\n",
       " 'parks',\n",
       " 'people',\n",
       " 'pitching',\n",
       " 'pitchingpost',\n",
       " 'salaries',\n",
       " 'schools',\n",
       " 'seriespost',\n",
       " 'teams',\n",
       " 'teamsfranchises',\n",
       " 'teamshalf']"
      ]
     },
     "execution_count": 23,
     "metadata": {},
     "output_type": "execute_result"
    }
   ],
   "source": [
    "# This is our master table\n",
    "q = \"\"\"--sql\n",
    "    SELECT * \n",
    "    FROM sqlite_master \n",
    "    WHERE type='table'\n",
    "    \"\"\"\n",
    "table = pd.read_sql_query(q, con)\n",
    "table_names = table.filter([\"name\"])[\"name\"].to_list()\n",
    "table_names"
   ]
  },
  {
   "cell_type": "code",
   "execution_count": 24,
   "metadata": {},
   "outputs": [
    {
     "data": {
      "text/html": [
       "<div>\n",
       "<style scoped>\n",
       "    .dataframe tbody tr th:only-of-type {\n",
       "        vertical-align: middle;\n",
       "    }\n",
       "\n",
       "    .dataframe tbody tr th {\n",
       "        vertical-align: top;\n",
       "    }\n",
       "\n",
       "    .dataframe thead th {\n",
       "        text-align: right;\n",
       "    }\n",
       "</style>\n",
       "<table border=\"1\" class=\"dataframe\">\n",
       "  <thead>\n",
       "    <tr style=\"text-align: right;\">\n",
       "      <th></th>\n",
       "      <th>schoolID</th>\n",
       "      <th>name_full</th>\n",
       "      <th>city</th>\n",
       "      <th>state</th>\n",
       "      <th>country</th>\n",
       "    </tr>\n",
       "  </thead>\n",
       "  <tbody>\n",
       "    <tr>\n",
       "      <th>0</th>\n",
       "      <td>idbyuid</td>\n",
       "      <td>Brigham Young University-Idaho</td>\n",
       "      <td>Rexburg</td>\n",
       "      <td>ID</td>\n",
       "      <td>USA</td>\n",
       "    </tr>\n",
       "  </tbody>\n",
       "</table>\n",
       "</div>"
      ],
      "text/plain": [
       "  schoolID                       name_full     city state country\n",
       "0  idbyuid  Brigham Young University-Idaho  Rexburg    ID     USA"
      ]
     },
     "execution_count": 24,
     "metadata": {},
     "output_type": "execute_result"
    }
   ],
   "source": [
    "q = \"\"\"--sql\n",
    "    SELECT * FROM schools\n",
    "    WHERE name_full = \"Brigham Young University-Idaho\"\n",
    "    \"\"\"\n",
    "\n",
    "schools = pd.read_sql_query(q, con)\n",
    "byui = schools.get(\"schoolID\")[0]\n",
    "schools"
   ]
  },
  {
   "cell_type": "code",
   "execution_count": 35,
   "metadata": {},
   "outputs": [
    {
     "data": {
      "text/html": [
       "<div>\n",
       "<style scoped>\n",
       "    .dataframe tbody tr th:only-of-type {\n",
       "        vertical-align: middle;\n",
       "    }\n",
       "\n",
       "    .dataframe tbody tr th {\n",
       "        vertical-align: top;\n",
       "    }\n",
       "\n",
       "    .dataframe thead th {\n",
       "        text-align: right;\n",
       "    }\n",
       "</style>\n",
       "<table border=\"1\" class=\"dataframe\">\n",
       "  <thead>\n",
       "    <tr style=\"text-align: right;\">\n",
       "      <th></th>\n",
       "      <th>Given Name</th>\n",
       "      <th>Player ID</th>\n",
       "      <th>School ID</th>\n",
       "      <th>Team ID</th>\n",
       "      <th>Year</th>\n",
       "      <th>Salary</th>\n",
       "    </tr>\n",
       "  </thead>\n",
       "  <tbody>\n",
       "    <tr>\n",
       "      <th>0</th>\n",
       "      <td>Matthew Raymond</td>\n",
       "      <td>lindsma01</td>\n",
       "      <td>Brigham Young University-Idaho</td>\n",
       "      <td>CHA</td>\n",
       "      <td>2014</td>\n",
       "      <td>$ 4,000,000</td>\n",
       "    </tr>\n",
       "    <tr>\n",
       "      <th>1</th>\n",
       "      <td>Matthew Raymond</td>\n",
       "      <td>lindsma01</td>\n",
       "      <td>Brigham Young University-Idaho</td>\n",
       "      <td>BAL</td>\n",
       "      <td>2012</td>\n",
       "      <td>$ 3,600,000</td>\n",
       "    </tr>\n",
       "    <tr>\n",
       "      <th>2</th>\n",
       "      <td>Matthew Raymond</td>\n",
       "      <td>lindsma01</td>\n",
       "      <td>Brigham Young University-Idaho</td>\n",
       "      <td>COL</td>\n",
       "      <td>2011</td>\n",
       "      <td>$ 2,800,000</td>\n",
       "    </tr>\n",
       "    <tr>\n",
       "      <th>3</th>\n",
       "      <td>Matthew Raymond</td>\n",
       "      <td>lindsma01</td>\n",
       "      <td>Brigham Young University-Idaho</td>\n",
       "      <td>CHA</td>\n",
       "      <td>2013</td>\n",
       "      <td>$ 2,300,000</td>\n",
       "    </tr>\n",
       "    <tr>\n",
       "      <th>4</th>\n",
       "      <td>Matthew Raymond</td>\n",
       "      <td>lindsma01</td>\n",
       "      <td>Brigham Young University-Idaho</td>\n",
       "      <td>HOU</td>\n",
       "      <td>2010</td>\n",
       "      <td>$ 1,625,000</td>\n",
       "    </tr>\n",
       "    <tr>\n",
       "      <th>5</th>\n",
       "      <td>Garrett Charles</td>\n",
       "      <td>stephga01</td>\n",
       "      <td>Brigham Young University-Idaho</td>\n",
       "      <td>SLN</td>\n",
       "      <td>2001</td>\n",
       "      <td>$ 1,025,000</td>\n",
       "    </tr>\n",
       "    <tr>\n",
       "      <th>6</th>\n",
       "      <td>Garrett Charles</td>\n",
       "      <td>stephga01</td>\n",
       "      <td>Brigham Young University-Idaho</td>\n",
       "      <td>SLN</td>\n",
       "      <td>2002</td>\n",
       "      <td>$ 900,000</td>\n",
       "    </tr>\n",
       "    <tr>\n",
       "      <th>7</th>\n",
       "      <td>Garrett Charles</td>\n",
       "      <td>stephga01</td>\n",
       "      <td>Brigham Young University-Idaho</td>\n",
       "      <td>SLN</td>\n",
       "      <td>2003</td>\n",
       "      <td>$ 800,000</td>\n",
       "    </tr>\n",
       "    <tr>\n",
       "      <th>8</th>\n",
       "      <td>Garrett Charles</td>\n",
       "      <td>stephga01</td>\n",
       "      <td>Brigham Young University-Idaho</td>\n",
       "      <td>SLN</td>\n",
       "      <td>2000</td>\n",
       "      <td>$ 550,000</td>\n",
       "    </tr>\n",
       "    <tr>\n",
       "      <th>9</th>\n",
       "      <td>Matthew Raymond</td>\n",
       "      <td>lindsma01</td>\n",
       "      <td>Brigham Young University-Idaho</td>\n",
       "      <td>FLO</td>\n",
       "      <td>2009</td>\n",
       "      <td>$ 410,000</td>\n",
       "    </tr>\n",
       "    <tr>\n",
       "      <th>10</th>\n",
       "      <td>Matthew Raymond</td>\n",
       "      <td>lindsma01</td>\n",
       "      <td>Brigham Young University-Idaho</td>\n",
       "      <td>FLO</td>\n",
       "      <td>2008</td>\n",
       "      <td>$ 395,000</td>\n",
       "    </tr>\n",
       "    <tr>\n",
       "      <th>11</th>\n",
       "      <td>Matthew Raymond</td>\n",
       "      <td>lindsma01</td>\n",
       "      <td>Brigham Young University-Idaho</td>\n",
       "      <td>FLO</td>\n",
       "      <td>2007</td>\n",
       "      <td>$ 380,000</td>\n",
       "    </tr>\n",
       "    <tr>\n",
       "      <th>12</th>\n",
       "      <td>Garrett Charles</td>\n",
       "      <td>stephga01</td>\n",
       "      <td>Brigham Young University-Idaho</td>\n",
       "      <td>SLN</td>\n",
       "      <td>1999</td>\n",
       "      <td>$ 215,000</td>\n",
       "    </tr>\n",
       "    <tr>\n",
       "      <th>13</th>\n",
       "      <td>Garrett Charles</td>\n",
       "      <td>stephga01</td>\n",
       "      <td>Brigham Young University-Idaho</td>\n",
       "      <td>PHI</td>\n",
       "      <td>1998</td>\n",
       "      <td>$ 185,000</td>\n",
       "    </tr>\n",
       "    <tr>\n",
       "      <th>14</th>\n",
       "      <td>Garrett Charles</td>\n",
       "      <td>stephga01</td>\n",
       "      <td>Brigham Young University-Idaho</td>\n",
       "      <td>PHI</td>\n",
       "      <td>1997</td>\n",
       "      <td>$ 150,000</td>\n",
       "    </tr>\n",
       "  </tbody>\n",
       "</table>\n",
       "</div>"
      ],
      "text/plain": [
       "         Given Name  Player ID                       School ID Team ID  Year  \\\n",
       "0   Matthew Raymond  lindsma01  Brigham Young University-Idaho     CHA  2014   \n",
       "1   Matthew Raymond  lindsma01  Brigham Young University-Idaho     BAL  2012   \n",
       "2   Matthew Raymond  lindsma01  Brigham Young University-Idaho     COL  2011   \n",
       "3   Matthew Raymond  lindsma01  Brigham Young University-Idaho     CHA  2013   \n",
       "4   Matthew Raymond  lindsma01  Brigham Young University-Idaho     HOU  2010   \n",
       "5   Garrett Charles  stephga01  Brigham Young University-Idaho     SLN  2001   \n",
       "6   Garrett Charles  stephga01  Brigham Young University-Idaho     SLN  2002   \n",
       "7   Garrett Charles  stephga01  Brigham Young University-Idaho     SLN  2003   \n",
       "8   Garrett Charles  stephga01  Brigham Young University-Idaho     SLN  2000   \n",
       "9   Matthew Raymond  lindsma01  Brigham Young University-Idaho     FLO  2009   \n",
       "10  Matthew Raymond  lindsma01  Brigham Young University-Idaho     FLO  2008   \n",
       "11  Matthew Raymond  lindsma01  Brigham Young University-Idaho     FLO  2007   \n",
       "12  Garrett Charles  stephga01  Brigham Young University-Idaho     SLN  1999   \n",
       "13  Garrett Charles  stephga01  Brigham Young University-Idaho     PHI  1998   \n",
       "14  Garrett Charles  stephga01  Brigham Young University-Idaho     PHI  1997   \n",
       "\n",
       "         Salary  \n",
       "0   $ 4,000,000  \n",
       "1   $ 3,600,000  \n",
       "2   $ 2,800,000  \n",
       "3   $ 2,300,000  \n",
       "4   $ 1,625,000  \n",
       "5   $ 1,025,000  \n",
       "6     $ 900,000  \n",
       "7     $ 800,000  \n",
       "8     $ 550,000  \n",
       "9     $ 410,000  \n",
       "10    $ 395,000  \n",
       "11    $ 380,000  \n",
       "12    $ 215,000  \n",
       "13    $ 185,000  \n",
       "14    $ 150,000  "
      ]
     },
     "execution_count": 35,
     "metadata": {},
     "output_type": "execute_result"
    }
   ],
   "source": [
    "q = \"\"\"--sql\n",
    "    SELECT people.nameGiven AS `Given Name`,\n",
    "           people.playerID AS `Player ID`,\n",
    "           collegeplaying.schoolID AS `School ID`,\n",
    "           salaries.teamID AS `Team ID`,\n",
    "           salaries.yearID AS `Year`,\n",
    "           salaries.salary AS `Salary`\n",
    "    FROM people\n",
    "    JOIN collegeplaying ON people.playerID = collegeplaying.playerID\n",
    "    JOIN salaries ON people.playerID = salaries.playerID\n",
    "    WHERE schoolID = 'idbyuid'\n",
    "    ORDER BY salary DESC\n",
    "    \"\"\"\n",
    "\n",
    "player_info = pd.read_sql_query(q, con)\n",
    "player_info = player_info.drop_duplicates().reset_index(drop=True)\n",
    "player_info = player_info.replace(\"idbyuid\", \"Brigham Young University-Idaho\")\n",
    "player_info[\"Salary\"] = player_info[\"Salary\"].map(lambda x: f\"$ {x:,.0f}\")\n",
    "\n",
    "player_info"
   ]
  },
  {
   "cell_type": "code",
   "execution_count": 26,
   "metadata": {},
   "outputs": [
    {
     "data": {
      "text/html": [
       "<div>\n",
       "<style scoped>\n",
       "    .dataframe tbody tr th:only-of-type {\n",
       "        vertical-align: middle;\n",
       "    }\n",
       "\n",
       "    .dataframe tbody tr th {\n",
       "        vertical-align: top;\n",
       "    }\n",
       "\n",
       "    .dataframe thead th {\n",
       "        text-align: right;\n",
       "    }\n",
       "</style>\n",
       "<table border=\"1\" class=\"dataframe\">\n",
       "  <thead>\n",
       "    <tr style=\"text-align: right;\">\n",
       "      <th></th>\n",
       "      <th>playerID</th>\n",
       "      <th>at_bat</th>\n",
       "      <th>hits</th>\n",
       "      <th>batting_average</th>\n",
       "    </tr>\n",
       "  </thead>\n",
       "  <tbody>\n",
       "    <tr>\n",
       "      <th>0</th>\n",
       "      <td>lawsost01</td>\n",
       "      <td>1</td>\n",
       "      <td>1</td>\n",
       "      <td>1.0</td>\n",
       "    </tr>\n",
       "    <tr>\n",
       "      <th>1</th>\n",
       "      <td>stoneti01</td>\n",
       "      <td>1</td>\n",
       "      <td>1</td>\n",
       "      <td>1.0</td>\n",
       "    </tr>\n",
       "    <tr>\n",
       "      <th>2</th>\n",
       "      <td>alanirj01</td>\n",
       "      <td>1</td>\n",
       "      <td>1</td>\n",
       "      <td>1.0</td>\n",
       "    </tr>\n",
       "    <tr>\n",
       "      <th>3</th>\n",
       "      <td>alberan01</td>\n",
       "      <td>1</td>\n",
       "      <td>1</td>\n",
       "      <td>1.0</td>\n",
       "    </tr>\n",
       "    <tr>\n",
       "      <th>4</th>\n",
       "      <td>moharjo01</td>\n",
       "      <td>1</td>\n",
       "      <td>1</td>\n",
       "      <td>1.0</td>\n",
       "    </tr>\n",
       "  </tbody>\n",
       "</table>\n",
       "</div>"
      ],
      "text/plain": [
       "    playerID  at_bat  hits  batting_average\n",
       "0  lawsost01       1     1              1.0\n",
       "1  stoneti01       1     1              1.0\n",
       "2  alanirj01       1     1              1.0\n",
       "3  alberan01       1     1              1.0\n",
       "4  moharjo01       1     1              1.0"
      ]
     },
     "execution_count": 26,
     "metadata": {},
     "output_type": "execute_result"
    }
   ],
   "source": [
    "q = \"\"\"--sql\n",
    "    SELECT playerID, yearID, H AS hits, AB AS at_bat\n",
    "    FROM batting\n",
    "    WHERE AB > 0\n",
    "    \"\"\"\n",
    "\n",
    "batting_avgs = pd.read_sql_query(q, con)\n",
    "batters = (\n",
    "    batting_avgs.groupby(\"playerID\")\n",
    "    .agg(at_bat=(\"at_bat\", \"sum\"), hits=(\"hits\", \"sum\"))\n",
    "    .assign(batting_average=lambda x: x.hits / x.at_bat)\n",
    ")\n",
    "batters.sort_values(\"batting_average\", ascending=False).head().reset_index()"
   ]
  },
  {
   "cell_type": "code",
   "execution_count": 27,
   "metadata": {},
   "outputs": [
    {
     "data": {
      "text/html": [
       "<div>\n",
       "<style scoped>\n",
       "    .dataframe tbody tr th:only-of-type {\n",
       "        vertical-align: middle;\n",
       "    }\n",
       "\n",
       "    .dataframe tbody tr th {\n",
       "        vertical-align: top;\n",
       "    }\n",
       "\n",
       "    .dataframe thead th {\n",
       "        text-align: right;\n",
       "    }\n",
       "</style>\n",
       "<table border=\"1\" class=\"dataframe\">\n",
       "  <thead>\n",
       "    <tr style=\"text-align: right;\">\n",
       "      <th></th>\n",
       "      <th>playerID</th>\n",
       "      <th>at_bat</th>\n",
       "      <th>hits</th>\n",
       "      <th>batting_average</th>\n",
       "    </tr>\n",
       "  </thead>\n",
       "  <tbody>\n",
       "    <tr>\n",
       "      <th>0</th>\n",
       "      <td>hazlebo01</td>\n",
       "      <td>134</td>\n",
       "      <td>54</td>\n",
       "      <td>0.402985</td>\n",
       "    </tr>\n",
       "    <tr>\n",
       "      <th>1</th>\n",
       "      <td>daviscu01</td>\n",
       "      <td>105</td>\n",
       "      <td>40</td>\n",
       "      <td>0.380952</td>\n",
       "    </tr>\n",
       "    <tr>\n",
       "      <th>2</th>\n",
       "      <td>fishesh01</td>\n",
       "      <td>254</td>\n",
       "      <td>95</td>\n",
       "      <td>0.374016</td>\n",
       "    </tr>\n",
       "    <tr>\n",
       "      <th>3</th>\n",
       "      <td>woltery01</td>\n",
       "      <td>138</td>\n",
       "      <td>51</td>\n",
       "      <td>0.369565</td>\n",
       "    </tr>\n",
       "    <tr>\n",
       "      <th>4</th>\n",
       "      <td>cobbty01</td>\n",
       "      <td>11436</td>\n",
       "      <td>4189</td>\n",
       "      <td>0.366299</td>\n",
       "    </tr>\n",
       "  </tbody>\n",
       "</table>\n",
       "</div>"
      ],
      "text/plain": [
       "    playerID  at_bat  hits  batting_average\n",
       "0  hazlebo01     134    54         0.402985\n",
       "1  daviscu01     105    40         0.380952\n",
       "2  fishesh01     254    95         0.374016\n",
       "3  woltery01     138    51         0.369565\n",
       "4   cobbty01   11436  4189         0.366299"
      ]
     },
     "execution_count": 27,
     "metadata": {},
     "output_type": "execute_result"
    }
   ],
   "source": [
    "q = \"\"\"--sql\n",
    "    SELECT playerID, yearID, H AS hits, AB AS at_bat\n",
    "    FROM batting\n",
    "    WHERE AB >= 100\n",
    "    \"\"\"\n",
    "\n",
    "high_batting_avgs = pd.read_sql_query(q, con)\n",
    "high_batters = (\n",
    "    high_batting_avgs.groupby(\"playerID\")\n",
    "    .agg(at_bat=(\"at_bat\", \"sum\"), hits=(\"hits\", \"sum\"))\n",
    "    .assign(batting_average=lambda x: x.hits / x.at_bat)\n",
    ")\n",
    "high_batters.sort_values(\"batting_average\", ascending=False).head().reset_index()"
   ]
  },
  {
   "cell_type": "code",
   "execution_count": 28,
   "metadata": {},
   "outputs": [
    {
     "data": {
      "text/html": [
       "<div>\n",
       "<style scoped>\n",
       "    .dataframe tbody tr th:only-of-type {\n",
       "        vertical-align: middle;\n",
       "    }\n",
       "\n",
       "    .dataframe tbody tr th {\n",
       "        vertical-align: top;\n",
       "    }\n",
       "\n",
       "    .dataframe thead th {\n",
       "        text-align: right;\n",
       "    }\n",
       "</style>\n",
       "<table border=\"1\" class=\"dataframe\">\n",
       "  <thead>\n",
       "    <tr style=\"text-align: right;\">\n",
       "      <th></th>\n",
       "      <th>ID</th>\n",
       "      <th>yearID</th>\n",
       "      <th>lgID</th>\n",
       "      <th>teamID</th>\n",
       "      <th>franchID</th>\n",
       "      <th>divID</th>\n",
       "      <th>div_ID</th>\n",
       "      <th>teamRank</th>\n",
       "      <th>G</th>\n",
       "      <th>Ghome</th>\n",
       "      <th>...</th>\n",
       "      <th>DP</th>\n",
       "      <th>FP</th>\n",
       "      <th>name</th>\n",
       "      <th>park</th>\n",
       "      <th>attendance</th>\n",
       "      <th>BPF</th>\n",
       "      <th>PPF</th>\n",
       "      <th>teamIDBR</th>\n",
       "      <th>teamIDlahman45</th>\n",
       "      <th>teamIDretro</th>\n",
       "    </tr>\n",
       "  </thead>\n",
       "  <tbody>\n",
       "    <tr>\n",
       "      <th>0</th>\n",
       "      <td>1</td>\n",
       "      <td>1871</td>\n",
       "      <td>NA</td>\n",
       "      <td>BS1</td>\n",
       "      <td>BNA</td>\n",
       "      <td>None</td>\n",
       "      <td>NaN</td>\n",
       "      <td>3</td>\n",
       "      <td>31</td>\n",
       "      <td>NaN</td>\n",
       "      <td>...</td>\n",
       "      <td>24</td>\n",
       "      <td>0.834</td>\n",
       "      <td>Boston Red Stockings</td>\n",
       "      <td>South End Grounds I</td>\n",
       "      <td>NaN</td>\n",
       "      <td>103</td>\n",
       "      <td>98</td>\n",
       "      <td>BOS</td>\n",
       "      <td>BS1</td>\n",
       "      <td>BS1</td>\n",
       "    </tr>\n",
       "    <tr>\n",
       "      <th>1</th>\n",
       "      <td>2</td>\n",
       "      <td>1871</td>\n",
       "      <td>NA</td>\n",
       "      <td>CH1</td>\n",
       "      <td>CNA</td>\n",
       "      <td>None</td>\n",
       "      <td>NaN</td>\n",
       "      <td>2</td>\n",
       "      <td>28</td>\n",
       "      <td>NaN</td>\n",
       "      <td>...</td>\n",
       "      <td>16</td>\n",
       "      <td>0.829</td>\n",
       "      <td>Chicago White Stockings</td>\n",
       "      <td>Union Base-Ball Grounds</td>\n",
       "      <td>NaN</td>\n",
       "      <td>104</td>\n",
       "      <td>102</td>\n",
       "      <td>CHI</td>\n",
       "      <td>CH1</td>\n",
       "      <td>CH1</td>\n",
       "    </tr>\n",
       "    <tr>\n",
       "      <th>2</th>\n",
       "      <td>3</td>\n",
       "      <td>1871</td>\n",
       "      <td>NA</td>\n",
       "      <td>CL1</td>\n",
       "      <td>CFC</td>\n",
       "      <td>None</td>\n",
       "      <td>NaN</td>\n",
       "      <td>8</td>\n",
       "      <td>29</td>\n",
       "      <td>NaN</td>\n",
       "      <td>...</td>\n",
       "      <td>15</td>\n",
       "      <td>0.818</td>\n",
       "      <td>Cleveland Forest Citys</td>\n",
       "      <td>National Association Grounds</td>\n",
       "      <td>NaN</td>\n",
       "      <td>96</td>\n",
       "      <td>100</td>\n",
       "      <td>CLE</td>\n",
       "      <td>CL1</td>\n",
       "      <td>CL1</td>\n",
       "    </tr>\n",
       "    <tr>\n",
       "      <th>3</th>\n",
       "      <td>4</td>\n",
       "      <td>1871</td>\n",
       "      <td>NA</td>\n",
       "      <td>FW1</td>\n",
       "      <td>KEK</td>\n",
       "      <td>None</td>\n",
       "      <td>NaN</td>\n",
       "      <td>7</td>\n",
       "      <td>19</td>\n",
       "      <td>NaN</td>\n",
       "      <td>...</td>\n",
       "      <td>8</td>\n",
       "      <td>0.803</td>\n",
       "      <td>Fort Wayne Kekiongas</td>\n",
       "      <td>Hamilton Field</td>\n",
       "      <td>NaN</td>\n",
       "      <td>101</td>\n",
       "      <td>107</td>\n",
       "      <td>KEK</td>\n",
       "      <td>FW1</td>\n",
       "      <td>FW1</td>\n",
       "    </tr>\n",
       "    <tr>\n",
       "      <th>4</th>\n",
       "      <td>5</td>\n",
       "      <td>1871</td>\n",
       "      <td>NA</td>\n",
       "      <td>NY2</td>\n",
       "      <td>NNA</td>\n",
       "      <td>None</td>\n",
       "      <td>NaN</td>\n",
       "      <td>5</td>\n",
       "      <td>33</td>\n",
       "      <td>NaN</td>\n",
       "      <td>...</td>\n",
       "      <td>14</td>\n",
       "      <td>0.840</td>\n",
       "      <td>New York Mutuals</td>\n",
       "      <td>Union Grounds (Brooklyn)</td>\n",
       "      <td>NaN</td>\n",
       "      <td>90</td>\n",
       "      <td>88</td>\n",
       "      <td>NYU</td>\n",
       "      <td>NY2</td>\n",
       "      <td>NY2</td>\n",
       "    </tr>\n",
       "    <tr>\n",
       "      <th>...</th>\n",
       "      <td>...</td>\n",
       "      <td>...</td>\n",
       "      <td>...</td>\n",
       "      <td>...</td>\n",
       "      <td>...</td>\n",
       "      <td>...</td>\n",
       "      <td>...</td>\n",
       "      <td>...</td>\n",
       "      <td>...</td>\n",
       "      <td>...</td>\n",
       "      <td>...</td>\n",
       "      <td>...</td>\n",
       "      <td>...</td>\n",
       "      <td>...</td>\n",
       "      <td>...</td>\n",
       "      <td>...</td>\n",
       "      <td>...</td>\n",
       "      <td>...</td>\n",
       "      <td>...</td>\n",
       "      <td>...</td>\n",
       "      <td>...</td>\n",
       "    </tr>\n",
       "    <tr>\n",
       "      <th>2920</th>\n",
       "      <td>2921</td>\n",
       "      <td>2019</td>\n",
       "      <td>NL</td>\n",
       "      <td>SLN</td>\n",
       "      <td>STL</td>\n",
       "      <td>C</td>\n",
       "      <td>6.0</td>\n",
       "      <td>1</td>\n",
       "      <td>162</td>\n",
       "      <td>81.0</td>\n",
       "      <td>...</td>\n",
       "      <td>168</td>\n",
       "      <td>0.989</td>\n",
       "      <td>St. Louis Cardinals</td>\n",
       "      <td>Busch Stadium III</td>\n",
       "      <td>3480393.0</td>\n",
       "      <td>98</td>\n",
       "      <td>97</td>\n",
       "      <td>STL</td>\n",
       "      <td>SLN</td>\n",
       "      <td>SLN</td>\n",
       "    </tr>\n",
       "    <tr>\n",
       "      <th>2921</th>\n",
       "      <td>2922</td>\n",
       "      <td>2019</td>\n",
       "      <td>AL</td>\n",
       "      <td>TBA</td>\n",
       "      <td>TBD</td>\n",
       "      <td>E</td>\n",
       "      <td>1.0</td>\n",
       "      <td>2</td>\n",
       "      <td>162</td>\n",
       "      <td>81.0</td>\n",
       "      <td>...</td>\n",
       "      <td>126</td>\n",
       "      <td>0.985</td>\n",
       "      <td>Tampa Bay Rays</td>\n",
       "      <td>Tropicana Field</td>\n",
       "      <td>1178735.0</td>\n",
       "      <td>97</td>\n",
       "      <td>96</td>\n",
       "      <td>TBR</td>\n",
       "      <td>TBA</td>\n",
       "      <td>TBA</td>\n",
       "    </tr>\n",
       "    <tr>\n",
       "      <th>2922</th>\n",
       "      <td>2923</td>\n",
       "      <td>2019</td>\n",
       "      <td>AL</td>\n",
       "      <td>TEX</td>\n",
       "      <td>TEX</td>\n",
       "      <td>W</td>\n",
       "      <td>2.0</td>\n",
       "      <td>3</td>\n",
       "      <td>162</td>\n",
       "      <td>81.0</td>\n",
       "      <td>...</td>\n",
       "      <td>143</td>\n",
       "      <td>0.982</td>\n",
       "      <td>Texas Rangers</td>\n",
       "      <td>Globe Life Park in Arlington</td>\n",
       "      <td>2132994.0</td>\n",
       "      <td>111</td>\n",
       "      <td>112</td>\n",
       "      <td>TEX</td>\n",
       "      <td>TEX</td>\n",
       "      <td>TEX</td>\n",
       "    </tr>\n",
       "    <tr>\n",
       "      <th>2923</th>\n",
       "      <td>2924</td>\n",
       "      <td>2019</td>\n",
       "      <td>AL</td>\n",
       "      <td>TOR</td>\n",
       "      <td>TOR</td>\n",
       "      <td>E</td>\n",
       "      <td>1.0</td>\n",
       "      <td>4</td>\n",
       "      <td>162</td>\n",
       "      <td>81.0</td>\n",
       "      <td>...</td>\n",
       "      <td>141</td>\n",
       "      <td>0.984</td>\n",
       "      <td>Toronto Blue Jays</td>\n",
       "      <td>Rogers Centre</td>\n",
       "      <td>1750114.0</td>\n",
       "      <td>97</td>\n",
       "      <td>98</td>\n",
       "      <td>TOR</td>\n",
       "      <td>TOR</td>\n",
       "      <td>TOR</td>\n",
       "    </tr>\n",
       "    <tr>\n",
       "      <th>2924</th>\n",
       "      <td>2925</td>\n",
       "      <td>2019</td>\n",
       "      <td>NL</td>\n",
       "      <td>WAS</td>\n",
       "      <td>WSN</td>\n",
       "      <td>E</td>\n",
       "      <td>4.0</td>\n",
       "      <td>2</td>\n",
       "      <td>162</td>\n",
       "      <td>81.0</td>\n",
       "      <td>...</td>\n",
       "      <td>111</td>\n",
       "      <td>0.985</td>\n",
       "      <td>Washington Nationals</td>\n",
       "      <td>Nationals Park</td>\n",
       "      <td>2259781.0</td>\n",
       "      <td>106</td>\n",
       "      <td>104</td>\n",
       "      <td>WSN</td>\n",
       "      <td>MON</td>\n",
       "      <td>WAS</td>\n",
       "    </tr>\n",
       "  </tbody>\n",
       "</table>\n",
       "<p>2925 rows × 50 columns</p>\n",
       "</div>"
      ],
      "text/plain": [
       "        ID  yearID lgID teamID franchID divID  div_ID  teamRank    G  Ghome  \\\n",
       "0        1    1871   NA    BS1      BNA  None     NaN         3   31    NaN   \n",
       "1        2    1871   NA    CH1      CNA  None     NaN         2   28    NaN   \n",
       "2        3    1871   NA    CL1      CFC  None     NaN         8   29    NaN   \n",
       "3        4    1871   NA    FW1      KEK  None     NaN         7   19    NaN   \n",
       "4        5    1871   NA    NY2      NNA  None     NaN         5   33    NaN   \n",
       "...    ...     ...  ...    ...      ...   ...     ...       ...  ...    ...   \n",
       "2920  2921    2019   NL    SLN      STL     C     6.0         1  162   81.0   \n",
       "2921  2922    2019   AL    TBA      TBD     E     1.0         2  162   81.0   \n",
       "2922  2923    2019   AL    TEX      TEX     W     2.0         3  162   81.0   \n",
       "2923  2924    2019   AL    TOR      TOR     E     1.0         4  162   81.0   \n",
       "2924  2925    2019   NL    WAS      WSN     E     4.0         2  162   81.0   \n",
       "\n",
       "      ...   DP     FP                     name                          park  \\\n",
       "0     ...   24  0.834     Boston Red Stockings           South End Grounds I   \n",
       "1     ...   16  0.829  Chicago White Stockings       Union Base-Ball Grounds   \n",
       "2     ...   15  0.818   Cleveland Forest Citys  National Association Grounds   \n",
       "3     ...    8  0.803     Fort Wayne Kekiongas                Hamilton Field   \n",
       "4     ...   14  0.840         New York Mutuals      Union Grounds (Brooklyn)   \n",
       "...   ...  ...    ...                      ...                           ...   \n",
       "2920  ...  168  0.989      St. Louis Cardinals             Busch Stadium III   \n",
       "2921  ...  126  0.985           Tampa Bay Rays               Tropicana Field   \n",
       "2922  ...  143  0.982            Texas Rangers  Globe Life Park in Arlington   \n",
       "2923  ...  141  0.984        Toronto Blue Jays                 Rogers Centre   \n",
       "2924  ...  111  0.985     Washington Nationals                Nationals Park   \n",
       "\n",
       "     attendance  BPF  PPF  teamIDBR  teamIDlahman45  teamIDretro  \n",
       "0           NaN  103   98       BOS             BS1          BS1  \n",
       "1           NaN  104  102       CHI             CH1          CH1  \n",
       "2           NaN   96  100       CLE             CL1          CL1  \n",
       "3           NaN  101  107       KEK             FW1          FW1  \n",
       "4           NaN   90   88       NYU             NY2          NY2  \n",
       "...         ...  ...  ...       ...             ...          ...  \n",
       "2920  3480393.0   98   97       STL             SLN          SLN  \n",
       "2921  1178735.0   97   96       TBR             TBA          TBA  \n",
       "2922  2132994.0  111  112       TEX             TEX          TEX  \n",
       "2923  1750114.0   97   98       TOR             TOR          TOR  \n",
       "2924  2259781.0  106  104       WSN             MON          WAS  \n",
       "\n",
       "[2925 rows x 50 columns]"
      ]
     },
     "execution_count": 28,
     "metadata": {},
     "output_type": "execute_result"
    }
   ],
   "source": [
    "q = \"\"\"--sql\n",
    "    SELECT * FROM teams\n",
    "    \"\"\"\n",
    "\n",
    "mlb_players = pd.read_sql_query(q, con)\n",
    "mlb_players"
   ]
  },
  {
   "cell_type": "code",
   "execution_count": 29,
   "metadata": {},
   "outputs": [
    {
     "data": {
      "text/html": [
       "<div>\n",
       "<style scoped>\n",
       "    .dataframe tbody tr th:only-of-type {\n",
       "        vertical-align: middle;\n",
       "    }\n",
       "\n",
       "    .dataframe tbody tr th {\n",
       "        vertical-align: top;\n",
       "    }\n",
       "\n",
       "    .dataframe thead th {\n",
       "        text-align: right;\n",
       "    }\n",
       "</style>\n",
       "<table border=\"1\" class=\"dataframe\">\n",
       "  <thead>\n",
       "    <tr style=\"text-align: right;\">\n",
       "      <th></th>\n",
       "      <th>Year</th>\n",
       "      <th>Team ID</th>\n",
       "      <th>Team Name</th>\n",
       "      <th>Player ID</th>\n",
       "      <th>Player Name</th>\n",
       "      <th>Position</th>\n",
       "      <th>Salary</th>\n",
       "    </tr>\n",
       "  </thead>\n",
       "  <tbody>\n",
       "    <tr>\n",
       "      <th>0</th>\n",
       "      <td>1985</td>\n",
       "      <td>ATL</td>\n",
       "      <td>Atlanta Braves</td>\n",
       "      <td>barkele01</td>\n",
       "      <td>Leonard Harold</td>\n",
       "      <td>P</td>\n",
       "      <td>870000.0</td>\n",
       "    </tr>\n",
       "    <tr>\n",
       "      <th>1</th>\n",
       "      <td>1985</td>\n",
       "      <td>ATL</td>\n",
       "      <td>Atlanta Braves</td>\n",
       "      <td>barkele01</td>\n",
       "      <td>Leonard Harold</td>\n",
       "      <td>P</td>\n",
       "      <td>870000.0</td>\n",
       "    </tr>\n",
       "    <tr>\n",
       "      <th>2</th>\n",
       "      <td>1985</td>\n",
       "      <td>ATL</td>\n",
       "      <td>Atlanta Braves</td>\n",
       "      <td>barkele01</td>\n",
       "      <td>Leonard Harold</td>\n",
       "      <td>P</td>\n",
       "      <td>870000.0</td>\n",
       "    </tr>\n",
       "    <tr>\n",
       "      <th>3</th>\n",
       "      <td>1985</td>\n",
       "      <td>ATL</td>\n",
       "      <td>Atlanta Braves</td>\n",
       "      <td>barkele01</td>\n",
       "      <td>Leonard Harold</td>\n",
       "      <td>P</td>\n",
       "      <td>870000.0</td>\n",
       "    </tr>\n",
       "    <tr>\n",
       "      <th>4</th>\n",
       "      <td>1985</td>\n",
       "      <td>ATL</td>\n",
       "      <td>Atlanta Braves</td>\n",
       "      <td>barkele01</td>\n",
       "      <td>Leonard Harold</td>\n",
       "      <td>P</td>\n",
       "      <td>870000.0</td>\n",
       "    </tr>\n",
       "    <tr>\n",
       "      <th>...</th>\n",
       "      <td>...</td>\n",
       "      <td>...</td>\n",
       "      <td>...</td>\n",
       "      <td>...</td>\n",
       "      <td>...</td>\n",
       "      <td>...</td>\n",
       "      <td>...</td>\n",
       "    </tr>\n",
       "    <tr>\n",
       "      <th>2493621</th>\n",
       "      <td>2016</td>\n",
       "      <td>WAS</td>\n",
       "      <td>Washington Senators</td>\n",
       "      <td>zimmery01</td>\n",
       "      <td>Ryan Wallace</td>\n",
       "      <td>1B</td>\n",
       "      <td>14000000.0</td>\n",
       "    </tr>\n",
       "    <tr>\n",
       "      <th>2493622</th>\n",
       "      <td>2016</td>\n",
       "      <td>WAS</td>\n",
       "      <td>Washington Senators</td>\n",
       "      <td>zimmery01</td>\n",
       "      <td>Ryan Wallace</td>\n",
       "      <td>1B</td>\n",
       "      <td>14000000.0</td>\n",
       "    </tr>\n",
       "    <tr>\n",
       "      <th>2493623</th>\n",
       "      <td>2016</td>\n",
       "      <td>WAS</td>\n",
       "      <td>Washington Senators</td>\n",
       "      <td>zimmery01</td>\n",
       "      <td>Ryan Wallace</td>\n",
       "      <td>1B</td>\n",
       "      <td>14000000.0</td>\n",
       "    </tr>\n",
       "    <tr>\n",
       "      <th>2493624</th>\n",
       "      <td>2016</td>\n",
       "      <td>WAS</td>\n",
       "      <td>Washington Senators</td>\n",
       "      <td>zimmery01</td>\n",
       "      <td>Ryan Wallace</td>\n",
       "      <td>1B</td>\n",
       "      <td>14000000.0</td>\n",
       "    </tr>\n",
       "    <tr>\n",
       "      <th>2493625</th>\n",
       "      <td>2016</td>\n",
       "      <td>WAS</td>\n",
       "      <td>Washington Senators</td>\n",
       "      <td>zimmery01</td>\n",
       "      <td>Ryan Wallace</td>\n",
       "      <td>1B</td>\n",
       "      <td>14000000.0</td>\n",
       "    </tr>\n",
       "  </tbody>\n",
       "</table>\n",
       "<p>2493626 rows × 7 columns</p>\n",
       "</div>"
      ],
      "text/plain": [
       "         Year Team ID            Team Name  Player ID     Player Name  \\\n",
       "0        1985     ATL       Atlanta Braves  barkele01  Leonard Harold   \n",
       "1        1985     ATL       Atlanta Braves  barkele01  Leonard Harold   \n",
       "2        1985     ATL       Atlanta Braves  barkele01  Leonard Harold   \n",
       "3        1985     ATL       Atlanta Braves  barkele01  Leonard Harold   \n",
       "4        1985     ATL       Atlanta Braves  barkele01  Leonard Harold   \n",
       "...       ...     ...                  ...        ...             ...   \n",
       "2493621  2016     WAS  Washington Senators  zimmery01    Ryan Wallace   \n",
       "2493622  2016     WAS  Washington Senators  zimmery01    Ryan Wallace   \n",
       "2493623  2016     WAS  Washington Senators  zimmery01    Ryan Wallace   \n",
       "2493624  2016     WAS  Washington Senators  zimmery01    Ryan Wallace   \n",
       "2493625  2016     WAS  Washington Senators  zimmery01    Ryan Wallace   \n",
       "\n",
       "        Position      Salary  \n",
       "0              P    870000.0  \n",
       "1              P    870000.0  \n",
       "2              P    870000.0  \n",
       "3              P    870000.0  \n",
       "4              P    870000.0  \n",
       "...          ...         ...  \n",
       "2493621       1B  14000000.0  \n",
       "2493622       1B  14000000.0  \n",
       "2493623       1B  14000000.0  \n",
       "2493624       1B  14000000.0  \n",
       "2493625       1B  14000000.0  \n",
       "\n",
       "[2493626 rows x 7 columns]"
      ]
     },
     "execution_count": 29,
     "metadata": {},
     "output_type": "execute_result"
    }
   ],
   "source": [
    "q = \"\"\"--sql\n",
    "    SELECT salaries.yearID AS `Year`, \n",
    "           salaries.teamID AS `Team ID`,\n",
    "           teams.name AS `Team Name`,\n",
    "           salaries.playerID AS `Player ID`, \n",
    "           people.nameGiven AS `Player Name`,\n",
    "           fielding.POS as `Position`,\n",
    "           salaries.salary AS `Salary`\n",
    "    FROM salaries\n",
    "    JOIN fielding\n",
    "        USING (yearID, teamID, playerID)\n",
    "    INNER JOIN people on salaries.playerID=people.playerID\n",
    "    INNER JOIN teams on salaries.teamID=teams.teamID\n",
    "    \"\"\"\n",
    "\n",
    "teams_players_pos = pd.read_sql_query(q, con)\n",
    "teams_players_pos"
   ]
  },
  {
   "cell_type": "code",
   "execution_count": 30,
   "metadata": {},
   "outputs": [
    {
     "data": {
      "text/html": [
       "<div>\n",
       "<style scoped>\n",
       "    .dataframe tbody tr th:only-of-type {\n",
       "        vertical-align: middle;\n",
       "    }\n",
       "\n",
       "    .dataframe tbody tr th {\n",
       "        vertical-align: top;\n",
       "    }\n",
       "\n",
       "    .dataframe thead th {\n",
       "        text-align: right;\n",
       "    }\n",
       "</style>\n",
       "<table border=\"1\" class=\"dataframe\">\n",
       "  <thead>\n",
       "    <tr style=\"text-align: right;\">\n",
       "      <th></th>\n",
       "      <th>Year</th>\n",
       "      <th>Team</th>\n",
       "      <th>Player ID</th>\n",
       "      <th>Player Name</th>\n",
       "      <th>Position</th>\n",
       "      <th>Salary</th>\n",
       "    </tr>\n",
       "  </thead>\n",
       "  <tbody>\n",
       "    <tr>\n",
       "      <th>0</th>\n",
       "      <td>1985</td>\n",
       "      <td>Boston Red Sox</td>\n",
       "      <td>armasto01</td>\n",
       "      <td>Antonio Rafael</td>\n",
       "      <td>OF</td>\n",
       "      <td>915000.0</td>\n",
       "    </tr>\n",
       "    <tr>\n",
       "      <th>1</th>\n",
       "      <td>1985</td>\n",
       "      <td>Boston Red Sox</td>\n",
       "      <td>barrema02</td>\n",
       "      <td>Martin Glenn</td>\n",
       "      <td>2B</td>\n",
       "      <td>272500.0</td>\n",
       "    </tr>\n",
       "    <tr>\n",
       "      <th>2</th>\n",
       "      <td>1985</td>\n",
       "      <td>Boston Red Sox</td>\n",
       "      <td>boggswa01</td>\n",
       "      <td>Wade Anthony</td>\n",
       "      <td>3B</td>\n",
       "      <td>1000000.0</td>\n",
       "    </tr>\n",
       "    <tr>\n",
       "      <th>3</th>\n",
       "      <td>1985</td>\n",
       "      <td>Boston Red Sox</td>\n",
       "      <td>boydoi01</td>\n",
       "      <td>Dennis Ray</td>\n",
       "      <td>P</td>\n",
       "      <td>177500.0</td>\n",
       "    </tr>\n",
       "    <tr>\n",
       "      <th>4</th>\n",
       "      <td>1985</td>\n",
       "      <td>Boston Red Sox</td>\n",
       "      <td>bucknbi01</td>\n",
       "      <td>William Joseph</td>\n",
       "      <td>1B</td>\n",
       "      <td>747500.0</td>\n",
       "    </tr>\n",
       "    <tr>\n",
       "      <th>...</th>\n",
       "      <td>...</td>\n",
       "      <td>...</td>\n",
       "      <td>...</td>\n",
       "      <td>...</td>\n",
       "      <td>...</td>\n",
       "      <td>...</td>\n",
       "    </tr>\n",
       "    <tr>\n",
       "      <th>2336</th>\n",
       "      <td>2016</td>\n",
       "      <td>New York Yankees</td>\n",
       "      <td>torrero01</td>\n",
       "      <td>Ronald Alcides</td>\n",
       "      <td>3B</td>\n",
       "      <td>508600.0</td>\n",
       "    </tr>\n",
       "    <tr>\n",
       "      <th>2337</th>\n",
       "      <td>2016</td>\n",
       "      <td>New York Yankees</td>\n",
       "      <td>torrero01</td>\n",
       "      <td>Ronald Alcides</td>\n",
       "      <td>OF</td>\n",
       "      <td>508600.0</td>\n",
       "    </tr>\n",
       "    <tr>\n",
       "      <th>2338</th>\n",
       "      <td>2016</td>\n",
       "      <td>New York Yankees</td>\n",
       "      <td>torrero01</td>\n",
       "      <td>Ronald Alcides</td>\n",
       "      <td>SS</td>\n",
       "      <td>508600.0</td>\n",
       "    </tr>\n",
       "    <tr>\n",
       "      <th>2339</th>\n",
       "      <td>2016</td>\n",
       "      <td>New York Yankees</td>\n",
       "      <td>willima07</td>\n",
       "      <td>Mason</td>\n",
       "      <td>OF</td>\n",
       "      <td>509700.0</td>\n",
       "    </tr>\n",
       "    <tr>\n",
       "      <th>2340</th>\n",
       "      <td>2016</td>\n",
       "      <td>New York Yankees</td>\n",
       "      <td>yateski01</td>\n",
       "      <td>Kirby Kali</td>\n",
       "      <td>P</td>\n",
       "      <td>511900.0</td>\n",
       "    </tr>\n",
       "  </tbody>\n",
       "</table>\n",
       "<p>2341 rows × 6 columns</p>\n",
       "</div>"
      ],
      "text/plain": [
       "      Year              Team  Player ID     Player Name Position     Salary\n",
       "0     1985    Boston Red Sox  armasto01  Antonio Rafael       OF   915000.0\n",
       "1     1985    Boston Red Sox  barrema02    Martin Glenn       2B   272500.0\n",
       "2     1985    Boston Red Sox  boggswa01    Wade Anthony       3B  1000000.0\n",
       "3     1985    Boston Red Sox   boydoi01      Dennis Ray        P   177500.0\n",
       "4     1985    Boston Red Sox  bucknbi01  William Joseph       1B   747500.0\n",
       "...    ...               ...        ...             ...      ...        ...\n",
       "2336  2016  New York Yankees  torrero01  Ronald Alcides       3B   508600.0\n",
       "2337  2016  New York Yankees  torrero01  Ronald Alcides       OF   508600.0\n",
       "2338  2016  New York Yankees  torrero01  Ronald Alcides       SS   508600.0\n",
       "2339  2016  New York Yankees  willima07           Mason       OF   509700.0\n",
       "2340  2016  New York Yankees  yateski01      Kirby Kali        P   511900.0\n",
       "\n",
       "[2341 rows x 6 columns]"
      ]
     },
     "execution_count": 30,
     "metadata": {},
     "output_type": "execute_result"
    }
   ],
   "source": [
    "q = \"\"\"--sql\n",
    "    SELECT salaries.yearID AS `Year`,\n",
    "           salaries.teamID AS `Team`,\n",
    "           salaries.playerID AS `Player ID`,\n",
    "           people.nameGiven AS `Player Name`,\n",
    "           fielding.POS as `Position`,\n",
    "           salaries.salary AS `Salary`\n",
    "    FROM salaries\n",
    "    JOIN fielding\n",
    "        USING (yearID, teamID, playerID)\n",
    "    INNER JOIN people on salaries.playerID=people.playerID\n",
    "    WHERE salaries.teamID IN ('BOS', 'NYA')\n",
    "    \"\"\"\n",
    "\n",
    "mlb_players = pd.read_sql_query(q, con)\n",
    "mlb_players[\"Team\"] = mlb_players[\"Team\"].replace(\n",
    "    [\"BOS\", \"NYA\"], [\"Boston Red Sox\", \"New York Yankees\"]\n",
    ")\n",
    "mlb_players"
   ]
  },
  {
   "cell_type": "code",
   "execution_count": 31,
   "metadata": {},
   "outputs": [
    {
     "data": {
      "text/html": [
       "<div>\n",
       "<style scoped>\n",
       "    .dataframe tbody tr th:only-of-type {\n",
       "        vertical-align: middle;\n",
       "    }\n",
       "\n",
       "    .dataframe tbody tr th {\n",
       "        vertical-align: top;\n",
       "    }\n",
       "\n",
       "    .dataframe thead th {\n",
       "        text-align: right;\n",
       "    }\n",
       "</style>\n",
       "<table border=\"1\" class=\"dataframe\">\n",
       "  <thead>\n",
       "    <tr style=\"text-align: right;\">\n",
       "      <th></th>\n",
       "      <th>Year</th>\n",
       "      <th>Team</th>\n",
       "      <th>avg_salary</th>\n",
       "    </tr>\n",
       "  </thead>\n",
       "  <tbody>\n",
       "    <tr>\n",
       "      <th>0</th>\n",
       "      <td>1985</td>\n",
       "      <td>Boston Red Sox</td>\n",
       "      <td>397640.90</td>\n",
       "    </tr>\n",
       "    <tr>\n",
       "      <th>1</th>\n",
       "      <td>1985</td>\n",
       "      <td>New York Yankees</td>\n",
       "      <td>665985.90</td>\n",
       "    </tr>\n",
       "    <tr>\n",
       "      <th>2</th>\n",
       "      <td>1986</td>\n",
       "      <td>Boston Red Sox</td>\n",
       "      <td>476053.75</td>\n",
       "    </tr>\n",
       "    <tr>\n",
       "      <th>3</th>\n",
       "      <td>1986</td>\n",
       "      <td>New York Yankees</td>\n",
       "      <td>653034.33</td>\n",
       "    </tr>\n",
       "    <tr>\n",
       "      <th>4</th>\n",
       "      <td>1987</td>\n",
       "      <td>Boston Red Sox</td>\n",
       "      <td>677583.35</td>\n",
       "    </tr>\n",
       "    <tr>\n",
       "      <th>...</th>\n",
       "      <td>...</td>\n",
       "      <td>...</td>\n",
       "      <td>...</td>\n",
       "    </tr>\n",
       "    <tr>\n",
       "      <th>59</th>\n",
       "      <td>2014</td>\n",
       "      <td>New York Yankees</td>\n",
       "      <td>7637700.23</td>\n",
       "    </tr>\n",
       "    <tr>\n",
       "      <th>60</th>\n",
       "      <td>2015</td>\n",
       "      <td>Boston Red Sox</td>\n",
       "      <td>5270895.00</td>\n",
       "    </tr>\n",
       "    <tr>\n",
       "      <th>61</th>\n",
       "      <td>2015</td>\n",
       "      <td>New York Yankees</td>\n",
       "      <td>6878417.60</td>\n",
       "    </tr>\n",
       "    <tr>\n",
       "      <th>62</th>\n",
       "      <td>2016</td>\n",
       "      <td>Boston Red Sox</td>\n",
       "      <td>5628610.62</td>\n",
       "    </tr>\n",
       "    <tr>\n",
       "      <th>63</th>\n",
       "      <td>2016</td>\n",
       "      <td>New York Yankees</td>\n",
       "      <td>7105873.17</td>\n",
       "    </tr>\n",
       "  </tbody>\n",
       "</table>\n",
       "<p>64 rows × 3 columns</p>\n",
       "</div>"
      ],
      "text/plain": [
       "    Year              Team  avg_salary\n",
       "0   1985    Boston Red Sox   397640.90\n",
       "1   1985  New York Yankees   665985.90\n",
       "2   1986    Boston Red Sox   476053.75\n",
       "3   1986  New York Yankees   653034.33\n",
       "4   1987    Boston Red Sox   677583.35\n",
       "..   ...               ...         ...\n",
       "59  2014  New York Yankees  7637700.23\n",
       "60  2015    Boston Red Sox  5270895.00\n",
       "61  2015  New York Yankees  6878417.60\n",
       "62  2016    Boston Red Sox  5628610.62\n",
       "63  2016  New York Yankees  7105873.17\n",
       "\n",
       "[64 rows x 3 columns]"
      ]
     },
     "execution_count": 31,
     "metadata": {},
     "output_type": "execute_result"
    }
   ],
   "source": [
    "avg_player_salary = (\n",
    "    mlb_players.groupby([\"Year\", \"Team\"]).agg(avg_salary=(\"Salary\", np.mean))\n",
    ").reset_index()\n",
    "avg_player_salary[\"avg_salary\"] = avg_player_salary[\"avg_salary\"].map(\n",
    "    lambda x: float(f\"{x:.2f}\")\n",
    ")\n",
    "avg_player_salary"
   ]
  },
  {
   "cell_type": "code",
   "execution_count": 32,
   "metadata": {},
   "outputs": [
    {
     "data": {
      "application/vnd.plotly.v1+json": {
       "config": {
        "plotlyServerURL": "https://plot.ly"
       },
       "data": [
        {
         "alignmentgroup": "True",
         "hovertemplate": "Team=Boston Red Sox<br>Year=%{x}<br>avg_salary=%{y}<extra></extra>",
         "legendgroup": "Boston Red Sox",
         "marker": {
          "color": "#BD3039",
          "pattern": {
           "shape": ""
          }
         },
         "name": "Boston Red Sox",
         "offsetgroup": "Boston Red Sox",
         "orientation": "v",
         "showlegend": true,
         "textposition": "auto",
         "texttemplate": "%{y:$.2s}",
         "type": "bar",
         "x": [
          1985,
          1986,
          1987,
          1988,
          1989,
          1990,
          1991,
          1992,
          1993,
          1994,
          1995,
          1996,
          1997,
          1998,
          1999,
          2000,
          2001,
          2002,
          2003,
          2004,
          2005,
          2006,
          2007,
          2008,
          2009,
          2010,
          2011,
          2012,
          2013,
          2014,
          2015,
          2016
         ],
         "xaxis": "x",
         "y": [
          397640.9,
          476053.75,
          677583.35,
          562503.07,
          474837.84,
          623114.03,
          972960.53,
          1255389.6,
          975990.93,
          997071.78,
          741532.3,
          971461.54,
          1339255.95,
          1529862.5,
          1782797.62,
          2490540.39,
          3483771.92,
          3498413.53,
          3130257.14,
          3660594.59,
          3745871.53,
          4068839.48,
          4631474.65,
          4194839.84,
          3357714.26,
          5944213.67,
          5518602.21,
          4762201.44,
          4188750,
          3647350.66,
          5270895,
          5628610.62
         ],
         "yaxis": "y"
        },
        {
         "alignmentgroup": "True",
         "hovertemplate": "Team=New York Yankees<br>Year=%{x}<br>avg_salary=%{y}<extra></extra>",
         "legendgroup": "New York Yankees",
         "marker": {
          "color": "#003087",
          "pattern": {
           "shape": ""
          }
         },
         "name": "New York Yankees",
         "offsetgroup": "New York Yankees",
         "orientation": "v",
         "showlegend": true,
         "textposition": "auto",
         "texttemplate": "%{y:$.2s}",
         "type": "bar",
         "x": [
          1985,
          1986,
          1987,
          1988,
          1989,
          1990,
          1991,
          1992,
          1993,
          1994,
          1995,
          1996,
          1997,
          1998,
          1999,
          2000,
          2001,
          2002,
          2003,
          2004,
          2005,
          2006,
          2007,
          2008,
          2009,
          2010,
          2011,
          2012,
          2013,
          2014,
          2015,
          2016
         ],
         "xaxis": "x",
         "y": [
          665985.9,
          653034.33,
          440584.58,
          660030.32,
          526320.66,
          675967.17,
          860393.58,
          917504.07,
          1147995.24,
          1486162.41,
          1338034.14,
          1458304.57,
          2097935.57,
          1831059.85,
          2516206.65,
          2942801.67,
          3528563.03,
          4087624.5,
          5169993.8,
          6359827.14,
          7240642.94,
          6307931.94,
          6062255.42,
          6686787.25,
          6250413.97,
          7150952.78,
          6515511.57,
          6682773.8,
          7984068.62,
          7637700.23,
          6878417.6,
          7105873.17
         ],
         "yaxis": "y"
        }
       ],
       "layout": {
        "barmode": "group",
        "legend": {
         "orientation": "h",
         "title": {
          "text": ""
         },
         "tracegroupgap": 0,
         "x": 0,
         "xanchor": "left",
         "y": 1.125,
         "yanchor": "top"
        },
        "template": {
         "data": {
          "bar": [
           {
            "error_x": {
             "color": "#2a3f5f"
            },
            "error_y": {
             "color": "#2a3f5f"
            },
            "marker": {
             "line": {
              "color": "#E5ECF6",
              "width": 0.5
             },
             "pattern": {
              "fillmode": "overlay",
              "size": 10,
              "solidity": 0.2
             }
            },
            "type": "bar"
           }
          ],
          "barpolar": [
           {
            "marker": {
             "line": {
              "color": "#E5ECF6",
              "width": 0.5
             },
             "pattern": {
              "fillmode": "overlay",
              "size": 10,
              "solidity": 0.2
             }
            },
            "type": "barpolar"
           }
          ],
          "carpet": [
           {
            "aaxis": {
             "endlinecolor": "#2a3f5f",
             "gridcolor": "white",
             "linecolor": "white",
             "minorgridcolor": "white",
             "startlinecolor": "#2a3f5f"
            },
            "baxis": {
             "endlinecolor": "#2a3f5f",
             "gridcolor": "white",
             "linecolor": "white",
             "minorgridcolor": "white",
             "startlinecolor": "#2a3f5f"
            },
            "type": "carpet"
           }
          ],
          "choropleth": [
           {
            "colorbar": {
             "outlinewidth": 0,
             "ticks": ""
            },
            "type": "choropleth"
           }
          ],
          "contour": [
           {
            "colorbar": {
             "outlinewidth": 0,
             "ticks": ""
            },
            "colorscale": [
             [
              0,
              "#0d0887"
             ],
             [
              0.1111111111111111,
              "#46039f"
             ],
             [
              0.2222222222222222,
              "#7201a8"
             ],
             [
              0.3333333333333333,
              "#9c179e"
             ],
             [
              0.4444444444444444,
              "#bd3786"
             ],
             [
              0.5555555555555556,
              "#d8576b"
             ],
             [
              0.6666666666666666,
              "#ed7953"
             ],
             [
              0.7777777777777778,
              "#fb9f3a"
             ],
             [
              0.8888888888888888,
              "#fdca26"
             ],
             [
              1,
              "#f0f921"
             ]
            ],
            "type": "contour"
           }
          ],
          "contourcarpet": [
           {
            "colorbar": {
             "outlinewidth": 0,
             "ticks": ""
            },
            "type": "contourcarpet"
           }
          ],
          "heatmap": [
           {
            "colorbar": {
             "outlinewidth": 0,
             "ticks": ""
            },
            "colorscale": [
             [
              0,
              "#0d0887"
             ],
             [
              0.1111111111111111,
              "#46039f"
             ],
             [
              0.2222222222222222,
              "#7201a8"
             ],
             [
              0.3333333333333333,
              "#9c179e"
             ],
             [
              0.4444444444444444,
              "#bd3786"
             ],
             [
              0.5555555555555556,
              "#d8576b"
             ],
             [
              0.6666666666666666,
              "#ed7953"
             ],
             [
              0.7777777777777778,
              "#fb9f3a"
             ],
             [
              0.8888888888888888,
              "#fdca26"
             ],
             [
              1,
              "#f0f921"
             ]
            ],
            "type": "heatmap"
           }
          ],
          "heatmapgl": [
           {
            "colorbar": {
             "outlinewidth": 0,
             "ticks": ""
            },
            "colorscale": [
             [
              0,
              "#0d0887"
             ],
             [
              0.1111111111111111,
              "#46039f"
             ],
             [
              0.2222222222222222,
              "#7201a8"
             ],
             [
              0.3333333333333333,
              "#9c179e"
             ],
             [
              0.4444444444444444,
              "#bd3786"
             ],
             [
              0.5555555555555556,
              "#d8576b"
             ],
             [
              0.6666666666666666,
              "#ed7953"
             ],
             [
              0.7777777777777778,
              "#fb9f3a"
             ],
             [
              0.8888888888888888,
              "#fdca26"
             ],
             [
              1,
              "#f0f921"
             ]
            ],
            "type": "heatmapgl"
           }
          ],
          "histogram": [
           {
            "marker": {
             "pattern": {
              "fillmode": "overlay",
              "size": 10,
              "solidity": 0.2
             }
            },
            "type": "histogram"
           }
          ],
          "histogram2d": [
           {
            "colorbar": {
             "outlinewidth": 0,
             "ticks": ""
            },
            "colorscale": [
             [
              0,
              "#0d0887"
             ],
             [
              0.1111111111111111,
              "#46039f"
             ],
             [
              0.2222222222222222,
              "#7201a8"
             ],
             [
              0.3333333333333333,
              "#9c179e"
             ],
             [
              0.4444444444444444,
              "#bd3786"
             ],
             [
              0.5555555555555556,
              "#d8576b"
             ],
             [
              0.6666666666666666,
              "#ed7953"
             ],
             [
              0.7777777777777778,
              "#fb9f3a"
             ],
             [
              0.8888888888888888,
              "#fdca26"
             ],
             [
              1,
              "#f0f921"
             ]
            ],
            "type": "histogram2d"
           }
          ],
          "histogram2dcontour": [
           {
            "colorbar": {
             "outlinewidth": 0,
             "ticks": ""
            },
            "colorscale": [
             [
              0,
              "#0d0887"
             ],
             [
              0.1111111111111111,
              "#46039f"
             ],
             [
              0.2222222222222222,
              "#7201a8"
             ],
             [
              0.3333333333333333,
              "#9c179e"
             ],
             [
              0.4444444444444444,
              "#bd3786"
             ],
             [
              0.5555555555555556,
              "#d8576b"
             ],
             [
              0.6666666666666666,
              "#ed7953"
             ],
             [
              0.7777777777777778,
              "#fb9f3a"
             ],
             [
              0.8888888888888888,
              "#fdca26"
             ],
             [
              1,
              "#f0f921"
             ]
            ],
            "type": "histogram2dcontour"
           }
          ],
          "mesh3d": [
           {
            "colorbar": {
             "outlinewidth": 0,
             "ticks": ""
            },
            "type": "mesh3d"
           }
          ],
          "parcoords": [
           {
            "line": {
             "colorbar": {
              "outlinewidth": 0,
              "ticks": ""
             }
            },
            "type": "parcoords"
           }
          ],
          "pie": [
           {
            "automargin": true,
            "type": "pie"
           }
          ],
          "scatter": [
           {
            "fillpattern": {
             "fillmode": "overlay",
             "size": 10,
             "solidity": 0.2
            },
            "type": "scatter"
           }
          ],
          "scatter3d": [
           {
            "line": {
             "colorbar": {
              "outlinewidth": 0,
              "ticks": ""
             }
            },
            "marker": {
             "colorbar": {
              "outlinewidth": 0,
              "ticks": ""
             }
            },
            "type": "scatter3d"
           }
          ],
          "scattercarpet": [
           {
            "marker": {
             "colorbar": {
              "outlinewidth": 0,
              "ticks": ""
             }
            },
            "type": "scattercarpet"
           }
          ],
          "scattergeo": [
           {
            "marker": {
             "colorbar": {
              "outlinewidth": 0,
              "ticks": ""
             }
            },
            "type": "scattergeo"
           }
          ],
          "scattergl": [
           {
            "marker": {
             "colorbar": {
              "outlinewidth": 0,
              "ticks": ""
             }
            },
            "type": "scattergl"
           }
          ],
          "scattermapbox": [
           {
            "marker": {
             "colorbar": {
              "outlinewidth": 0,
              "ticks": ""
             }
            },
            "type": "scattermapbox"
           }
          ],
          "scatterpolar": [
           {
            "marker": {
             "colorbar": {
              "outlinewidth": 0,
              "ticks": ""
             }
            },
            "type": "scatterpolar"
           }
          ],
          "scatterpolargl": [
           {
            "marker": {
             "colorbar": {
              "outlinewidth": 0,
              "ticks": ""
             }
            },
            "type": "scatterpolargl"
           }
          ],
          "scatterternary": [
           {
            "marker": {
             "colorbar": {
              "outlinewidth": 0,
              "ticks": ""
             }
            },
            "type": "scatterternary"
           }
          ],
          "surface": [
           {
            "colorbar": {
             "outlinewidth": 0,
             "ticks": ""
            },
            "colorscale": [
             [
              0,
              "#0d0887"
             ],
             [
              0.1111111111111111,
              "#46039f"
             ],
             [
              0.2222222222222222,
              "#7201a8"
             ],
             [
              0.3333333333333333,
              "#9c179e"
             ],
             [
              0.4444444444444444,
              "#bd3786"
             ],
             [
              0.5555555555555556,
              "#d8576b"
             ],
             [
              0.6666666666666666,
              "#ed7953"
             ],
             [
              0.7777777777777778,
              "#fb9f3a"
             ],
             [
              0.8888888888888888,
              "#fdca26"
             ],
             [
              1,
              "#f0f921"
             ]
            ],
            "type": "surface"
           }
          ],
          "table": [
           {
            "cells": {
             "fill": {
              "color": "#EBF0F8"
             },
             "line": {
              "color": "white"
             }
            },
            "header": {
             "fill": {
              "color": "#C8D4E3"
             },
             "line": {
              "color": "white"
             }
            },
            "type": "table"
           }
          ]
         },
         "layout": {
          "annotationdefaults": {
           "arrowcolor": "#2a3f5f",
           "arrowhead": 0,
           "arrowwidth": 1
          },
          "autotypenumbers": "strict",
          "coloraxis": {
           "colorbar": {
            "outlinewidth": 0,
            "ticks": ""
           }
          },
          "colorscale": {
           "diverging": [
            [
             0,
             "#8e0152"
            ],
            [
             0.1,
             "#c51b7d"
            ],
            [
             0.2,
             "#de77ae"
            ],
            [
             0.3,
             "#f1b6da"
            ],
            [
             0.4,
             "#fde0ef"
            ],
            [
             0.5,
             "#f7f7f7"
            ],
            [
             0.6,
             "#e6f5d0"
            ],
            [
             0.7,
             "#b8e186"
            ],
            [
             0.8,
             "#7fbc41"
            ],
            [
             0.9,
             "#4d9221"
            ],
            [
             1,
             "#276419"
            ]
           ],
           "sequential": [
            [
             0,
             "#0d0887"
            ],
            [
             0.1111111111111111,
             "#46039f"
            ],
            [
             0.2222222222222222,
             "#7201a8"
            ],
            [
             0.3333333333333333,
             "#9c179e"
            ],
            [
             0.4444444444444444,
             "#bd3786"
            ],
            [
             0.5555555555555556,
             "#d8576b"
            ],
            [
             0.6666666666666666,
             "#ed7953"
            ],
            [
             0.7777777777777778,
             "#fb9f3a"
            ],
            [
             0.8888888888888888,
             "#fdca26"
            ],
            [
             1,
             "#f0f921"
            ]
           ],
           "sequentialminus": [
            [
             0,
             "#0d0887"
            ],
            [
             0.1111111111111111,
             "#46039f"
            ],
            [
             0.2222222222222222,
             "#7201a8"
            ],
            [
             0.3333333333333333,
             "#9c179e"
            ],
            [
             0.4444444444444444,
             "#bd3786"
            ],
            [
             0.5555555555555556,
             "#d8576b"
            ],
            [
             0.6666666666666666,
             "#ed7953"
            ],
            [
             0.7777777777777778,
             "#fb9f3a"
            ],
            [
             0.8888888888888888,
             "#fdca26"
            ],
            [
             1,
             "#f0f921"
            ]
           ]
          },
          "colorway": [
           "#636efa",
           "#EF553B",
           "#00cc96",
           "#ab63fa",
           "#FFA15A",
           "#19d3f3",
           "#FF6692",
           "#B6E880",
           "#FF97FF",
           "#FECB52"
          ],
          "font": {
           "color": "#2a3f5f"
          },
          "geo": {
           "bgcolor": "white",
           "lakecolor": "white",
           "landcolor": "#E5ECF6",
           "showlakes": true,
           "showland": true,
           "subunitcolor": "white"
          },
          "hoverlabel": {
           "align": "left"
          },
          "hovermode": "closest",
          "mapbox": {
           "style": "light"
          },
          "paper_bgcolor": "white",
          "plot_bgcolor": "#E5ECF6",
          "polar": {
           "angularaxis": {
            "gridcolor": "white",
            "linecolor": "white",
            "ticks": ""
           },
           "bgcolor": "#E5ECF6",
           "radialaxis": {
            "gridcolor": "white",
            "linecolor": "white",
            "ticks": ""
           }
          },
          "scene": {
           "xaxis": {
            "backgroundcolor": "#E5ECF6",
            "gridcolor": "white",
            "gridwidth": 2,
            "linecolor": "white",
            "showbackground": true,
            "ticks": "",
            "zerolinecolor": "white"
           },
           "yaxis": {
            "backgroundcolor": "#E5ECF6",
            "gridcolor": "white",
            "gridwidth": 2,
            "linecolor": "white",
            "showbackground": true,
            "ticks": "",
            "zerolinecolor": "white"
           },
           "zaxis": {
            "backgroundcolor": "#E5ECF6",
            "gridcolor": "white",
            "gridwidth": 2,
            "linecolor": "white",
            "showbackground": true,
            "ticks": "",
            "zerolinecolor": "white"
           }
          },
          "shapedefaults": {
           "line": {
            "color": "#2a3f5f"
           }
          },
          "ternary": {
           "aaxis": {
            "gridcolor": "white",
            "linecolor": "white",
            "ticks": ""
           },
           "baxis": {
            "gridcolor": "white",
            "linecolor": "white",
            "ticks": ""
           },
           "bgcolor": "#E5ECF6",
           "caxis": {
            "gridcolor": "white",
            "linecolor": "white",
            "ticks": ""
           }
          },
          "title": {
           "x": 0.05
          },
          "xaxis": {
           "automargin": true,
           "gridcolor": "white",
           "linecolor": "white",
           "ticks": "",
           "title": {
            "standoff": 15
           },
           "zerolinecolor": "white",
           "zerolinewidth": 2
          },
          "yaxis": {
           "automargin": true,
           "gridcolor": "white",
           "linecolor": "white",
           "ticks": "",
           "title": {
            "standoff": 15
           },
           "zerolinecolor": "white",
           "zerolinewidth": 2
          }
         }
        },
        "title": {
         "text": "Player Salary | 1985-2016"
        },
        "xaxis": {
         "anchor": "y",
         "domain": [
          0,
          1
         ],
         "insiderange": [
          1984.5,
          2016.5
         ],
         "title": {
          "text": "Year"
         }
        },
        "yaxis": {
         "anchor": "x",
         "domain": [
          0,
          1
         ],
         "tickprefix": "$",
         "title": {
          "text": "Average Salary"
         }
        }
       }
      }
     },
     "metadata": {},
     "output_type": "display_data"
    }
   ],
   "source": [
    "fig = px.bar(\n",
    "    avg_player_salary,\n",
    "    x=\"Year\",\n",
    "    y=\"avg_salary\",\n",
    "    color=\"Team\",\n",
    "    title=\"Player Salary | 1985-2016\",\n",
    "    barmode=\"group\",\n",
    "    text_auto=\"$.2s\",\n",
    "    color_discrete_map={\"Boston Red Sox\": \"#BD3039\", \"New York Yankees\": \"#003087\"},\n",
    ")\n",
    "\n",
    "fig.update_xaxes(insiderange=[1984.5, 2016.5])\n",
    "\n",
    "fig.update_yaxes(title=\"Average Salary\", tickprefix=\"$\")\n",
    "\n",
    "fig.update_layout(\n",
    "    legend=dict(\n",
    "        title=\"\",\n",
    "        orientation=\"h\",\n",
    "        yanchor=\"top\",\n",
    "        y=1.125,\n",
    "        xanchor=\"left\",\n",
    "        x=0,\n",
    "    )\n",
    ")\n",
    "\n",
    "fig.show()"
   ]
  },
  {
   "cell_type": "code",
   "execution_count": 33,
   "metadata": {},
   "outputs": [
    {
     "data": {
      "text/html": [
       "<div>\n",
       "<style scoped>\n",
       "    .dataframe tbody tr th:only-of-type {\n",
       "        vertical-align: middle;\n",
       "    }\n",
       "\n",
       "    .dataframe tbody tr th {\n",
       "        vertical-align: top;\n",
       "    }\n",
       "\n",
       "    .dataframe thead th {\n",
       "        text-align: right;\n",
       "    }\n",
       "</style>\n",
       "<table border=\"1\" class=\"dataframe\">\n",
       "  <thead>\n",
       "    <tr style=\"text-align: right;\">\n",
       "      <th></th>\n",
       "      <th>Team</th>\n",
       "      <th>Position</th>\n",
       "      <th>avg_salary</th>\n",
       "    </tr>\n",
       "  </thead>\n",
       "  <tbody>\n",
       "    <tr>\n",
       "      <th>0</th>\n",
       "      <td>Boston Red Sox</td>\n",
       "      <td>1B</td>\n",
       "      <td>3417392.71</td>\n",
       "    </tr>\n",
       "    <tr>\n",
       "      <th>1</th>\n",
       "      <td>Boston Red Sox</td>\n",
       "      <td>2B</td>\n",
       "      <td>1764983.05</td>\n",
       "    </tr>\n",
       "    <tr>\n",
       "      <th>2</th>\n",
       "      <td>Boston Red Sox</td>\n",
       "      <td>3B</td>\n",
       "      <td>2267240.70</td>\n",
       "    </tr>\n",
       "    <tr>\n",
       "      <th>3</th>\n",
       "      <td>Boston Red Sox</td>\n",
       "      <td>C</td>\n",
       "      <td>2023300.81</td>\n",
       "    </tr>\n",
       "    <tr>\n",
       "      <th>4</th>\n",
       "      <td>Boston Red Sox</td>\n",
       "      <td>OF</td>\n",
       "      <td>3265647.96</td>\n",
       "    </tr>\n",
       "    <tr>\n",
       "      <th>5</th>\n",
       "      <td>Boston Red Sox</td>\n",
       "      <td>P</td>\n",
       "      <td>2653076.31</td>\n",
       "    </tr>\n",
       "    <tr>\n",
       "      <th>6</th>\n",
       "      <td>Boston Red Sox</td>\n",
       "      <td>SS</td>\n",
       "      <td>1865799.92</td>\n",
       "    </tr>\n",
       "    <tr>\n",
       "      <th>7</th>\n",
       "      <td>New York Yankees</td>\n",
       "      <td>1B</td>\n",
       "      <td>5353727.09</td>\n",
       "    </tr>\n",
       "    <tr>\n",
       "      <th>8</th>\n",
       "      <td>New York Yankees</td>\n",
       "      <td>2B</td>\n",
       "      <td>2025167.55</td>\n",
       "    </tr>\n",
       "    <tr>\n",
       "      <th>9</th>\n",
       "      <td>New York Yankees</td>\n",
       "      <td>3B</td>\n",
       "      <td>4348392.01</td>\n",
       "    </tr>\n",
       "    <tr>\n",
       "      <th>10</th>\n",
       "      <td>New York Yankees</td>\n",
       "      <td>C</td>\n",
       "      <td>2881212.10</td>\n",
       "    </tr>\n",
       "    <tr>\n",
       "      <th>11</th>\n",
       "      <td>New York Yankees</td>\n",
       "      <td>OF</td>\n",
       "      <td>3781239.37</td>\n",
       "    </tr>\n",
       "    <tr>\n",
       "      <th>12</th>\n",
       "      <td>New York Yankees</td>\n",
       "      <td>P</td>\n",
       "      <td>3515733.32</td>\n",
       "    </tr>\n",
       "    <tr>\n",
       "      <th>13</th>\n",
       "      <td>New York Yankees</td>\n",
       "      <td>SS</td>\n",
       "      <td>4223990.22</td>\n",
       "    </tr>\n",
       "  </tbody>\n",
       "</table>\n",
       "</div>"
      ],
      "text/plain": [
       "                Team Position  avg_salary\n",
       "0     Boston Red Sox       1B  3417392.71\n",
       "1     Boston Red Sox       2B  1764983.05\n",
       "2     Boston Red Sox       3B  2267240.70\n",
       "3     Boston Red Sox        C  2023300.81\n",
       "4     Boston Red Sox       OF  3265647.96\n",
       "5     Boston Red Sox        P  2653076.31\n",
       "6     Boston Red Sox       SS  1865799.92\n",
       "7   New York Yankees       1B  5353727.09\n",
       "8   New York Yankees       2B  2025167.55\n",
       "9   New York Yankees       3B  4348392.01\n",
       "10  New York Yankees        C  2881212.10\n",
       "11  New York Yankees       OF  3781239.37\n",
       "12  New York Yankees        P  3515733.32\n",
       "13  New York Yankees       SS  4223990.22"
      ]
     },
     "execution_count": 33,
     "metadata": {},
     "output_type": "execute_result"
    }
   ],
   "source": [
    "avg_player_salary_by_pos = (\n",
    "    mlb_players.groupby([\"Team\", \"Position\"]).agg(avg_salary=(\"Salary\", np.mean))\n",
    ").reset_index()\n",
    "\n",
    "avg_player_salary_by_pos[\"avg_salary\"] = avg_player_salary_by_pos[\"avg_salary\"].map(\n",
    "    lambda x: float(f\"{x:.2f}\")\n",
    ")\n",
    "avg_player_salary_by_pos"
   ]
  },
  {
   "cell_type": "code",
   "execution_count": 34,
   "metadata": {},
   "outputs": [
    {
     "data": {
      "application/vnd.plotly.v1+json": {
       "config": {
        "plotlyServerURL": "https://plot.ly"
       },
       "data": [
        {
         "alignmentgroup": "True",
         "hovertemplate": "Team=Boston Red Sox<br>Position=%{x}<br>avg_salary=%{y}<extra></extra>",
         "legendgroup": "Boston Red Sox",
         "marker": {
          "color": "#BD3039",
          "pattern": {
           "shape": ""
          }
         },
         "name": "Boston Red Sox",
         "offsetgroup": "Boston Red Sox",
         "orientation": "v",
         "showlegend": true,
         "textposition": "auto",
         "texttemplate": "%{y:$.2s}",
         "type": "bar",
         "x": [
          "1B",
          "2B",
          "3B",
          "C",
          "OF",
          "P",
          "SS"
         ],
         "xaxis": "x",
         "y": [
          3417392.71,
          1764983.05,
          2267240.7,
          2023300.81,
          3265647.96,
          2653076.31,
          1865799.92
         ],
         "yaxis": "y"
        },
        {
         "alignmentgroup": "True",
         "hovertemplate": "Team=New York Yankees<br>Position=%{x}<br>avg_salary=%{y}<extra></extra>",
         "legendgroup": "New York Yankees",
         "marker": {
          "color": "#003087",
          "pattern": {
           "shape": ""
          }
         },
         "name": "New York Yankees",
         "offsetgroup": "New York Yankees",
         "orientation": "v",
         "showlegend": true,
         "textposition": "auto",
         "texttemplate": "%{y:$.2s}",
         "type": "bar",
         "x": [
          "1B",
          "2B",
          "3B",
          "C",
          "OF",
          "P",
          "SS"
         ],
         "xaxis": "x",
         "y": [
          5353727.09,
          2025167.55,
          4348392.01,
          2881212.1,
          3781239.37,
          3515733.32,
          4223990.22
         ],
         "yaxis": "y"
        }
       ],
       "layout": {
        "barmode": "group",
        "legend": {
         "orientation": "h",
         "title": {
          "text": ""
         },
         "tracegroupgap": 0,
         "x": 0,
         "xanchor": "left",
         "y": 1.125,
         "yanchor": "top"
        },
        "template": {
         "data": {
          "bar": [
           {
            "error_x": {
             "color": "#2a3f5f"
            },
            "error_y": {
             "color": "#2a3f5f"
            },
            "marker": {
             "line": {
              "color": "#E5ECF6",
              "width": 0.5
             },
             "pattern": {
              "fillmode": "overlay",
              "size": 10,
              "solidity": 0.2
             }
            },
            "type": "bar"
           }
          ],
          "barpolar": [
           {
            "marker": {
             "line": {
              "color": "#E5ECF6",
              "width": 0.5
             },
             "pattern": {
              "fillmode": "overlay",
              "size": 10,
              "solidity": 0.2
             }
            },
            "type": "barpolar"
           }
          ],
          "carpet": [
           {
            "aaxis": {
             "endlinecolor": "#2a3f5f",
             "gridcolor": "white",
             "linecolor": "white",
             "minorgridcolor": "white",
             "startlinecolor": "#2a3f5f"
            },
            "baxis": {
             "endlinecolor": "#2a3f5f",
             "gridcolor": "white",
             "linecolor": "white",
             "minorgridcolor": "white",
             "startlinecolor": "#2a3f5f"
            },
            "type": "carpet"
           }
          ],
          "choropleth": [
           {
            "colorbar": {
             "outlinewidth": 0,
             "ticks": ""
            },
            "type": "choropleth"
           }
          ],
          "contour": [
           {
            "colorbar": {
             "outlinewidth": 0,
             "ticks": ""
            },
            "colorscale": [
             [
              0,
              "#0d0887"
             ],
             [
              0.1111111111111111,
              "#46039f"
             ],
             [
              0.2222222222222222,
              "#7201a8"
             ],
             [
              0.3333333333333333,
              "#9c179e"
             ],
             [
              0.4444444444444444,
              "#bd3786"
             ],
             [
              0.5555555555555556,
              "#d8576b"
             ],
             [
              0.6666666666666666,
              "#ed7953"
             ],
             [
              0.7777777777777778,
              "#fb9f3a"
             ],
             [
              0.8888888888888888,
              "#fdca26"
             ],
             [
              1,
              "#f0f921"
             ]
            ],
            "type": "contour"
           }
          ],
          "contourcarpet": [
           {
            "colorbar": {
             "outlinewidth": 0,
             "ticks": ""
            },
            "type": "contourcarpet"
           }
          ],
          "heatmap": [
           {
            "colorbar": {
             "outlinewidth": 0,
             "ticks": ""
            },
            "colorscale": [
             [
              0,
              "#0d0887"
             ],
             [
              0.1111111111111111,
              "#46039f"
             ],
             [
              0.2222222222222222,
              "#7201a8"
             ],
             [
              0.3333333333333333,
              "#9c179e"
             ],
             [
              0.4444444444444444,
              "#bd3786"
             ],
             [
              0.5555555555555556,
              "#d8576b"
             ],
             [
              0.6666666666666666,
              "#ed7953"
             ],
             [
              0.7777777777777778,
              "#fb9f3a"
             ],
             [
              0.8888888888888888,
              "#fdca26"
             ],
             [
              1,
              "#f0f921"
             ]
            ],
            "type": "heatmap"
           }
          ],
          "heatmapgl": [
           {
            "colorbar": {
             "outlinewidth": 0,
             "ticks": ""
            },
            "colorscale": [
             [
              0,
              "#0d0887"
             ],
             [
              0.1111111111111111,
              "#46039f"
             ],
             [
              0.2222222222222222,
              "#7201a8"
             ],
             [
              0.3333333333333333,
              "#9c179e"
             ],
             [
              0.4444444444444444,
              "#bd3786"
             ],
             [
              0.5555555555555556,
              "#d8576b"
             ],
             [
              0.6666666666666666,
              "#ed7953"
             ],
             [
              0.7777777777777778,
              "#fb9f3a"
             ],
             [
              0.8888888888888888,
              "#fdca26"
             ],
             [
              1,
              "#f0f921"
             ]
            ],
            "type": "heatmapgl"
           }
          ],
          "histogram": [
           {
            "marker": {
             "pattern": {
              "fillmode": "overlay",
              "size": 10,
              "solidity": 0.2
             }
            },
            "type": "histogram"
           }
          ],
          "histogram2d": [
           {
            "colorbar": {
             "outlinewidth": 0,
             "ticks": ""
            },
            "colorscale": [
             [
              0,
              "#0d0887"
             ],
             [
              0.1111111111111111,
              "#46039f"
             ],
             [
              0.2222222222222222,
              "#7201a8"
             ],
             [
              0.3333333333333333,
              "#9c179e"
             ],
             [
              0.4444444444444444,
              "#bd3786"
             ],
             [
              0.5555555555555556,
              "#d8576b"
             ],
             [
              0.6666666666666666,
              "#ed7953"
             ],
             [
              0.7777777777777778,
              "#fb9f3a"
             ],
             [
              0.8888888888888888,
              "#fdca26"
             ],
             [
              1,
              "#f0f921"
             ]
            ],
            "type": "histogram2d"
           }
          ],
          "histogram2dcontour": [
           {
            "colorbar": {
             "outlinewidth": 0,
             "ticks": ""
            },
            "colorscale": [
             [
              0,
              "#0d0887"
             ],
             [
              0.1111111111111111,
              "#46039f"
             ],
             [
              0.2222222222222222,
              "#7201a8"
             ],
             [
              0.3333333333333333,
              "#9c179e"
             ],
             [
              0.4444444444444444,
              "#bd3786"
             ],
             [
              0.5555555555555556,
              "#d8576b"
             ],
             [
              0.6666666666666666,
              "#ed7953"
             ],
             [
              0.7777777777777778,
              "#fb9f3a"
             ],
             [
              0.8888888888888888,
              "#fdca26"
             ],
             [
              1,
              "#f0f921"
             ]
            ],
            "type": "histogram2dcontour"
           }
          ],
          "mesh3d": [
           {
            "colorbar": {
             "outlinewidth": 0,
             "ticks": ""
            },
            "type": "mesh3d"
           }
          ],
          "parcoords": [
           {
            "line": {
             "colorbar": {
              "outlinewidth": 0,
              "ticks": ""
             }
            },
            "type": "parcoords"
           }
          ],
          "pie": [
           {
            "automargin": true,
            "type": "pie"
           }
          ],
          "scatter": [
           {
            "fillpattern": {
             "fillmode": "overlay",
             "size": 10,
             "solidity": 0.2
            },
            "type": "scatter"
           }
          ],
          "scatter3d": [
           {
            "line": {
             "colorbar": {
              "outlinewidth": 0,
              "ticks": ""
             }
            },
            "marker": {
             "colorbar": {
              "outlinewidth": 0,
              "ticks": ""
             }
            },
            "type": "scatter3d"
           }
          ],
          "scattercarpet": [
           {
            "marker": {
             "colorbar": {
              "outlinewidth": 0,
              "ticks": ""
             }
            },
            "type": "scattercarpet"
           }
          ],
          "scattergeo": [
           {
            "marker": {
             "colorbar": {
              "outlinewidth": 0,
              "ticks": ""
             }
            },
            "type": "scattergeo"
           }
          ],
          "scattergl": [
           {
            "marker": {
             "colorbar": {
              "outlinewidth": 0,
              "ticks": ""
             }
            },
            "type": "scattergl"
           }
          ],
          "scattermapbox": [
           {
            "marker": {
             "colorbar": {
              "outlinewidth": 0,
              "ticks": ""
             }
            },
            "type": "scattermapbox"
           }
          ],
          "scatterpolar": [
           {
            "marker": {
             "colorbar": {
              "outlinewidth": 0,
              "ticks": ""
             }
            },
            "type": "scatterpolar"
           }
          ],
          "scatterpolargl": [
           {
            "marker": {
             "colorbar": {
              "outlinewidth": 0,
              "ticks": ""
             }
            },
            "type": "scatterpolargl"
           }
          ],
          "scatterternary": [
           {
            "marker": {
             "colorbar": {
              "outlinewidth": 0,
              "ticks": ""
             }
            },
            "type": "scatterternary"
           }
          ],
          "surface": [
           {
            "colorbar": {
             "outlinewidth": 0,
             "ticks": ""
            },
            "colorscale": [
             [
              0,
              "#0d0887"
             ],
             [
              0.1111111111111111,
              "#46039f"
             ],
             [
              0.2222222222222222,
              "#7201a8"
             ],
             [
              0.3333333333333333,
              "#9c179e"
             ],
             [
              0.4444444444444444,
              "#bd3786"
             ],
             [
              0.5555555555555556,
              "#d8576b"
             ],
             [
              0.6666666666666666,
              "#ed7953"
             ],
             [
              0.7777777777777778,
              "#fb9f3a"
             ],
             [
              0.8888888888888888,
              "#fdca26"
             ],
             [
              1,
              "#f0f921"
             ]
            ],
            "type": "surface"
           }
          ],
          "table": [
           {
            "cells": {
             "fill": {
              "color": "#EBF0F8"
             },
             "line": {
              "color": "white"
             }
            },
            "header": {
             "fill": {
              "color": "#C8D4E3"
             },
             "line": {
              "color": "white"
             }
            },
            "type": "table"
           }
          ]
         },
         "layout": {
          "annotationdefaults": {
           "arrowcolor": "#2a3f5f",
           "arrowhead": 0,
           "arrowwidth": 1
          },
          "autotypenumbers": "strict",
          "coloraxis": {
           "colorbar": {
            "outlinewidth": 0,
            "ticks": ""
           }
          },
          "colorscale": {
           "diverging": [
            [
             0,
             "#8e0152"
            ],
            [
             0.1,
             "#c51b7d"
            ],
            [
             0.2,
             "#de77ae"
            ],
            [
             0.3,
             "#f1b6da"
            ],
            [
             0.4,
             "#fde0ef"
            ],
            [
             0.5,
             "#f7f7f7"
            ],
            [
             0.6,
             "#e6f5d0"
            ],
            [
             0.7,
             "#b8e186"
            ],
            [
             0.8,
             "#7fbc41"
            ],
            [
             0.9,
             "#4d9221"
            ],
            [
             1,
             "#276419"
            ]
           ],
           "sequential": [
            [
             0,
             "#0d0887"
            ],
            [
             0.1111111111111111,
             "#46039f"
            ],
            [
             0.2222222222222222,
             "#7201a8"
            ],
            [
             0.3333333333333333,
             "#9c179e"
            ],
            [
             0.4444444444444444,
             "#bd3786"
            ],
            [
             0.5555555555555556,
             "#d8576b"
            ],
            [
             0.6666666666666666,
             "#ed7953"
            ],
            [
             0.7777777777777778,
             "#fb9f3a"
            ],
            [
             0.8888888888888888,
             "#fdca26"
            ],
            [
             1,
             "#f0f921"
            ]
           ],
           "sequentialminus": [
            [
             0,
             "#0d0887"
            ],
            [
             0.1111111111111111,
             "#46039f"
            ],
            [
             0.2222222222222222,
             "#7201a8"
            ],
            [
             0.3333333333333333,
             "#9c179e"
            ],
            [
             0.4444444444444444,
             "#bd3786"
            ],
            [
             0.5555555555555556,
             "#d8576b"
            ],
            [
             0.6666666666666666,
             "#ed7953"
            ],
            [
             0.7777777777777778,
             "#fb9f3a"
            ],
            [
             0.8888888888888888,
             "#fdca26"
            ],
            [
             1,
             "#f0f921"
            ]
           ]
          },
          "colorway": [
           "#636efa",
           "#EF553B",
           "#00cc96",
           "#ab63fa",
           "#FFA15A",
           "#19d3f3",
           "#FF6692",
           "#B6E880",
           "#FF97FF",
           "#FECB52"
          ],
          "font": {
           "color": "#2a3f5f"
          },
          "geo": {
           "bgcolor": "white",
           "lakecolor": "white",
           "landcolor": "#E5ECF6",
           "showlakes": true,
           "showland": true,
           "subunitcolor": "white"
          },
          "hoverlabel": {
           "align": "left"
          },
          "hovermode": "closest",
          "mapbox": {
           "style": "light"
          },
          "paper_bgcolor": "white",
          "plot_bgcolor": "#E5ECF6",
          "polar": {
           "angularaxis": {
            "gridcolor": "white",
            "linecolor": "white",
            "ticks": ""
           },
           "bgcolor": "#E5ECF6",
           "radialaxis": {
            "gridcolor": "white",
            "linecolor": "white",
            "ticks": ""
           }
          },
          "scene": {
           "xaxis": {
            "backgroundcolor": "#E5ECF6",
            "gridcolor": "white",
            "gridwidth": 2,
            "linecolor": "white",
            "showbackground": true,
            "ticks": "",
            "zerolinecolor": "white"
           },
           "yaxis": {
            "backgroundcolor": "#E5ECF6",
            "gridcolor": "white",
            "gridwidth": 2,
            "linecolor": "white",
            "showbackground": true,
            "ticks": "",
            "zerolinecolor": "white"
           },
           "zaxis": {
            "backgroundcolor": "#E5ECF6",
            "gridcolor": "white",
            "gridwidth": 2,
            "linecolor": "white",
            "showbackground": true,
            "ticks": "",
            "zerolinecolor": "white"
           }
          },
          "shapedefaults": {
           "line": {
            "color": "#2a3f5f"
           }
          },
          "ternary": {
           "aaxis": {
            "gridcolor": "white",
            "linecolor": "white",
            "ticks": ""
           },
           "baxis": {
            "gridcolor": "white",
            "linecolor": "white",
            "ticks": ""
           },
           "bgcolor": "#E5ECF6",
           "caxis": {
            "gridcolor": "white",
            "linecolor": "white",
            "ticks": ""
           }
          },
          "title": {
           "x": 0.05
          },
          "xaxis": {
           "automargin": true,
           "gridcolor": "white",
           "linecolor": "white",
           "ticks": "",
           "title": {
            "standoff": 15
           },
           "zerolinecolor": "white",
           "zerolinewidth": 2
          },
          "yaxis": {
           "automargin": true,
           "gridcolor": "white",
           "linecolor": "white",
           "ticks": "",
           "title": {
            "standoff": 15
           },
           "zerolinecolor": "white",
           "zerolinewidth": 2
          }
         }
        },
        "title": {
         "text": "Player Salary by Position"
        },
        "xaxis": {
         "anchor": "y",
         "domain": [
          0,
          1
         ],
         "title": {
          "text": "Position"
         }
        },
        "yaxis": {
         "anchor": "x",
         "domain": [
          0,
          1
         ],
         "tickprefix": "$",
         "title": {
          "text": "Average Salary"
         }
        }
       }
      }
     },
     "metadata": {},
     "output_type": "display_data"
    }
   ],
   "source": [
    "fig = px.bar(\n",
    "    avg_player_salary_by_pos,\n",
    "    x=\"Position\",\n",
    "    y=\"avg_salary\",\n",
    "    color=\"Team\",\n",
    "    title=\"Player Salary by Position\",\n",
    "    text_auto=\"$.2s\",\n",
    "    barmode=\"group\",\n",
    "    color_discrete_map={\"Boston Red Sox\": \"#BD3039\", \"New York Yankees\": \"#003087\"},\n",
    ")\n",
    "\n",
    "fig.update_yaxes(title=\"Average Salary\", tickprefix=\"$\")\n",
    "\n",
    "fig.update_layout(\n",
    "    legend=dict(\n",
    "        title=\"\",\n",
    "        orientation=\"h\",\n",
    "        yanchor=\"top\",\n",
    "        y=1.125,\n",
    "        xanchor=\"left\",\n",
    "        x=0,\n",
    "    )\n",
    ")\n",
    "\n",
    "fig.show()"
   ]
  }
 ],
 "metadata": {
  "kernelspec": {
   "display_name": "Python 3",
   "language": "python",
   "name": "python3"
  },
  "language_info": {
   "codemirror_mode": {
    "name": "ipython",
    "version": 3
   },
   "file_extension": ".py",
   "mimetype": "text/x-python",
   "name": "python",
   "nbconvert_exporter": "python",
   "pygments_lexer": "ipython3",
   "version": "3.12.3"
  },
  "polyglot_notebook": {
   "kernelInfo": {
    "defaultKernelName": "csharp",
    "items": [
     {
      "aliases": [],
      "name": "csharp"
     }
    ]
   }
  }
 },
 "nbformat": 4,
 "nbformat_minor": 2
}
