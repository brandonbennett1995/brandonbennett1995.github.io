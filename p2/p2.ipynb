{
 "cells": [
  {
   "cell_type": "markdown",
   "metadata": {},
   "source": [
    "# Late Flights & Missing Data\n"
   ]
  },
  {
   "cell_type": "code",
   "execution_count": 1,
   "metadata": {},
   "outputs": [
    {
     "data": {
      "text/html": [
       "<div>\n",
       "<style scoped>\n",
       "    .dataframe tbody tr th:only-of-type {\n",
       "        vertical-align: middle;\n",
       "    }\n",
       "\n",
       "    .dataframe tbody tr th {\n",
       "        vertical-align: top;\n",
       "    }\n",
       "\n",
       "    .dataframe thead th {\n",
       "        text-align: right;\n",
       "    }\n",
       "</style>\n",
       "<table border=\"1\" class=\"dataframe\">\n",
       "  <thead>\n",
       "    <tr style=\"text-align: right;\">\n",
       "      <th></th>\n",
       "      <th>airport_code</th>\n",
       "      <th>month</th>\n",
       "      <th>year</th>\n",
       "      <th>num_of_flights_total</th>\n",
       "      <th>num_of_delays_carrier</th>\n",
       "      <th>num_of_delays_late_aircraft</th>\n",
       "      <th>num_of_delays_nas</th>\n",
       "      <th>num_of_delays_security</th>\n",
       "      <th>num_of_delays_weather</th>\n",
       "      <th>num_of_delays_total</th>\n",
       "      <th>minutes_delayed_carrier</th>\n",
       "      <th>minutes_delayed_late_aircraft</th>\n",
       "      <th>minutes_delayed_nas</th>\n",
       "      <th>minutes_delayed_security</th>\n",
       "      <th>minutes_delayed_weather</th>\n",
       "      <th>minutes_delayed_total</th>\n",
       "    </tr>\n",
       "  </thead>\n",
       "  <tbody>\n",
       "    <tr>\n",
       "      <th>0</th>\n",
       "      <td>ATL</td>\n",
       "      <td>January</td>\n",
       "      <td>2005.0</td>\n",
       "      <td>35048</td>\n",
       "      <td>1500+</td>\n",
       "      <td>-999</td>\n",
       "      <td>4598</td>\n",
       "      <td>10</td>\n",
       "      <td>448</td>\n",
       "      <td>8355</td>\n",
       "      <td>116423.0</td>\n",
       "      <td>104415</td>\n",
       "      <td>207467.0</td>\n",
       "      <td>297</td>\n",
       "      <td>36931</td>\n",
       "      <td>465533</td>\n",
       "    </tr>\n",
       "    <tr>\n",
       "      <th>1</th>\n",
       "      <td>DEN</td>\n",
       "      <td>January</td>\n",
       "      <td>2005.0</td>\n",
       "      <td>12687</td>\n",
       "      <td>1041</td>\n",
       "      <td>928</td>\n",
       "      <td>935</td>\n",
       "      <td>11</td>\n",
       "      <td>233</td>\n",
       "      <td>3153</td>\n",
       "      <td>53537.0</td>\n",
       "      <td>70301</td>\n",
       "      <td>36817.0</td>\n",
       "      <td>363</td>\n",
       "      <td>21779</td>\n",
       "      <td>182797</td>\n",
       "    </tr>\n",
       "    <tr>\n",
       "      <th>2</th>\n",
       "      <td>IAD</td>\n",
       "      <td>January</td>\n",
       "      <td>2005.0</td>\n",
       "      <td>12381</td>\n",
       "      <td>414</td>\n",
       "      <td>1058</td>\n",
       "      <td>895</td>\n",
       "      <td>4</td>\n",
       "      <td>61</td>\n",
       "      <td>2430</td>\n",
       "      <td>NaN</td>\n",
       "      <td>70919</td>\n",
       "      <td>35660.0</td>\n",
       "      <td>208</td>\n",
       "      <td>4497</td>\n",
       "      <td>134881</td>\n",
       "    </tr>\n",
       "    <tr>\n",
       "      <th>3</th>\n",
       "      <td>ORD</td>\n",
       "      <td>January</td>\n",
       "      <td>2005.0</td>\n",
       "      <td>28194</td>\n",
       "      <td>1197</td>\n",
       "      <td>2255</td>\n",
       "      <td>5415</td>\n",
       "      <td>5</td>\n",
       "      <td>306</td>\n",
       "      <td>9178</td>\n",
       "      <td>88691.0</td>\n",
       "      <td>160811</td>\n",
       "      <td>364382.0</td>\n",
       "      <td>151</td>\n",
       "      <td>24859</td>\n",
       "      <td>638894</td>\n",
       "    </tr>\n",
       "    <tr>\n",
       "      <th>4</th>\n",
       "      <td>SAN</td>\n",
       "      <td>January</td>\n",
       "      <td>2005.0</td>\n",
       "      <td>7283</td>\n",
       "      <td>572</td>\n",
       "      <td>680</td>\n",
       "      <td>638</td>\n",
       "      <td>7</td>\n",
       "      <td>56</td>\n",
       "      <td>1952</td>\n",
       "      <td>27436.0</td>\n",
       "      <td>38445</td>\n",
       "      <td>21127.0</td>\n",
       "      <td>218</td>\n",
       "      <td>4326</td>\n",
       "      <td>91552</td>\n",
       "    </tr>\n",
       "    <tr>\n",
       "      <th>...</th>\n",
       "      <td>...</td>\n",
       "      <td>...</td>\n",
       "      <td>...</td>\n",
       "      <td>...</td>\n",
       "      <td>...</td>\n",
       "      <td>...</td>\n",
       "      <td>...</td>\n",
       "      <td>...</td>\n",
       "      <td>...</td>\n",
       "      <td>...</td>\n",
       "      <td>...</td>\n",
       "      <td>...</td>\n",
       "      <td>...</td>\n",
       "      <td>...</td>\n",
       "      <td>...</td>\n",
       "      <td>...</td>\n",
       "    </tr>\n",
       "    <tr>\n",
       "      <th>919</th>\n",
       "      <td>IAD</td>\n",
       "      <td>December</td>\n",
       "      <td>2015.0</td>\n",
       "      <td>2799</td>\n",
       "      <td>182</td>\n",
       "      <td>183</td>\n",
       "      <td>61</td>\n",
       "      <td>0</td>\n",
       "      <td>17</td>\n",
       "      <td>443</td>\n",
       "      <td>NaN</td>\n",
       "      <td>15438</td>\n",
       "      <td>2826.0</td>\n",
       "      <td>0</td>\n",
       "      <td>1825</td>\n",
       "      <td>31164</td>\n",
       "    </tr>\n",
       "    <tr>\n",
       "      <th>920</th>\n",
       "      <td>ORD</td>\n",
       "      <td>December</td>\n",
       "      <td>2015.0</td>\n",
       "      <td>25568</td>\n",
       "      <td>923</td>\n",
       "      <td>1755</td>\n",
       "      <td>1364</td>\n",
       "      <td>11</td>\n",
       "      <td>180</td>\n",
       "      <td>4233</td>\n",
       "      <td>80962.0</td>\n",
       "      <td>132055</td>\n",
       "      <td>72045.0</td>\n",
       "      <td>435</td>\n",
       "      <td>22459</td>\n",
       "      <td>307956</td>\n",
       "    </tr>\n",
       "    <tr>\n",
       "      <th>921</th>\n",
       "      <td>SAN</td>\n",
       "      <td>n/a</td>\n",
       "      <td>2015.0</td>\n",
       "      <td>6231</td>\n",
       "      <td>480</td>\n",
       "      <td>606</td>\n",
       "      <td>256</td>\n",
       "      <td>5</td>\n",
       "      <td>37</td>\n",
       "      <td>1383</td>\n",
       "      <td>25402.0</td>\n",
       "      <td>35796</td>\n",
       "      <td>9038.0</td>\n",
       "      <td>161</td>\n",
       "      <td>2742</td>\n",
       "      <td>73139</td>\n",
       "    </tr>\n",
       "    <tr>\n",
       "      <th>922</th>\n",
       "      <td>SFO</td>\n",
       "      <td>December</td>\n",
       "      <td>2015.0</td>\n",
       "      <td>13833</td>\n",
       "      <td>757</td>\n",
       "      <td>1180</td>\n",
       "      <td>2372</td>\n",
       "      <td>9</td>\n",
       "      <td>147</td>\n",
       "      <td>4465</td>\n",
       "      <td>55283.0</td>\n",
       "      <td>96703</td>\n",
       "      <td>193525.0</td>\n",
       "      <td>285</td>\n",
       "      <td>13788</td>\n",
       "      <td>359584</td>\n",
       "    </tr>\n",
       "    <tr>\n",
       "      <th>923</th>\n",
       "      <td>SLC</td>\n",
       "      <td>December</td>\n",
       "      <td>2015.0</td>\n",
       "      <td>8804</td>\n",
       "      <td>483</td>\n",
       "      <td>796</td>\n",
       "      <td>404</td>\n",
       "      <td>5</td>\n",
       "      <td>56</td>\n",
       "      <td>1745</td>\n",
       "      <td>37354.0</td>\n",
       "      <td>49549</td>\n",
       "      <td>13515.0</td>\n",
       "      <td>158</td>\n",
       "      <td>6693</td>\n",
       "      <td>107269</td>\n",
       "    </tr>\n",
       "  </tbody>\n",
       "</table>\n",
       "<p>924 rows × 16 columns</p>\n",
       "</div>"
      ],
      "text/plain": [
       "    airport_code     month    year  num_of_flights_total  \\\n",
       "0            ATL   January  2005.0                 35048   \n",
       "1            DEN   January  2005.0                 12687   \n",
       "2            IAD   January  2005.0                 12381   \n",
       "3            ORD   January  2005.0                 28194   \n",
       "4            SAN   January  2005.0                  7283   \n",
       "..           ...       ...     ...                   ...   \n",
       "919          IAD  December  2015.0                  2799   \n",
       "920          ORD  December  2015.0                 25568   \n",
       "921          SAN       n/a  2015.0                  6231   \n",
       "922          SFO  December  2015.0                 13833   \n",
       "923          SLC  December  2015.0                  8804   \n",
       "\n",
       "    num_of_delays_carrier  num_of_delays_late_aircraft  num_of_delays_nas  \\\n",
       "0                   1500+                         -999               4598   \n",
       "1                    1041                          928                935   \n",
       "2                     414                         1058                895   \n",
       "3                    1197                         2255               5415   \n",
       "4                     572                          680                638   \n",
       "..                    ...                          ...                ...   \n",
       "919                   182                          183                 61   \n",
       "920                   923                         1755               1364   \n",
       "921                   480                          606                256   \n",
       "922                   757                         1180               2372   \n",
       "923                   483                          796                404   \n",
       "\n",
       "     num_of_delays_security  num_of_delays_weather  num_of_delays_total  \\\n",
       "0                        10                    448                 8355   \n",
       "1                        11                    233                 3153   \n",
       "2                         4                     61                 2430   \n",
       "3                         5                    306                 9178   \n",
       "4                         7                     56                 1952   \n",
       "..                      ...                    ...                  ...   \n",
       "919                       0                     17                  443   \n",
       "920                      11                    180                 4233   \n",
       "921                       5                     37                 1383   \n",
       "922                       9                    147                 4465   \n",
       "923                       5                     56                 1745   \n",
       "\n",
       "     minutes_delayed_carrier  minutes_delayed_late_aircraft  \\\n",
       "0                   116423.0                         104415   \n",
       "1                    53537.0                          70301   \n",
       "2                        NaN                          70919   \n",
       "3                    88691.0                         160811   \n",
       "4                    27436.0                          38445   \n",
       "..                       ...                            ...   \n",
       "919                      NaN                          15438   \n",
       "920                  80962.0                         132055   \n",
       "921                  25402.0                          35796   \n",
       "922                  55283.0                          96703   \n",
       "923                  37354.0                          49549   \n",
       "\n",
       "     minutes_delayed_nas  minutes_delayed_security  minutes_delayed_weather  \\\n",
       "0               207467.0                       297                    36931   \n",
       "1                36817.0                       363                    21779   \n",
       "2                35660.0                       208                     4497   \n",
       "3               364382.0                       151                    24859   \n",
       "4                21127.0                       218                     4326   \n",
       "..                   ...                       ...                      ...   \n",
       "919               2826.0                         0                     1825   \n",
       "920              72045.0                       435                    22459   \n",
       "921               9038.0                       161                     2742   \n",
       "922             193525.0                       285                    13788   \n",
       "923              13515.0                       158                     6693   \n",
       "\n",
       "     minutes_delayed_total  \n",
       "0                   465533  \n",
       "1                   182797  \n",
       "2                   134881  \n",
       "3                   638894  \n",
       "4                    91552  \n",
       "..                     ...  \n",
       "919                  31164  \n",
       "920                 307956  \n",
       "921                  73139  \n",
       "922                 359584  \n",
       "923                 107269  \n",
       "\n",
       "[924 rows x 16 columns]"
      ]
     },
     "execution_count": 1,
     "metadata": {},
     "output_type": "execute_result"
    }
   ],
   "source": [
    "import numpy as np\n",
    "import pandas as pd\n",
    "import plotly.express as px\n",
    "\n",
    "url = (\n",
    "    \"https://raw.githubusercontent.com/byuidatascience/data4missing/master/\"\n",
    "    \"data-raw/flights_missing/flights_missing.json\"\n",
    ")\n",
    "df = pd.read_json(url)\n",
    "\n",
    "df.drop(columns=[\"airport_name\"], inplace=True)\n",
    "df"
   ]
  },
  {
   "cell_type": "code",
   "execution_count": 2,
   "metadata": {},
   "outputs": [],
   "source": [
    "new_headers = {\n",
    "    \"airport_code\": \"code\",\n",
    "    \"num_of_flights_total\": \"total_flights\",\n",
    "    \"num_of_delays_carrier\": \"carrier_delays\",\n",
    "    \"num_of_delays_late_aircraft\": \"late_aircraft_delays\",\n",
    "    \"num_of_delays_nas\": \"nas_delays\",\n",
    "    \"num_of_delays_security\": \"security_delays\",\n",
    "    \"num_of_delays_weather\": \"weather_delays\",\n",
    "    \"num_of_delays_total\": \"total_delays\",\n",
    "    \"minutes_delayed_carrier\": \"carrier_time\",\n",
    "    \"minutes_delayed_late_aircraft\": \"late_aircraft_time\",\n",
    "    \"minutes_delayed_nas\": \"nas_time\",\n",
    "    \"minutes_delayed_security\": \"security_time\",\n",
    "    \"minutes_delayed_weather\": \"weather_time\",\n",
    "    \"minutes_delayed_total\": \"total_time\",\n",
    "}\n",
    "\n",
    "df.rename(columns=new_headers, inplace=True)\n",
    "col_list = df.columns.values"
   ]
  },
  {
   "cell_type": "code",
   "execution_count": 3,
   "metadata": {},
   "outputs": [
    {
     "name": "stdout",
     "output_type": "stream",
     "text": [
      "<class 'pandas.core.frame.DataFrame'>\n",
      "RangeIndex: 924 entries, 0 to 923\n",
      "Data columns (total 16 columns):\n",
      " #   Column                Non-Null Count  Dtype  \n",
      "---  ------                --------------  -----  \n",
      " 0   code                  924 non-null    object \n",
      " 1   month                 924 non-null    object \n",
      " 2   year                  901 non-null    float64\n",
      " 3   total_flights         924 non-null    int64  \n",
      " 4   carrier_delays        924 non-null    object \n",
      " 5   late_aircraft_delays  924 non-null    int64  \n",
      " 6   nas_delays            924 non-null    int64  \n",
      " 7   security_delays       924 non-null    int64  \n",
      " 8   weather_delays        924 non-null    int64  \n",
      " 9   total_delays          924 non-null    int64  \n",
      " 10  carrier_time          872 non-null    float64\n",
      " 11  late_aircraft_time    924 non-null    int64  \n",
      " 12  nas_time              893 non-null    float64\n",
      " 13  security_time         924 non-null    int64  \n",
      " 14  weather_time          924 non-null    int64  \n",
      " 15  total_time            924 non-null    int64  \n",
      "dtypes: float64(3), int64(10), object(3)\n",
      "memory usage: 115.6+ KB\n"
     ]
    }
   ],
   "source": [
    "df.info()"
   ]
  },
  {
   "cell_type": "markdown",
   "metadata": {},
   "source": [
    "## Checking the text data\n"
   ]
  },
  {
   "cell_type": "code",
   "execution_count": 4,
   "metadata": {},
   "outputs": [
    {
     "data": {
      "text/plain": [
       "ATL    132\n",
       "DEN    132\n",
       "IAD    132\n",
       "ORD    132\n",
       "SAN    132\n",
       "SFO    132\n",
       "SLC    132\n",
       "Name: code, dtype: int64"
      ]
     },
     "execution_count": 4,
     "metadata": {},
     "output_type": "execute_result"
    }
   ],
   "source": [
    "df.code.value_counts(dropna=False)"
   ]
  },
  {
   "cell_type": "code",
   "execution_count": 5,
   "metadata": {},
   "outputs": [
    {
     "data": {
      "text/plain": [
       "April        77\n",
       "July         77\n",
       "October      77\n",
       "Febuary      76\n",
       "November     76\n",
       "June         75\n",
       "August       75\n",
       "September    74\n",
       "January      73\n",
       "May          73\n",
       "December     73\n",
       "March        71\n",
       "n/a          27\n",
       "Name: month, dtype: int64"
      ]
     },
     "execution_count": 5,
     "metadata": {},
     "output_type": "execute_result"
    }
   ],
   "source": [
    "df.month.value_counts(dropna=False)"
   ]
  },
  {
   "cell_type": "code",
   "execution_count": 6,
   "metadata": {},
   "outputs": [
    {
     "data": {
      "text/plain": [
       "1500+    73\n",
       "342       4\n",
       "601       4\n",
       "411       4\n",
       "393       4\n",
       "         ..\n",
       "391       1\n",
       "759       1\n",
       "591       1\n",
       "1078      1\n",
       "483       1\n",
       "Name: carrier_delays, Length: 591, dtype: int64"
      ]
     },
     "execution_count": 6,
     "metadata": {},
     "output_type": "execute_result"
    }
   ],
   "source": [
    "df.carrier_delays.value_counts(dropna=False)"
   ]
  },
  {
   "cell_type": "code",
   "execution_count": 7,
   "metadata": {},
   "outputs": [
    {
     "data": {
      "text/plain": [
       "April        77\n",
       "July         77\n",
       "October      77\n",
       "February     76\n",
       "November     76\n",
       "June         75\n",
       "August       75\n",
       "September    74\n",
       "January      73\n",
       "May          73\n",
       "December     73\n",
       "March        71\n",
       "NaN          27\n",
       "Name: month, dtype: int64"
      ]
     },
     "execution_count": 7,
     "metadata": {},
     "output_type": "execute_result"
    }
   ],
   "source": [
    "# Lets replace all n/a with pd.NA, and while we're at it, fix february's spelling\n",
    "df.month.replace([\"n/a\", \"Febuary\"], [np.nan, \"February\"], inplace=True)\n",
    "df.month.value_counts(dropna=False)"
   ]
  },
  {
   "cell_type": "markdown",
   "metadata": {},
   "source": [
    "## Checking numeric data\n"
   ]
  },
  {
   "cell_type": "code",
   "execution_count": 8,
   "metadata": {},
   "outputs": [
    {
     "data": {
      "text/html": [
       "<div>\n",
       "<style scoped>\n",
       "    .dataframe tbody tr th:only-of-type {\n",
       "        vertical-align: middle;\n",
       "    }\n",
       "\n",
       "    .dataframe tbody tr th {\n",
       "        vertical-align: top;\n",
       "    }\n",
       "\n",
       "    .dataframe thead th {\n",
       "        text-align: right;\n",
       "    }\n",
       "</style>\n",
       "<table border=\"1\" class=\"dataframe\">\n",
       "  <thead>\n",
       "    <tr style=\"text-align: right;\">\n",
       "      <th></th>\n",
       "      <th>year</th>\n",
       "      <th>total_flights</th>\n",
       "      <th>late_aircraft_delays</th>\n",
       "      <th>nas_delays</th>\n",
       "      <th>security_delays</th>\n",
       "      <th>weather_delays</th>\n",
       "      <th>total_delays</th>\n",
       "      <th>carrier_time</th>\n",
       "      <th>late_aircraft_time</th>\n",
       "      <th>nas_time</th>\n",
       "      <th>security_time</th>\n",
       "      <th>weather_time</th>\n",
       "      <th>total_time</th>\n",
       "    </tr>\n",
       "  </thead>\n",
       "  <tbody>\n",
       "    <tr>\n",
       "      <th>count</th>\n",
       "      <td>901.000000</td>\n",
       "      <td>924.000000</td>\n",
       "      <td>924.000000</td>\n",
       "      <td>924.000000</td>\n",
       "      <td>924.000000</td>\n",
       "      <td>924.000000</td>\n",
       "      <td>924.000000</td>\n",
       "      <td>872.000000</td>\n",
       "      <td>924.000000</td>\n",
       "      <td>893.000000</td>\n",
       "      <td>924.000000</td>\n",
       "      <td>924.000000</td>\n",
       "      <td>924.000000</td>\n",
       "    </tr>\n",
       "    <tr>\n",
       "      <th>mean</th>\n",
       "      <td>2010.000000</td>\n",
       "      <td>16607.544372</td>\n",
       "      <td>1017.844156</td>\n",
       "      <td>1376.467532</td>\n",
       "      <td>5.417749</td>\n",
       "      <td>100.971861</td>\n",
       "      <td>3437.391775</td>\n",
       "      <td>51902.253440</td>\n",
       "      <td>75511.966450</td>\n",
       "      <td>70057.123180</td>\n",
       "      <td>216.735931</td>\n",
       "      <td>8353.722944</td>\n",
       "      <td>206436.175325</td>\n",
       "    </tr>\n",
       "    <tr>\n",
       "      <th>std</th>\n",
       "      <td>3.170699</td>\n",
       "      <td>9868.315498</td>\n",
       "      <td>853.942405</td>\n",
       "      <td>1348.719957</td>\n",
       "      <td>5.414833</td>\n",
       "      <td>103.584998</td>\n",
       "      <td>2561.922043</td>\n",
       "      <td>37085.043011</td>\n",
       "      <td>58110.787045</td>\n",
       "      <td>85937.281155</td>\n",
       "      <td>274.848647</td>\n",
       "      <td>9164.925368</td>\n",
       "      <td>176132.914461</td>\n",
       "    </tr>\n",
       "    <tr>\n",
       "      <th>min</th>\n",
       "      <td>2005.000000</td>\n",
       "      <td>2684.000000</td>\n",
       "      <td>-999.000000</td>\n",
       "      <td>61.000000</td>\n",
       "      <td>0.000000</td>\n",
       "      <td>3.000000</td>\n",
       "      <td>320.000000</td>\n",
       "      <td>6065.000000</td>\n",
       "      <td>6199.000000</td>\n",
       "      <td>-999.000000</td>\n",
       "      <td>0.000000</td>\n",
       "      <td>294.000000</td>\n",
       "      <td>18872.000000</td>\n",
       "    </tr>\n",
       "    <tr>\n",
       "      <th>25%</th>\n",
       "      <td>2007.000000</td>\n",
       "      <td>8027.750000</td>\n",
       "      <td>488.750000</td>\n",
       "      <td>357.750000</td>\n",
       "      <td>2.000000</td>\n",
       "      <td>34.750000</td>\n",
       "      <td>1389.750000</td>\n",
       "      <td>23837.750000</td>\n",
       "      <td>30411.250000</td>\n",
       "      <td>12422.000000</td>\n",
       "      <td>67.750000</td>\n",
       "      <td>2429.500000</td>\n",
       "      <td>71210.500000</td>\n",
       "    </tr>\n",
       "    <tr>\n",
       "      <th>50%</th>\n",
       "      <td>2010.000000</td>\n",
       "      <td>12544.000000</td>\n",
       "      <td>804.000000</td>\n",
       "      <td>960.000000</td>\n",
       "      <td>4.000000</td>\n",
       "      <td>66.000000</td>\n",
       "      <td>2801.500000</td>\n",
       "      <td>38784.500000</td>\n",
       "      <td>58472.000000</td>\n",
       "      <td>35660.000000</td>\n",
       "      <td>150.000000</td>\n",
       "      <td>4906.000000</td>\n",
       "      <td>151410.500000</td>\n",
       "    </tr>\n",
       "    <tr>\n",
       "      <th>75%</th>\n",
       "      <td>2013.000000</td>\n",
       "      <td>25580.500000</td>\n",
       "      <td>1473.750000</td>\n",
       "      <td>1869.250000</td>\n",
       "      <td>7.000000</td>\n",
       "      <td>129.000000</td>\n",
       "      <td>4714.750000</td>\n",
       "      <td>73581.500000</td>\n",
       "      <td>104091.000000</td>\n",
       "      <td>95299.000000</td>\n",
       "      <td>274.000000</td>\n",
       "      <td>10684.250000</td>\n",
       "      <td>287184.500000</td>\n",
       "    </tr>\n",
       "    <tr>\n",
       "      <th>max</th>\n",
       "      <td>2015.000000</td>\n",
       "      <td>38241.000000</td>\n",
       "      <td>3969.000000</td>\n",
       "      <td>8704.000000</td>\n",
       "      <td>64.000000</td>\n",
       "      <td>812.000000</td>\n",
       "      <td>13699.000000</td>\n",
       "      <td>220796.000000</td>\n",
       "      <td>345456.000000</td>\n",
       "      <td>574857.000000</td>\n",
       "      <td>4949.000000</td>\n",
       "      <td>76770.000000</td>\n",
       "      <td>989367.000000</td>\n",
       "    </tr>\n",
       "  </tbody>\n",
       "</table>\n",
       "</div>"
      ],
      "text/plain": [
       "              year  total_flights  late_aircraft_delays   nas_delays  \\\n",
       "count   901.000000     924.000000            924.000000   924.000000   \n",
       "mean   2010.000000   16607.544372           1017.844156  1376.467532   \n",
       "std       3.170699    9868.315498            853.942405  1348.719957   \n",
       "min    2005.000000    2684.000000           -999.000000    61.000000   \n",
       "25%    2007.000000    8027.750000            488.750000   357.750000   \n",
       "50%    2010.000000   12544.000000            804.000000   960.000000   \n",
       "75%    2013.000000   25580.500000           1473.750000  1869.250000   \n",
       "max    2015.000000   38241.000000           3969.000000  8704.000000   \n",
       "\n",
       "       security_delays  weather_delays  total_delays   carrier_time  \\\n",
       "count       924.000000      924.000000    924.000000     872.000000   \n",
       "mean          5.417749      100.971861   3437.391775   51902.253440   \n",
       "std           5.414833      103.584998   2561.922043   37085.043011   \n",
       "min           0.000000        3.000000    320.000000    6065.000000   \n",
       "25%           2.000000       34.750000   1389.750000   23837.750000   \n",
       "50%           4.000000       66.000000   2801.500000   38784.500000   \n",
       "75%           7.000000      129.000000   4714.750000   73581.500000   \n",
       "max          64.000000      812.000000  13699.000000  220796.000000   \n",
       "\n",
       "       late_aircraft_time       nas_time  security_time  weather_time  \\\n",
       "count          924.000000     893.000000     924.000000    924.000000   \n",
       "mean         75511.966450   70057.123180     216.735931   8353.722944   \n",
       "std          58110.787045   85937.281155     274.848647   9164.925368   \n",
       "min           6199.000000    -999.000000       0.000000    294.000000   \n",
       "25%          30411.250000   12422.000000      67.750000   2429.500000   \n",
       "50%          58472.000000   35660.000000     150.000000   4906.000000   \n",
       "75%         104091.000000   95299.000000     274.000000  10684.250000   \n",
       "max         345456.000000  574857.000000    4949.000000  76770.000000   \n",
       "\n",
       "          total_time  \n",
       "count     924.000000  \n",
       "mean   206436.175325  \n",
       "std    176132.914461  \n",
       "min     18872.000000  \n",
       "25%     71210.500000  \n",
       "50%    151410.500000  \n",
       "75%    287184.500000  \n",
       "max    989367.000000  "
      ]
     },
     "execution_count": 8,
     "metadata": {},
     "output_type": "execute_result"
    }
   ],
   "source": [
    "df.select_dtypes(exclude=\"object\").describe()"
   ]
  },
  {
   "cell_type": "code",
   "execution_count": 9,
   "metadata": {},
   "outputs": [],
   "source": [
    "df = df.replace(-999, np.nan)"
   ]
  },
  {
   "cell_type": "code",
   "execution_count": 10,
   "metadata": {},
   "outputs": [],
   "source": [
    "df[\"month\"] = np.where(df[\"code\"] == \"ATL\", df[\"month\"].bfill(), df[\"month\"].ffill())\n",
    "\n",
    "df[\"year\"] = np.where(df[\"code\"] == \"ATL\", df[\"year\"].bfill(), df[\"year\"].ffill())"
   ]
  },
  {
   "cell_type": "code",
   "execution_count": 11,
   "metadata": {},
   "outputs": [],
   "source": [
    "df.code = pd.Categorical(\n",
    "    df.code, ordered=False, categories=[\"ATL\", \"DEN\", \"IAD\", \"ORD\", \"SAN\", \"SFO\", \"SLC\"]\n",
    ")\n",
    "\n",
    "df.month = pd.Categorical(\n",
    "    df.month,\n",
    "    ordered=True,\n",
    "    categories=[\n",
    "        \"January\",\n",
    "        \"February\",\n",
    "        \"March\",\n",
    "        \"April\",\n",
    "        \"May\",\n",
    "        \"June\",\n",
    "        \"July\",\n",
    "        \"August\",\n",
    "        \"September\",\n",
    "        \"October\",\n",
    "        \"November\",\n",
    "        \"December\",\n",
    "    ],\n",
    ")"
   ]
  },
  {
   "cell_type": "code",
   "execution_count": 12,
   "metadata": {},
   "outputs": [
    {
     "data": {
      "text/html": [
       "<div>\n",
       "<style scoped>\n",
       "    .dataframe tbody tr th:only-of-type {\n",
       "        vertical-align: middle;\n",
       "    }\n",
       "\n",
       "    .dataframe tbody tr th {\n",
       "        vertical-align: top;\n",
       "    }\n",
       "\n",
       "    .dataframe thead th {\n",
       "        text-align: right;\n",
       "    }\n",
       "</style>\n",
       "<table border=\"1\" class=\"dataframe\">\n",
       "  <thead>\n",
       "    <tr style=\"text-align: right;\">\n",
       "      <th>month</th>\n",
       "      <th>January</th>\n",
       "      <th>February</th>\n",
       "      <th>March</th>\n",
       "      <th>April</th>\n",
       "      <th>May</th>\n",
       "      <th>June</th>\n",
       "      <th>July</th>\n",
       "      <th>August</th>\n",
       "      <th>September</th>\n",
       "      <th>October</th>\n",
       "      <th>November</th>\n",
       "      <th>December</th>\n",
       "    </tr>\n",
       "    <tr>\n",
       "      <th>year</th>\n",
       "      <th></th>\n",
       "      <th></th>\n",
       "      <th></th>\n",
       "      <th></th>\n",
       "      <th></th>\n",
       "      <th></th>\n",
       "      <th></th>\n",
       "      <th></th>\n",
       "      <th></th>\n",
       "      <th></th>\n",
       "      <th></th>\n",
       "      <th></th>\n",
       "    </tr>\n",
       "  </thead>\n",
       "  <tbody>\n",
       "    <tr>\n",
       "      <th>2005.0</th>\n",
       "      <td>7</td>\n",
       "      <td>7</td>\n",
       "      <td>7</td>\n",
       "      <td>7</td>\n",
       "      <td>7</td>\n",
       "      <td>7</td>\n",
       "      <td>7</td>\n",
       "      <td>7</td>\n",
       "      <td>7</td>\n",
       "      <td>7</td>\n",
       "      <td>7</td>\n",
       "      <td>7</td>\n",
       "    </tr>\n",
       "    <tr>\n",
       "      <th>2006.0</th>\n",
       "      <td>7</td>\n",
       "      <td>7</td>\n",
       "      <td>7</td>\n",
       "      <td>7</td>\n",
       "      <td>7</td>\n",
       "      <td>7</td>\n",
       "      <td>7</td>\n",
       "      <td>7</td>\n",
       "      <td>7</td>\n",
       "      <td>7</td>\n",
       "      <td>7</td>\n",
       "      <td>7</td>\n",
       "    </tr>\n",
       "    <tr>\n",
       "      <th>2007.0</th>\n",
       "      <td>7</td>\n",
       "      <td>7</td>\n",
       "      <td>7</td>\n",
       "      <td>7</td>\n",
       "      <td>7</td>\n",
       "      <td>7</td>\n",
       "      <td>7</td>\n",
       "      <td>7</td>\n",
       "      <td>7</td>\n",
       "      <td>7</td>\n",
       "      <td>7</td>\n",
       "      <td>7</td>\n",
       "    </tr>\n",
       "    <tr>\n",
       "      <th>2008.0</th>\n",
       "      <td>7</td>\n",
       "      <td>7</td>\n",
       "      <td>7</td>\n",
       "      <td>7</td>\n",
       "      <td>7</td>\n",
       "      <td>7</td>\n",
       "      <td>7</td>\n",
       "      <td>7</td>\n",
       "      <td>7</td>\n",
       "      <td>7</td>\n",
       "      <td>7</td>\n",
       "      <td>7</td>\n",
       "    </tr>\n",
       "    <tr>\n",
       "      <th>2009.0</th>\n",
       "      <td>7</td>\n",
       "      <td>7</td>\n",
       "      <td>7</td>\n",
       "      <td>7</td>\n",
       "      <td>7</td>\n",
       "      <td>7</td>\n",
       "      <td>7</td>\n",
       "      <td>7</td>\n",
       "      <td>7</td>\n",
       "      <td>7</td>\n",
       "      <td>7</td>\n",
       "      <td>7</td>\n",
       "    </tr>\n",
       "    <tr>\n",
       "      <th>2010.0</th>\n",
       "      <td>7</td>\n",
       "      <td>7</td>\n",
       "      <td>7</td>\n",
       "      <td>7</td>\n",
       "      <td>7</td>\n",
       "      <td>7</td>\n",
       "      <td>7</td>\n",
       "      <td>7</td>\n",
       "      <td>7</td>\n",
       "      <td>7</td>\n",
       "      <td>7</td>\n",
       "      <td>7</td>\n",
       "    </tr>\n",
       "    <tr>\n",
       "      <th>2011.0</th>\n",
       "      <td>7</td>\n",
       "      <td>7</td>\n",
       "      <td>7</td>\n",
       "      <td>7</td>\n",
       "      <td>7</td>\n",
       "      <td>7</td>\n",
       "      <td>7</td>\n",
       "      <td>7</td>\n",
       "      <td>7</td>\n",
       "      <td>7</td>\n",
       "      <td>7</td>\n",
       "      <td>7</td>\n",
       "    </tr>\n",
       "    <tr>\n",
       "      <th>2012.0</th>\n",
       "      <td>7</td>\n",
       "      <td>7</td>\n",
       "      <td>7</td>\n",
       "      <td>7</td>\n",
       "      <td>7</td>\n",
       "      <td>7</td>\n",
       "      <td>7</td>\n",
       "      <td>7</td>\n",
       "      <td>7</td>\n",
       "      <td>7</td>\n",
       "      <td>7</td>\n",
       "      <td>7</td>\n",
       "    </tr>\n",
       "    <tr>\n",
       "      <th>2013.0</th>\n",
       "      <td>7</td>\n",
       "      <td>7</td>\n",
       "      <td>7</td>\n",
       "      <td>7</td>\n",
       "      <td>7</td>\n",
       "      <td>7</td>\n",
       "      <td>7</td>\n",
       "      <td>7</td>\n",
       "      <td>7</td>\n",
       "      <td>7</td>\n",
       "      <td>7</td>\n",
       "      <td>7</td>\n",
       "    </tr>\n",
       "    <tr>\n",
       "      <th>2014.0</th>\n",
       "      <td>7</td>\n",
       "      <td>7</td>\n",
       "      <td>7</td>\n",
       "      <td>7</td>\n",
       "      <td>7</td>\n",
       "      <td>7</td>\n",
       "      <td>7</td>\n",
       "      <td>7</td>\n",
       "      <td>7</td>\n",
       "      <td>7</td>\n",
       "      <td>7</td>\n",
       "      <td>7</td>\n",
       "    </tr>\n",
       "    <tr>\n",
       "      <th>2015.0</th>\n",
       "      <td>7</td>\n",
       "      <td>7</td>\n",
       "      <td>7</td>\n",
       "      <td>7</td>\n",
       "      <td>7</td>\n",
       "      <td>7</td>\n",
       "      <td>7</td>\n",
       "      <td>7</td>\n",
       "      <td>7</td>\n",
       "      <td>7</td>\n",
       "      <td>7</td>\n",
       "      <td>7</td>\n",
       "    </tr>\n",
       "  </tbody>\n",
       "</table>\n",
       "</div>"
      ],
      "text/plain": [
       "month   January  February  March  April  May  June  July  August  September  \\\n",
       "year                                                                          \n",
       "2005.0        7         7      7      7    7     7     7       7          7   \n",
       "2006.0        7         7      7      7    7     7     7       7          7   \n",
       "2007.0        7         7      7      7    7     7     7       7          7   \n",
       "2008.0        7         7      7      7    7     7     7       7          7   \n",
       "2009.0        7         7      7      7    7     7     7       7          7   \n",
       "2010.0        7         7      7      7    7     7     7       7          7   \n",
       "2011.0        7         7      7      7    7     7     7       7          7   \n",
       "2012.0        7         7      7      7    7     7     7       7          7   \n",
       "2013.0        7         7      7      7    7     7     7       7          7   \n",
       "2014.0        7         7      7      7    7     7     7       7          7   \n",
       "2015.0        7         7      7      7    7     7     7       7          7   \n",
       "\n",
       "month   October  November  December  \n",
       "year                                 \n",
       "2005.0        7         7         7  \n",
       "2006.0        7         7         7  \n",
       "2007.0        7         7         7  \n",
       "2008.0        7         7         7  \n",
       "2009.0        7         7         7  \n",
       "2010.0        7         7         7  \n",
       "2011.0        7         7         7  \n",
       "2012.0        7         7         7  \n",
       "2013.0        7         7         7  \n",
       "2014.0        7         7         7  \n",
       "2015.0        7         7         7  "
      ]
     },
     "execution_count": 12,
     "metadata": {},
     "output_type": "execute_result"
    }
   ],
   "source": [
    "df.pivot_table(values=\"code\", index=\"year\", columns=\"month\", aggfunc=\"count\")"
   ]
  },
  {
   "cell_type": "code",
   "execution_count": 13,
   "metadata": {},
   "outputs": [
    {
     "data": {
      "text/plain": [
       "code                     0\n",
       "month                    0\n",
       "year                     0\n",
       "total_flights            0\n",
       "carrier_delays           0\n",
       "late_aircraft_delays    40\n",
       "nas_delays               0\n",
       "security_delays          0\n",
       "weather_delays           0\n",
       "total_delays             0\n",
       "carrier_time            52\n",
       "late_aircraft_time       0\n",
       "nas_time                48\n",
       "security_time            0\n",
       "weather_time             0\n",
       "total_time               0\n",
       "dtype: int64"
      ]
     },
     "execution_count": 13,
     "metadata": {},
     "output_type": "execute_result"
    }
   ],
   "source": [
    "for c in [\"late_aircraft_delays\", \"carrier_time\", \"nas_time\"]:\n",
    "    df[c].fillna(np.nan, inplace=True)\n",
    "\n",
    "df.isna().sum()"
   ]
  },
  {
   "cell_type": "code",
   "execution_count": 14,
   "metadata": {},
   "outputs": [
    {
     "data": {
      "text/plain": [
       "code                    category\n",
       "month                   category\n",
       "year                       int16\n",
       "total_flights              int64\n",
       "carrier_delays            object\n",
       "late_aircraft_delays     float64\n",
       "nas_delays                 int64\n",
       "security_delays            int64\n",
       "weather_delays             int64\n",
       "total_delays               int64\n",
       "carrier_time             float64\n",
       "late_aircraft_time         int64\n",
       "nas_time                 float64\n",
       "security_time              int64\n",
       "weather_time               int64\n",
       "total_time                 int64\n",
       "dtype: object"
      ]
     },
     "execution_count": 14,
     "metadata": {},
     "output_type": "execute_result"
    }
   ],
   "source": [
    "df[\"year\"] = pd.to_numeric(df[\"year\"], downcast=\"integer\")\n",
    "df.dtypes"
   ]
  },
  {
   "cell_type": "code",
   "execution_count": 15,
   "metadata": {},
   "outputs": [
    {
     "data": {
      "text/html": [
       "<div>\n",
       "<style scoped>\n",
       "    .dataframe tbody tr th:only-of-type {\n",
       "        vertical-align: middle;\n",
       "    }\n",
       "\n",
       "    .dataframe tbody tr th {\n",
       "        vertical-align: top;\n",
       "    }\n",
       "\n",
       "    .dataframe thead th {\n",
       "        text-align: right;\n",
       "    }\n",
       "</style>\n",
       "<table border=\"1\" class=\"dataframe\">\n",
       "  <thead>\n",
       "    <tr style=\"text-align: right;\">\n",
       "      <th></th>\n",
       "      <th>code</th>\n",
       "      <th>month</th>\n",
       "      <th>year</th>\n",
       "      <th>total_flights</th>\n",
       "      <th>carrier_delays</th>\n",
       "      <th>late_aircraft_delays</th>\n",
       "      <th>nas_delays</th>\n",
       "      <th>security_delays</th>\n",
       "      <th>weather_delays</th>\n",
       "      <th>total_delays</th>\n",
       "      <th>carrier_time</th>\n",
       "      <th>late_aircraft_time</th>\n",
       "      <th>nas_time</th>\n",
       "      <th>security_time</th>\n",
       "      <th>weather_time</th>\n",
       "      <th>total_time</th>\n",
       "    </tr>\n",
       "  </thead>\n",
       "  <tbody>\n",
       "    <tr>\n",
       "      <th>0</th>\n",
       "      <td>ATL</td>\n",
       "      <td>January</td>\n",
       "      <td>2005</td>\n",
       "      <td>35048</td>\n",
       "      <td>1500+</td>\n",
       "      <td>NaN</td>\n",
       "      <td>4598</td>\n",
       "      <td>10</td>\n",
       "      <td>448</td>\n",
       "      <td>8355</td>\n",
       "      <td>116423.0</td>\n",
       "      <td>104415</td>\n",
       "      <td>207467.0</td>\n",
       "      <td>297</td>\n",
       "      <td>36931</td>\n",
       "      <td>465533</td>\n",
       "    </tr>\n",
       "  </tbody>\n",
       "</table>\n",
       "</div>"
      ],
      "text/plain": [
       "  code    month  year  total_flights carrier_delays  late_aircraft_delays  \\\n",
       "0  ATL  January  2005          35048          1500+                   NaN   \n",
       "\n",
       "   nas_delays  security_delays  weather_delays  total_delays  carrier_time  \\\n",
       "0        4598               10             448          8355      116423.0   \n",
       "\n",
       "   late_aircraft_time  nas_time  security_time  weather_time  total_time  \n",
       "0              104415  207467.0            297         36931      465533  "
      ]
     },
     "execution_count": 15,
     "metadata": {},
     "output_type": "execute_result"
    }
   ],
   "source": [
    "df.query(\"@pd.isna(late_aircraft_delays)\").head(1)"
   ]
  },
  {
   "cell_type": "code",
   "execution_count": 16,
   "metadata": {},
   "outputs": [
    {
     "data": {
      "text/html": [
       "<div>\n",
       "<style scoped>\n",
       "    .dataframe tbody tr th:only-of-type {\n",
       "        vertical-align: middle;\n",
       "    }\n",
       "\n",
       "    .dataframe tbody tr th {\n",
       "        vertical-align: top;\n",
       "    }\n",
       "\n",
       "    .dataframe thead th {\n",
       "        text-align: right;\n",
       "    }\n",
       "</style>\n",
       "<table border=\"1\" class=\"dataframe\">\n",
       "  <thead>\n",
       "    <tr style=\"text-align: right;\">\n",
       "      <th></th>\n",
       "      <th>code</th>\n",
       "      <th>month</th>\n",
       "      <th>year</th>\n",
       "      <th>total_flights</th>\n",
       "      <th>total_delays</th>\n",
       "      <th>total_time</th>\n",
       "      <th>ratio_delayed</th>\n",
       "      <th>mins_per_delay</th>\n",
       "    </tr>\n",
       "  </thead>\n",
       "  <tbody>\n",
       "    <tr>\n",
       "      <th>0</th>\n",
       "      <td>ATL</td>\n",
       "      <td>January</td>\n",
       "      <td>2005</td>\n",
       "      <td>35048</td>\n",
       "      <td>8355</td>\n",
       "      <td>465533</td>\n",
       "      <td>0.238387</td>\n",
       "      <td>55.719090</td>\n",
       "    </tr>\n",
       "    <tr>\n",
       "      <th>1</th>\n",
       "      <td>DEN</td>\n",
       "      <td>January</td>\n",
       "      <td>2005</td>\n",
       "      <td>12687</td>\n",
       "      <td>3153</td>\n",
       "      <td>182797</td>\n",
       "      <td>0.248522</td>\n",
       "      <td>57.975579</td>\n",
       "    </tr>\n",
       "    <tr>\n",
       "      <th>2</th>\n",
       "      <td>IAD</td>\n",
       "      <td>January</td>\n",
       "      <td>2005</td>\n",
       "      <td>12381</td>\n",
       "      <td>2430</td>\n",
       "      <td>134881</td>\n",
       "      <td>0.196268</td>\n",
       "      <td>55.506584</td>\n",
       "    </tr>\n",
       "    <tr>\n",
       "      <th>3</th>\n",
       "      <td>ORD</td>\n",
       "      <td>January</td>\n",
       "      <td>2005</td>\n",
       "      <td>28194</td>\n",
       "      <td>9178</td>\n",
       "      <td>638894</td>\n",
       "      <td>0.325530</td>\n",
       "      <td>69.611462</td>\n",
       "    </tr>\n",
       "    <tr>\n",
       "      <th>4</th>\n",
       "      <td>SAN</td>\n",
       "      <td>January</td>\n",
       "      <td>2005</td>\n",
       "      <td>7283</td>\n",
       "      <td>1952</td>\n",
       "      <td>91552</td>\n",
       "      <td>0.268021</td>\n",
       "      <td>46.901639</td>\n",
       "    </tr>\n",
       "    <tr>\n",
       "      <th>...</th>\n",
       "      <td>...</td>\n",
       "      <td>...</td>\n",
       "      <td>...</td>\n",
       "      <td>...</td>\n",
       "      <td>...</td>\n",
       "      <td>...</td>\n",
       "      <td>...</td>\n",
       "      <td>...</td>\n",
       "    </tr>\n",
       "    <tr>\n",
       "      <th>919</th>\n",
       "      <td>IAD</td>\n",
       "      <td>December</td>\n",
       "      <td>2015</td>\n",
       "      <td>2799</td>\n",
       "      <td>443</td>\n",
       "      <td>31164</td>\n",
       "      <td>0.158271</td>\n",
       "      <td>70.347630</td>\n",
       "    </tr>\n",
       "    <tr>\n",
       "      <th>920</th>\n",
       "      <td>ORD</td>\n",
       "      <td>December</td>\n",
       "      <td>2015</td>\n",
       "      <td>25568</td>\n",
       "      <td>4233</td>\n",
       "      <td>307956</td>\n",
       "      <td>0.165559</td>\n",
       "      <td>72.751240</td>\n",
       "    </tr>\n",
       "    <tr>\n",
       "      <th>921</th>\n",
       "      <td>SAN</td>\n",
       "      <td>December</td>\n",
       "      <td>2015</td>\n",
       "      <td>6231</td>\n",
       "      <td>1383</td>\n",
       "      <td>73139</td>\n",
       "      <td>0.221955</td>\n",
       "      <td>52.884309</td>\n",
       "    </tr>\n",
       "    <tr>\n",
       "      <th>922</th>\n",
       "      <td>SFO</td>\n",
       "      <td>December</td>\n",
       "      <td>2015</td>\n",
       "      <td>13833</td>\n",
       "      <td>4465</td>\n",
       "      <td>359584</td>\n",
       "      <td>0.322779</td>\n",
       "      <td>80.533931</td>\n",
       "    </tr>\n",
       "    <tr>\n",
       "      <th>923</th>\n",
       "      <td>SLC</td>\n",
       "      <td>December</td>\n",
       "      <td>2015</td>\n",
       "      <td>8804</td>\n",
       "      <td>1745</td>\n",
       "      <td>107269</td>\n",
       "      <td>0.198205</td>\n",
       "      <td>61.472206</td>\n",
       "    </tr>\n",
       "  </tbody>\n",
       "</table>\n",
       "<p>924 rows × 8 columns</p>\n",
       "</div>"
      ],
      "text/plain": [
       "    code     month  year  total_flights  total_delays  total_time  \\\n",
       "0    ATL   January  2005          35048          8355      465533   \n",
       "1    DEN   January  2005          12687          3153      182797   \n",
       "2    IAD   January  2005          12381          2430      134881   \n",
       "3    ORD   January  2005          28194          9178      638894   \n",
       "4    SAN   January  2005           7283          1952       91552   \n",
       "..   ...       ...   ...            ...           ...         ...   \n",
       "919  IAD  December  2015           2799           443       31164   \n",
       "920  ORD  December  2015          25568          4233      307956   \n",
       "921  SAN  December  2015           6231          1383       73139   \n",
       "922  SFO  December  2015          13833          4465      359584   \n",
       "923  SLC  December  2015           8804          1745      107269   \n",
       "\n",
       "     ratio_delayed  mins_per_delay  \n",
       "0         0.238387       55.719090  \n",
       "1         0.248522       57.975579  \n",
       "2         0.196268       55.506584  \n",
       "3         0.325530       69.611462  \n",
       "4         0.268021       46.901639  \n",
       "..             ...             ...  \n",
       "919       0.158271       70.347630  \n",
       "920       0.165559       72.751240  \n",
       "921       0.221955       52.884309  \n",
       "922       0.322779       80.533931  \n",
       "923       0.198205       61.472206  \n",
       "\n",
       "[924 rows x 8 columns]"
      ]
     },
     "execution_count": 16,
     "metadata": {},
     "output_type": "execute_result"
    }
   ],
   "source": [
    "worst = df[\n",
    "    [\"code\", \"month\", \"year\", \"total_flights\", \"total_delays\", \"total_time\"]\n",
    "].assign(\n",
    "    ratio_delayed=lambda x: x.total_delays / x.total_flights,\n",
    "    mins_per_delay=lambda x: x.total_time / x.total_delays,\n",
    ")\n",
    "\n",
    "worst"
   ]
  },
  {
   "cell_type": "code",
   "execution_count": 17,
   "metadata": {},
   "outputs": [
    {
     "data": {
      "text/html": [
       "<div>\n",
       "<style scoped>\n",
       "    .dataframe tbody tr th:only-of-type {\n",
       "        vertical-align: middle;\n",
       "    }\n",
       "\n",
       "    .dataframe tbody tr th {\n",
       "        vertical-align: top;\n",
       "    }\n",
       "\n",
       "    .dataframe thead th {\n",
       "        text-align: right;\n",
       "    }\n",
       "</style>\n",
       "<table border=\"1\" class=\"dataframe\">\n",
       "  <thead>\n",
       "    <tr style=\"text-align: right;\">\n",
       "      <th></th>\n",
       "      <th>code</th>\n",
       "      <th>avg_percent_delayed</th>\n",
       "      <th>median_percent_delayed</th>\n",
       "      <th>avg_time_delay</th>\n",
       "      <th>median_time_delay</th>\n",
       "    </tr>\n",
       "  </thead>\n",
       "  <tbody>\n",
       "    <tr>\n",
       "      <th>0</th>\n",
       "      <td>ATL</td>\n",
       "      <td>0.201649</td>\n",
       "      <td>0.195276</td>\n",
       "      <td>59.370106</td>\n",
       "      <td>58.409254</td>\n",
       "    </tr>\n",
       "    <tr>\n",
       "      <th>1</th>\n",
       "      <td>DEN</td>\n",
       "      <td>0.185782</td>\n",
       "      <td>0.183316</td>\n",
       "      <td>52.954840</td>\n",
       "      <td>52.273664</td>\n",
       "    </tr>\n",
       "    <tr>\n",
       "      <th>2</th>\n",
       "      <td>IAD</td>\n",
       "      <td>0.195161</td>\n",
       "      <td>0.192159</td>\n",
       "      <td>60.194677</td>\n",
       "      <td>59.771772</td>\n",
       "    </tr>\n",
       "    <tr>\n",
       "      <th>3</th>\n",
       "      <td>ORD</td>\n",
       "      <td>0.228812</td>\n",
       "      <td>0.222261</td>\n",
       "      <td>66.343044</td>\n",
       "      <td>66.403633</td>\n",
       "    </tr>\n",
       "    <tr>\n",
       "      <th>4</th>\n",
       "      <td>SAN</td>\n",
       "      <td>0.189708</td>\n",
       "      <td>0.185764</td>\n",
       "      <td>47.041653</td>\n",
       "      <td>46.433666</td>\n",
       "    </tr>\n",
       "    <tr>\n",
       "      <th>5</th>\n",
       "      <td>SFO</td>\n",
       "      <td>0.260612</td>\n",
       "      <td>0.252961</td>\n",
       "      <td>61.059171</td>\n",
       "      <td>60.180951</td>\n",
       "    </tr>\n",
       "    <tr>\n",
       "      <th>6</th>\n",
       "      <td>SLC</td>\n",
       "      <td>0.144063</td>\n",
       "      <td>0.134390</td>\n",
       "      <td>49.415215</td>\n",
       "      <td>48.019765</td>\n",
       "    </tr>\n",
       "  </tbody>\n",
       "</table>\n",
       "</div>"
      ],
      "text/plain": [
       "  code  avg_percent_delayed  median_percent_delayed  avg_time_delay  \\\n",
       "0  ATL             0.201649                0.195276       59.370106   \n",
       "1  DEN             0.185782                0.183316       52.954840   \n",
       "2  IAD             0.195161                0.192159       60.194677   \n",
       "3  ORD             0.228812                0.222261       66.343044   \n",
       "4  SAN             0.189708                0.185764       47.041653   \n",
       "5  SFO             0.260612                0.252961       61.059171   \n",
       "6  SLC             0.144063                0.134390       49.415215   \n",
       "\n",
       "   median_time_delay  \n",
       "0          58.409254  \n",
       "1          52.273664  \n",
       "2          59.771772  \n",
       "3          66.403633  \n",
       "4          46.433666  \n",
       "5          60.180951  \n",
       "6          48.019765  "
      ]
     },
     "execution_count": 17,
     "metadata": {},
     "output_type": "execute_result"
    }
   ],
   "source": [
    "by_code = (\n",
    "    worst.groupby(\"code\", observed=True)\n",
    "    .agg(\n",
    "        avg_percent_delayed=(\"ratio_delayed\", \"mean\"),\n",
    "        median_percent_delayed=(\"ratio_delayed\", \"median\"),\n",
    "        avg_time_delay=(\"mins_per_delay\", \"mean\"),\n",
    "        median_time_delay=(\"mins_per_delay\", \"median\"),\n",
    "    )\n",
    "    .reset_index()\n",
    ")\n",
    "\n",
    "by_code"
   ]
  },
  {
   "cell_type": "code",
   "execution_count": 18,
   "metadata": {},
   "outputs": [
    {
     "data": {
      "application/vnd.plotly.v1+json": {
       "config": {
        "plotlyServerURL": "https://plot.ly"
       },
       "data": [
        {
         "alignmentgroup": "True",
         "customdata": [
          [
           0.19527632427782954
          ],
          [
           0.18331568231831968
          ],
          [
           0.1921591239271236
          ],
          [
           0.22226116788848996
          ],
          [
           0.18576383318686857
          ],
          [
           0.2529612991228102
          ],
          [
           0.1343903131909326
          ]
         ],
         "hovertemplate": "Airport=%{x}<br>Percent of Flights Delayed (Average)=%{y}<br>Percent of Flights Delayed (Median)=%{marker.color}<extra></extra>",
         "legendgroup": "",
         "marker": {
          "color": [
           0.19527632427782954,
           0.18331568231831968,
           0.1921591239271236,
           0.22226116788848996,
           0.18576383318686857,
           0.2529612991228102,
           0.1343903131909326
          ],
          "coloraxis": "coloraxis",
          "pattern": {
           "shape": ""
          }
         },
         "name": "",
         "offsetgroup": "",
         "orientation": "v",
         "showlegend": false,
         "textposition": "auto",
         "texttemplate": "%{y:.1%}",
         "type": "bar",
         "x": [
          "ATL",
          "DEN",
          "IAD",
          "ORD",
          "SAN",
          "SFO",
          "SLC"
         ],
         "xaxis": "x",
         "y": [
          0.2016491706595049,
          0.18578165063091606,
          0.19516054362206298,
          0.22881193714994072,
          0.18970811505017884,
          0.2606124006385618,
          0.1440633818983923
         ],
         "yaxis": "y"
        }
       ],
       "layout": {
        "barmode": "relative",
        "coloraxis": {
         "colorbar": {
          "tickformat": ".0%",
          "title": {
           "text": "Percent of Flights Delayed (Median)"
          }
         },
         "colorscale": [
          [
           0,
           "#0d0887"
          ],
          [
           0.1111111111111111,
           "#46039f"
          ],
          [
           0.2222222222222222,
           "#7201a8"
          ],
          [
           0.3333333333333333,
           "#9c179e"
          ],
          [
           0.4444444444444444,
           "#bd3786"
          ],
          [
           0.5555555555555556,
           "#d8576b"
          ],
          [
           0.6666666666666666,
           "#ed7953"
          ],
          [
           0.7777777777777778,
           "#fb9f3a"
          ],
          [
           0.8888888888888888,
           "#fdca26"
          ],
          [
           1,
           "#f0f921"
          ]
         ]
        },
        "legend": {
         "tracegroupgap": 0
        },
        "margin": {
         "t": 60
        },
        "template": {
         "data": {
          "bar": [
           {
            "error_x": {
             "color": "#2a3f5f"
            },
            "error_y": {
             "color": "#2a3f5f"
            },
            "marker": {
             "line": {
              "color": "#E5ECF6",
              "width": 0.5
             },
             "pattern": {
              "fillmode": "overlay",
              "size": 10,
              "solidity": 0.2
             }
            },
            "type": "bar"
           }
          ],
          "barpolar": [
           {
            "marker": {
             "line": {
              "color": "#E5ECF6",
              "width": 0.5
             },
             "pattern": {
              "fillmode": "overlay",
              "size": 10,
              "solidity": 0.2
             }
            },
            "type": "barpolar"
           }
          ],
          "carpet": [
           {
            "aaxis": {
             "endlinecolor": "#2a3f5f",
             "gridcolor": "white",
             "linecolor": "white",
             "minorgridcolor": "white",
             "startlinecolor": "#2a3f5f"
            },
            "baxis": {
             "endlinecolor": "#2a3f5f",
             "gridcolor": "white",
             "linecolor": "white",
             "minorgridcolor": "white",
             "startlinecolor": "#2a3f5f"
            },
            "type": "carpet"
           }
          ],
          "choropleth": [
           {
            "colorbar": {
             "outlinewidth": 0,
             "ticks": ""
            },
            "type": "choropleth"
           }
          ],
          "contour": [
           {
            "colorbar": {
             "outlinewidth": 0,
             "ticks": ""
            },
            "colorscale": [
             [
              0,
              "#0d0887"
             ],
             [
              0.1111111111111111,
              "#46039f"
             ],
             [
              0.2222222222222222,
              "#7201a8"
             ],
             [
              0.3333333333333333,
              "#9c179e"
             ],
             [
              0.4444444444444444,
              "#bd3786"
             ],
             [
              0.5555555555555556,
              "#d8576b"
             ],
             [
              0.6666666666666666,
              "#ed7953"
             ],
             [
              0.7777777777777778,
              "#fb9f3a"
             ],
             [
              0.8888888888888888,
              "#fdca26"
             ],
             [
              1,
              "#f0f921"
             ]
            ],
            "type": "contour"
           }
          ],
          "contourcarpet": [
           {
            "colorbar": {
             "outlinewidth": 0,
             "ticks": ""
            },
            "type": "contourcarpet"
           }
          ],
          "heatmap": [
           {
            "colorbar": {
             "outlinewidth": 0,
             "ticks": ""
            },
            "colorscale": [
             [
              0,
              "#0d0887"
             ],
             [
              0.1111111111111111,
              "#46039f"
             ],
             [
              0.2222222222222222,
              "#7201a8"
             ],
             [
              0.3333333333333333,
              "#9c179e"
             ],
             [
              0.4444444444444444,
              "#bd3786"
             ],
             [
              0.5555555555555556,
              "#d8576b"
             ],
             [
              0.6666666666666666,
              "#ed7953"
             ],
             [
              0.7777777777777778,
              "#fb9f3a"
             ],
             [
              0.8888888888888888,
              "#fdca26"
             ],
             [
              1,
              "#f0f921"
             ]
            ],
            "type": "heatmap"
           }
          ],
          "heatmapgl": [
           {
            "colorbar": {
             "outlinewidth": 0,
             "ticks": ""
            },
            "colorscale": [
             [
              0,
              "#0d0887"
             ],
             [
              0.1111111111111111,
              "#46039f"
             ],
             [
              0.2222222222222222,
              "#7201a8"
             ],
             [
              0.3333333333333333,
              "#9c179e"
             ],
             [
              0.4444444444444444,
              "#bd3786"
             ],
             [
              0.5555555555555556,
              "#d8576b"
             ],
             [
              0.6666666666666666,
              "#ed7953"
             ],
             [
              0.7777777777777778,
              "#fb9f3a"
             ],
             [
              0.8888888888888888,
              "#fdca26"
             ],
             [
              1,
              "#f0f921"
             ]
            ],
            "type": "heatmapgl"
           }
          ],
          "histogram": [
           {
            "marker": {
             "pattern": {
              "fillmode": "overlay",
              "size": 10,
              "solidity": 0.2
             }
            },
            "type": "histogram"
           }
          ],
          "histogram2d": [
           {
            "colorbar": {
             "outlinewidth": 0,
             "ticks": ""
            },
            "colorscale": [
             [
              0,
              "#0d0887"
             ],
             [
              0.1111111111111111,
              "#46039f"
             ],
             [
              0.2222222222222222,
              "#7201a8"
             ],
             [
              0.3333333333333333,
              "#9c179e"
             ],
             [
              0.4444444444444444,
              "#bd3786"
             ],
             [
              0.5555555555555556,
              "#d8576b"
             ],
             [
              0.6666666666666666,
              "#ed7953"
             ],
             [
              0.7777777777777778,
              "#fb9f3a"
             ],
             [
              0.8888888888888888,
              "#fdca26"
             ],
             [
              1,
              "#f0f921"
             ]
            ],
            "type": "histogram2d"
           }
          ],
          "histogram2dcontour": [
           {
            "colorbar": {
             "outlinewidth": 0,
             "ticks": ""
            },
            "colorscale": [
             [
              0,
              "#0d0887"
             ],
             [
              0.1111111111111111,
              "#46039f"
             ],
             [
              0.2222222222222222,
              "#7201a8"
             ],
             [
              0.3333333333333333,
              "#9c179e"
             ],
             [
              0.4444444444444444,
              "#bd3786"
             ],
             [
              0.5555555555555556,
              "#d8576b"
             ],
             [
              0.6666666666666666,
              "#ed7953"
             ],
             [
              0.7777777777777778,
              "#fb9f3a"
             ],
             [
              0.8888888888888888,
              "#fdca26"
             ],
             [
              1,
              "#f0f921"
             ]
            ],
            "type": "histogram2dcontour"
           }
          ],
          "mesh3d": [
           {
            "colorbar": {
             "outlinewidth": 0,
             "ticks": ""
            },
            "type": "mesh3d"
           }
          ],
          "parcoords": [
           {
            "line": {
             "colorbar": {
              "outlinewidth": 0,
              "ticks": ""
             }
            },
            "type": "parcoords"
           }
          ],
          "pie": [
           {
            "automargin": true,
            "type": "pie"
           }
          ],
          "scatter": [
           {
            "fillpattern": {
             "fillmode": "overlay",
             "size": 10,
             "solidity": 0.2
            },
            "type": "scatter"
           }
          ],
          "scatter3d": [
           {
            "line": {
             "colorbar": {
              "outlinewidth": 0,
              "ticks": ""
             }
            },
            "marker": {
             "colorbar": {
              "outlinewidth": 0,
              "ticks": ""
             }
            },
            "type": "scatter3d"
           }
          ],
          "scattercarpet": [
           {
            "marker": {
             "colorbar": {
              "outlinewidth": 0,
              "ticks": ""
             }
            },
            "type": "scattercarpet"
           }
          ],
          "scattergeo": [
           {
            "marker": {
             "colorbar": {
              "outlinewidth": 0,
              "ticks": ""
             }
            },
            "type": "scattergeo"
           }
          ],
          "scattergl": [
           {
            "marker": {
             "colorbar": {
              "outlinewidth": 0,
              "ticks": ""
             }
            },
            "type": "scattergl"
           }
          ],
          "scattermapbox": [
           {
            "marker": {
             "colorbar": {
              "outlinewidth": 0,
              "ticks": ""
             }
            },
            "type": "scattermapbox"
           }
          ],
          "scatterpolar": [
           {
            "marker": {
             "colorbar": {
              "outlinewidth": 0,
              "ticks": ""
             }
            },
            "type": "scatterpolar"
           }
          ],
          "scatterpolargl": [
           {
            "marker": {
             "colorbar": {
              "outlinewidth": 0,
              "ticks": ""
             }
            },
            "type": "scatterpolargl"
           }
          ],
          "scatterternary": [
           {
            "marker": {
             "colorbar": {
              "outlinewidth": 0,
              "ticks": ""
             }
            },
            "type": "scatterternary"
           }
          ],
          "surface": [
           {
            "colorbar": {
             "outlinewidth": 0,
             "ticks": ""
            },
            "colorscale": [
             [
              0,
              "#0d0887"
             ],
             [
              0.1111111111111111,
              "#46039f"
             ],
             [
              0.2222222222222222,
              "#7201a8"
             ],
             [
              0.3333333333333333,
              "#9c179e"
             ],
             [
              0.4444444444444444,
              "#bd3786"
             ],
             [
              0.5555555555555556,
              "#d8576b"
             ],
             [
              0.6666666666666666,
              "#ed7953"
             ],
             [
              0.7777777777777778,
              "#fb9f3a"
             ],
             [
              0.8888888888888888,
              "#fdca26"
             ],
             [
              1,
              "#f0f921"
             ]
            ],
            "type": "surface"
           }
          ],
          "table": [
           {
            "cells": {
             "fill": {
              "color": "#EBF0F8"
             },
             "line": {
              "color": "white"
             }
            },
            "header": {
             "fill": {
              "color": "#C8D4E3"
             },
             "line": {
              "color": "white"
             }
            },
            "type": "table"
           }
          ]
         },
         "layout": {
          "annotationdefaults": {
           "arrowcolor": "#2a3f5f",
           "arrowhead": 0,
           "arrowwidth": 1
          },
          "autotypenumbers": "strict",
          "coloraxis": {
           "colorbar": {
            "outlinewidth": 0,
            "ticks": ""
           }
          },
          "colorscale": {
           "diverging": [
            [
             0,
             "#8e0152"
            ],
            [
             0.1,
             "#c51b7d"
            ],
            [
             0.2,
             "#de77ae"
            ],
            [
             0.3,
             "#f1b6da"
            ],
            [
             0.4,
             "#fde0ef"
            ],
            [
             0.5,
             "#f7f7f7"
            ],
            [
             0.6,
             "#e6f5d0"
            ],
            [
             0.7,
             "#b8e186"
            ],
            [
             0.8,
             "#7fbc41"
            ],
            [
             0.9,
             "#4d9221"
            ],
            [
             1,
             "#276419"
            ]
           ],
           "sequential": [
            [
             0,
             "#0d0887"
            ],
            [
             0.1111111111111111,
             "#46039f"
            ],
            [
             0.2222222222222222,
             "#7201a8"
            ],
            [
             0.3333333333333333,
             "#9c179e"
            ],
            [
             0.4444444444444444,
             "#bd3786"
            ],
            [
             0.5555555555555556,
             "#d8576b"
            ],
            [
             0.6666666666666666,
             "#ed7953"
            ],
            [
             0.7777777777777778,
             "#fb9f3a"
            ],
            [
             0.8888888888888888,
             "#fdca26"
            ],
            [
             1,
             "#f0f921"
            ]
           ],
           "sequentialminus": [
            [
             0,
             "#0d0887"
            ],
            [
             0.1111111111111111,
             "#46039f"
            ],
            [
             0.2222222222222222,
             "#7201a8"
            ],
            [
             0.3333333333333333,
             "#9c179e"
            ],
            [
             0.4444444444444444,
             "#bd3786"
            ],
            [
             0.5555555555555556,
             "#d8576b"
            ],
            [
             0.6666666666666666,
             "#ed7953"
            ],
            [
             0.7777777777777778,
             "#fb9f3a"
            ],
            [
             0.8888888888888888,
             "#fdca26"
            ],
            [
             1,
             "#f0f921"
            ]
           ]
          },
          "colorway": [
           "#636efa",
           "#EF553B",
           "#00cc96",
           "#ab63fa",
           "#FFA15A",
           "#19d3f3",
           "#FF6692",
           "#B6E880",
           "#FF97FF",
           "#FECB52"
          ],
          "font": {
           "color": "#2a3f5f"
          },
          "geo": {
           "bgcolor": "white",
           "lakecolor": "white",
           "landcolor": "#E5ECF6",
           "showlakes": true,
           "showland": true,
           "subunitcolor": "white"
          },
          "hoverlabel": {
           "align": "left"
          },
          "hovermode": "closest",
          "mapbox": {
           "style": "light"
          },
          "paper_bgcolor": "white",
          "plot_bgcolor": "#E5ECF6",
          "polar": {
           "angularaxis": {
            "gridcolor": "white",
            "linecolor": "white",
            "ticks": ""
           },
           "bgcolor": "#E5ECF6",
           "radialaxis": {
            "gridcolor": "white",
            "linecolor": "white",
            "ticks": ""
           }
          },
          "scene": {
           "xaxis": {
            "backgroundcolor": "#E5ECF6",
            "gridcolor": "white",
            "gridwidth": 2,
            "linecolor": "white",
            "showbackground": true,
            "ticks": "",
            "zerolinecolor": "white"
           },
           "yaxis": {
            "backgroundcolor": "#E5ECF6",
            "gridcolor": "white",
            "gridwidth": 2,
            "linecolor": "white",
            "showbackground": true,
            "ticks": "",
            "zerolinecolor": "white"
           },
           "zaxis": {
            "backgroundcolor": "#E5ECF6",
            "gridcolor": "white",
            "gridwidth": 2,
            "linecolor": "white",
            "showbackground": true,
            "ticks": "",
            "zerolinecolor": "white"
           }
          },
          "shapedefaults": {
           "line": {
            "color": "#2a3f5f"
           }
          },
          "ternary": {
           "aaxis": {
            "gridcolor": "white",
            "linecolor": "white",
            "ticks": ""
           },
           "baxis": {
            "gridcolor": "white",
            "linecolor": "white",
            "ticks": ""
           },
           "bgcolor": "#E5ECF6",
           "caxis": {
            "gridcolor": "white",
            "linecolor": "white",
            "ticks": ""
           }
          },
          "title": {
           "x": 0.05
          },
          "xaxis": {
           "automargin": true,
           "gridcolor": "white",
           "linecolor": "white",
           "ticks": "",
           "title": {
            "standoff": 15
           },
           "zerolinecolor": "white",
           "zerolinewidth": 2
          },
          "yaxis": {
           "automargin": true,
           "gridcolor": "white",
           "linecolor": "white",
           "ticks": "",
           "title": {
            "standoff": 15
           },
           "zerolinecolor": "white",
           "zerolinewidth": 2
          }
         }
        },
        "title": {
         "text": "Percent of Flights Delayed by Airport"
        },
        "xaxis": {
         "anchor": "y",
         "domain": [
          0,
          1
         ],
         "title": {
          "text": "Airport"
         }
        },
        "yaxis": {
         "anchor": "x",
         "domain": [
          0,
          1
         ],
         "range": [
          0.1,
          0.3
         ],
         "tickformat": ".0%",
         "title": {
          "text": "Percent of Flights Delayed (Average)"
         }
        }
       }
      }
     },
     "metadata": {},
     "output_type": "display_data"
    }
   ],
   "source": [
    "fig = px.bar(\n",
    "    by_code,\n",
    "    x=\"code\",\n",
    "    y=\"avg_percent_delayed\",\n",
    "    range_y=[0.1, 0.3],\n",
    "    color=\"median_percent_delayed\",\n",
    "    text_auto=\".1%\",\n",
    "    hover_data=[\"avg_percent_delayed\", \"median_percent_delayed\"],\n",
    "    labels={\n",
    "        \"avg_percent_delayed\": \"Percent of Flights Delayed (Average)\",\n",
    "        \"median_percent_delayed\": \"Percent of Flights Delayed (Median)\",\n",
    "        \"code\": \"Airport\",\n",
    "    },\n",
    ")\n",
    "\n",
    "fig.update_layout(title_text=\"Percent of Flights Delayed by Airport\")\n",
    "\n",
    "fig.update_yaxes(tickformat=\".0%\")\n",
    "\n",
    "fig.update_coloraxes(colorbar_tickformat=\".0%\")\n",
    "\n",
    "fig.show()"
   ]
  },
  {
   "cell_type": "code",
   "execution_count": 19,
   "metadata": {},
   "outputs": [
    {
     "data": {
      "application/vnd.plotly.v1+json": {
       "config": {
        "plotlyServerURL": "https://plot.ly"
       },
       "data": [
        {
         "alignmentgroup": "True",
         "customdata": [
          [
           58.40925449054776
          ],
          [
           52.273663904104936
          ],
          [
           59.77177216319552
          ],
          [
           66.40363289623835
          ],
          [
           46.43366553742301
          ],
          [
           60.18095135014747
          ],
          [
           48.01976458243374
          ]
         ],
         "hovertemplate": "Airport=%{x}<br>Average Time Delay (Minutes)=%{y}<br>Median Time Delay (Minutes)=%{marker.color}<extra></extra>",
         "legendgroup": "",
         "marker": {
          "color": [
           58.40925449054776,
           52.273663904104936,
           59.77177216319552,
           66.40363289623835,
           46.43366553742301,
           60.18095135014747,
           48.01976458243374
          ],
          "coloraxis": "coloraxis",
          "pattern": {
           "shape": ""
          }
         },
         "name": "",
         "offsetgroup": "",
         "orientation": "v",
         "showlegend": false,
         "textposition": "auto",
         "texttemplate": "%{y:.1f}",
         "type": "bar",
         "x": [
          "ATL",
          "DEN",
          "IAD",
          "ORD",
          "SAN",
          "SFO",
          "SLC"
         ],
         "xaxis": "x",
         "y": [
          59.370105684707724,
          52.954839900480124,
          60.194677258463614,
          66.3430436233577,
          47.0416531309433,
          61.05917084795491,
          49.415215452974735
         ],
         "yaxis": "y"
        }
       ],
       "layout": {
        "barmode": "relative",
        "coloraxis": {
         "colorbar": {
          "title": {
           "text": "Median Time Delay (Minutes)"
          }
         },
         "colorscale": [
          [
           0,
           "#0d0887"
          ],
          [
           0.1111111111111111,
           "#46039f"
          ],
          [
           0.2222222222222222,
           "#7201a8"
          ],
          [
           0.3333333333333333,
           "#9c179e"
          ],
          [
           0.4444444444444444,
           "#bd3786"
          ],
          [
           0.5555555555555556,
           "#d8576b"
          ],
          [
           0.6666666666666666,
           "#ed7953"
          ],
          [
           0.7777777777777778,
           "#fb9f3a"
          ],
          [
           0.8888888888888888,
           "#fdca26"
          ],
          [
           1,
           "#f0f921"
          ]
         ]
        },
        "legend": {
         "tracegroupgap": 0
        },
        "margin": {
         "t": 60
        },
        "template": {
         "data": {
          "bar": [
           {
            "error_x": {
             "color": "#2a3f5f"
            },
            "error_y": {
             "color": "#2a3f5f"
            },
            "marker": {
             "line": {
              "color": "#E5ECF6",
              "width": 0.5
             },
             "pattern": {
              "fillmode": "overlay",
              "size": 10,
              "solidity": 0.2
             }
            },
            "type": "bar"
           }
          ],
          "barpolar": [
           {
            "marker": {
             "line": {
              "color": "#E5ECF6",
              "width": 0.5
             },
             "pattern": {
              "fillmode": "overlay",
              "size": 10,
              "solidity": 0.2
             }
            },
            "type": "barpolar"
           }
          ],
          "carpet": [
           {
            "aaxis": {
             "endlinecolor": "#2a3f5f",
             "gridcolor": "white",
             "linecolor": "white",
             "minorgridcolor": "white",
             "startlinecolor": "#2a3f5f"
            },
            "baxis": {
             "endlinecolor": "#2a3f5f",
             "gridcolor": "white",
             "linecolor": "white",
             "minorgridcolor": "white",
             "startlinecolor": "#2a3f5f"
            },
            "type": "carpet"
           }
          ],
          "choropleth": [
           {
            "colorbar": {
             "outlinewidth": 0,
             "ticks": ""
            },
            "type": "choropleth"
           }
          ],
          "contour": [
           {
            "colorbar": {
             "outlinewidth": 0,
             "ticks": ""
            },
            "colorscale": [
             [
              0,
              "#0d0887"
             ],
             [
              0.1111111111111111,
              "#46039f"
             ],
             [
              0.2222222222222222,
              "#7201a8"
             ],
             [
              0.3333333333333333,
              "#9c179e"
             ],
             [
              0.4444444444444444,
              "#bd3786"
             ],
             [
              0.5555555555555556,
              "#d8576b"
             ],
             [
              0.6666666666666666,
              "#ed7953"
             ],
             [
              0.7777777777777778,
              "#fb9f3a"
             ],
             [
              0.8888888888888888,
              "#fdca26"
             ],
             [
              1,
              "#f0f921"
             ]
            ],
            "type": "contour"
           }
          ],
          "contourcarpet": [
           {
            "colorbar": {
             "outlinewidth": 0,
             "ticks": ""
            },
            "type": "contourcarpet"
           }
          ],
          "heatmap": [
           {
            "colorbar": {
             "outlinewidth": 0,
             "ticks": ""
            },
            "colorscale": [
             [
              0,
              "#0d0887"
             ],
             [
              0.1111111111111111,
              "#46039f"
             ],
             [
              0.2222222222222222,
              "#7201a8"
             ],
             [
              0.3333333333333333,
              "#9c179e"
             ],
             [
              0.4444444444444444,
              "#bd3786"
             ],
             [
              0.5555555555555556,
              "#d8576b"
             ],
             [
              0.6666666666666666,
              "#ed7953"
             ],
             [
              0.7777777777777778,
              "#fb9f3a"
             ],
             [
              0.8888888888888888,
              "#fdca26"
             ],
             [
              1,
              "#f0f921"
             ]
            ],
            "type": "heatmap"
           }
          ],
          "heatmapgl": [
           {
            "colorbar": {
             "outlinewidth": 0,
             "ticks": ""
            },
            "colorscale": [
             [
              0,
              "#0d0887"
             ],
             [
              0.1111111111111111,
              "#46039f"
             ],
             [
              0.2222222222222222,
              "#7201a8"
             ],
             [
              0.3333333333333333,
              "#9c179e"
             ],
             [
              0.4444444444444444,
              "#bd3786"
             ],
             [
              0.5555555555555556,
              "#d8576b"
             ],
             [
              0.6666666666666666,
              "#ed7953"
             ],
             [
              0.7777777777777778,
              "#fb9f3a"
             ],
             [
              0.8888888888888888,
              "#fdca26"
             ],
             [
              1,
              "#f0f921"
             ]
            ],
            "type": "heatmapgl"
           }
          ],
          "histogram": [
           {
            "marker": {
             "pattern": {
              "fillmode": "overlay",
              "size": 10,
              "solidity": 0.2
             }
            },
            "type": "histogram"
           }
          ],
          "histogram2d": [
           {
            "colorbar": {
             "outlinewidth": 0,
             "ticks": ""
            },
            "colorscale": [
             [
              0,
              "#0d0887"
             ],
             [
              0.1111111111111111,
              "#46039f"
             ],
             [
              0.2222222222222222,
              "#7201a8"
             ],
             [
              0.3333333333333333,
              "#9c179e"
             ],
             [
              0.4444444444444444,
              "#bd3786"
             ],
             [
              0.5555555555555556,
              "#d8576b"
             ],
             [
              0.6666666666666666,
              "#ed7953"
             ],
             [
              0.7777777777777778,
              "#fb9f3a"
             ],
             [
              0.8888888888888888,
              "#fdca26"
             ],
             [
              1,
              "#f0f921"
             ]
            ],
            "type": "histogram2d"
           }
          ],
          "histogram2dcontour": [
           {
            "colorbar": {
             "outlinewidth": 0,
             "ticks": ""
            },
            "colorscale": [
             [
              0,
              "#0d0887"
             ],
             [
              0.1111111111111111,
              "#46039f"
             ],
             [
              0.2222222222222222,
              "#7201a8"
             ],
             [
              0.3333333333333333,
              "#9c179e"
             ],
             [
              0.4444444444444444,
              "#bd3786"
             ],
             [
              0.5555555555555556,
              "#d8576b"
             ],
             [
              0.6666666666666666,
              "#ed7953"
             ],
             [
              0.7777777777777778,
              "#fb9f3a"
             ],
             [
              0.8888888888888888,
              "#fdca26"
             ],
             [
              1,
              "#f0f921"
             ]
            ],
            "type": "histogram2dcontour"
           }
          ],
          "mesh3d": [
           {
            "colorbar": {
             "outlinewidth": 0,
             "ticks": ""
            },
            "type": "mesh3d"
           }
          ],
          "parcoords": [
           {
            "line": {
             "colorbar": {
              "outlinewidth": 0,
              "ticks": ""
             }
            },
            "type": "parcoords"
           }
          ],
          "pie": [
           {
            "automargin": true,
            "type": "pie"
           }
          ],
          "scatter": [
           {
            "fillpattern": {
             "fillmode": "overlay",
             "size": 10,
             "solidity": 0.2
            },
            "type": "scatter"
           }
          ],
          "scatter3d": [
           {
            "line": {
             "colorbar": {
              "outlinewidth": 0,
              "ticks": ""
             }
            },
            "marker": {
             "colorbar": {
              "outlinewidth": 0,
              "ticks": ""
             }
            },
            "type": "scatter3d"
           }
          ],
          "scattercarpet": [
           {
            "marker": {
             "colorbar": {
              "outlinewidth": 0,
              "ticks": ""
             }
            },
            "type": "scattercarpet"
           }
          ],
          "scattergeo": [
           {
            "marker": {
             "colorbar": {
              "outlinewidth": 0,
              "ticks": ""
             }
            },
            "type": "scattergeo"
           }
          ],
          "scattergl": [
           {
            "marker": {
             "colorbar": {
              "outlinewidth": 0,
              "ticks": ""
             }
            },
            "type": "scattergl"
           }
          ],
          "scattermapbox": [
           {
            "marker": {
             "colorbar": {
              "outlinewidth": 0,
              "ticks": ""
             }
            },
            "type": "scattermapbox"
           }
          ],
          "scatterpolar": [
           {
            "marker": {
             "colorbar": {
              "outlinewidth": 0,
              "ticks": ""
             }
            },
            "type": "scatterpolar"
           }
          ],
          "scatterpolargl": [
           {
            "marker": {
             "colorbar": {
              "outlinewidth": 0,
              "ticks": ""
             }
            },
            "type": "scatterpolargl"
           }
          ],
          "scatterternary": [
           {
            "marker": {
             "colorbar": {
              "outlinewidth": 0,
              "ticks": ""
             }
            },
            "type": "scatterternary"
           }
          ],
          "surface": [
           {
            "colorbar": {
             "outlinewidth": 0,
             "ticks": ""
            },
            "colorscale": [
             [
              0,
              "#0d0887"
             ],
             [
              0.1111111111111111,
              "#46039f"
             ],
             [
              0.2222222222222222,
              "#7201a8"
             ],
             [
              0.3333333333333333,
              "#9c179e"
             ],
             [
              0.4444444444444444,
              "#bd3786"
             ],
             [
              0.5555555555555556,
              "#d8576b"
             ],
             [
              0.6666666666666666,
              "#ed7953"
             ],
             [
              0.7777777777777778,
              "#fb9f3a"
             ],
             [
              0.8888888888888888,
              "#fdca26"
             ],
             [
              1,
              "#f0f921"
             ]
            ],
            "type": "surface"
           }
          ],
          "table": [
           {
            "cells": {
             "fill": {
              "color": "#EBF0F8"
             },
             "line": {
              "color": "white"
             }
            },
            "header": {
             "fill": {
              "color": "#C8D4E3"
             },
             "line": {
              "color": "white"
             }
            },
            "type": "table"
           }
          ]
         },
         "layout": {
          "annotationdefaults": {
           "arrowcolor": "#2a3f5f",
           "arrowhead": 0,
           "arrowwidth": 1
          },
          "autotypenumbers": "strict",
          "coloraxis": {
           "colorbar": {
            "outlinewidth": 0,
            "ticks": ""
           }
          },
          "colorscale": {
           "diverging": [
            [
             0,
             "#8e0152"
            ],
            [
             0.1,
             "#c51b7d"
            ],
            [
             0.2,
             "#de77ae"
            ],
            [
             0.3,
             "#f1b6da"
            ],
            [
             0.4,
             "#fde0ef"
            ],
            [
             0.5,
             "#f7f7f7"
            ],
            [
             0.6,
             "#e6f5d0"
            ],
            [
             0.7,
             "#b8e186"
            ],
            [
             0.8,
             "#7fbc41"
            ],
            [
             0.9,
             "#4d9221"
            ],
            [
             1,
             "#276419"
            ]
           ],
           "sequential": [
            [
             0,
             "#0d0887"
            ],
            [
             0.1111111111111111,
             "#46039f"
            ],
            [
             0.2222222222222222,
             "#7201a8"
            ],
            [
             0.3333333333333333,
             "#9c179e"
            ],
            [
             0.4444444444444444,
             "#bd3786"
            ],
            [
             0.5555555555555556,
             "#d8576b"
            ],
            [
             0.6666666666666666,
             "#ed7953"
            ],
            [
             0.7777777777777778,
             "#fb9f3a"
            ],
            [
             0.8888888888888888,
             "#fdca26"
            ],
            [
             1,
             "#f0f921"
            ]
           ],
           "sequentialminus": [
            [
             0,
             "#0d0887"
            ],
            [
             0.1111111111111111,
             "#46039f"
            ],
            [
             0.2222222222222222,
             "#7201a8"
            ],
            [
             0.3333333333333333,
             "#9c179e"
            ],
            [
             0.4444444444444444,
             "#bd3786"
            ],
            [
             0.5555555555555556,
             "#d8576b"
            ],
            [
             0.6666666666666666,
             "#ed7953"
            ],
            [
             0.7777777777777778,
             "#fb9f3a"
            ],
            [
             0.8888888888888888,
             "#fdca26"
            ],
            [
             1,
             "#f0f921"
            ]
           ]
          },
          "colorway": [
           "#636efa",
           "#EF553B",
           "#00cc96",
           "#ab63fa",
           "#FFA15A",
           "#19d3f3",
           "#FF6692",
           "#B6E880",
           "#FF97FF",
           "#FECB52"
          ],
          "font": {
           "color": "#2a3f5f"
          },
          "geo": {
           "bgcolor": "white",
           "lakecolor": "white",
           "landcolor": "#E5ECF6",
           "showlakes": true,
           "showland": true,
           "subunitcolor": "white"
          },
          "hoverlabel": {
           "align": "left"
          },
          "hovermode": "closest",
          "mapbox": {
           "style": "light"
          },
          "paper_bgcolor": "white",
          "plot_bgcolor": "#E5ECF6",
          "polar": {
           "angularaxis": {
            "gridcolor": "white",
            "linecolor": "white",
            "ticks": ""
           },
           "bgcolor": "#E5ECF6",
           "radialaxis": {
            "gridcolor": "white",
            "linecolor": "white",
            "ticks": ""
           }
          },
          "scene": {
           "xaxis": {
            "backgroundcolor": "#E5ECF6",
            "gridcolor": "white",
            "gridwidth": 2,
            "linecolor": "white",
            "showbackground": true,
            "ticks": "",
            "zerolinecolor": "white"
           },
           "yaxis": {
            "backgroundcolor": "#E5ECF6",
            "gridcolor": "white",
            "gridwidth": 2,
            "linecolor": "white",
            "showbackground": true,
            "ticks": "",
            "zerolinecolor": "white"
           },
           "zaxis": {
            "backgroundcolor": "#E5ECF6",
            "gridcolor": "white",
            "gridwidth": 2,
            "linecolor": "white",
            "showbackground": true,
            "ticks": "",
            "zerolinecolor": "white"
           }
          },
          "shapedefaults": {
           "line": {
            "color": "#2a3f5f"
           }
          },
          "ternary": {
           "aaxis": {
            "gridcolor": "white",
            "linecolor": "white",
            "ticks": ""
           },
           "baxis": {
            "gridcolor": "white",
            "linecolor": "white",
            "ticks": ""
           },
           "bgcolor": "#E5ECF6",
           "caxis": {
            "gridcolor": "white",
            "linecolor": "white",
            "ticks": ""
           }
          },
          "title": {
           "x": 0.05
          },
          "xaxis": {
           "automargin": true,
           "gridcolor": "white",
           "linecolor": "white",
           "ticks": "",
           "title": {
            "standoff": 15
           },
           "zerolinecolor": "white",
           "zerolinewidth": 2
          },
          "yaxis": {
           "automargin": true,
           "gridcolor": "white",
           "linecolor": "white",
           "ticks": "",
           "title": {
            "standoff": 15
           },
           "zerolinecolor": "white",
           "zerolinewidth": 2
          }
         }
        },
        "title": {
         "text": "Time Delays by Airport"
        },
        "xaxis": {
         "anchor": "y",
         "domain": [
          0,
          1
         ],
         "title": {
          "text": "Airport"
         }
        },
        "yaxis": {
         "anchor": "x",
         "domain": [
          0,
          1
         ],
         "range": [
          40,
          70
         ],
         "title": {
          "text": "Average Time Delay (Minutes)"
         }
        }
       }
      }
     },
     "metadata": {},
     "output_type": "display_data"
    }
   ],
   "source": [
    "fig = px.bar(\n",
    "    by_code,\n",
    "    x=\"code\",\n",
    "    y=\"avg_time_delay\",\n",
    "    range_y=[40, 70],\n",
    "    color=\"median_time_delay\",\n",
    "    text_auto=\".1f\",\n",
    "    hover_data=[\"avg_time_delay\", \"median_time_delay\"],\n",
    "    labels={\n",
    "        \"avg_time_delay\": \"Average Time Delay (Minutes)\",\n",
    "        \"median_time_delay\": \"Median Time Delay (Minutes)\",\n",
    "        \"code\": \"Airport\",\n",
    "    },\n",
    ")\n",
    "\n",
    "fig.update_layout(title_text=\"Time Delays by Airport\")\n",
    "\n",
    "fig.show()"
   ]
  },
  {
   "cell_type": "code",
   "execution_count": 20,
   "metadata": {},
   "outputs": [
    {
     "data": {
      "text/html": [
       "<div>\n",
       "<style scoped>\n",
       "    .dataframe tbody tr th:only-of-type {\n",
       "        vertical-align: middle;\n",
       "    }\n",
       "\n",
       "    .dataframe tbody tr th {\n",
       "        vertical-align: top;\n",
       "    }\n",
       "\n",
       "    .dataframe thead th {\n",
       "        text-align: right;\n",
       "    }\n",
       "</style>\n",
       "<table border=\"1\" class=\"dataframe\">\n",
       "  <thead>\n",
       "    <tr style=\"text-align: right;\">\n",
       "      <th></th>\n",
       "      <th>month</th>\n",
       "      <th>avg_percent_delayed</th>\n",
       "      <th>median_percent_delayed</th>\n",
       "      <th>avg_time_delay</th>\n",
       "      <th>median_time_delay</th>\n",
       "    </tr>\n",
       "  </thead>\n",
       "  <tbody>\n",
       "    <tr>\n",
       "      <th>0</th>\n",
       "      <td>January</td>\n",
       "      <td>0.216022</td>\n",
       "      <td>0.210417</td>\n",
       "      <td>57.473489</td>\n",
       "      <td>56.125798</td>\n",
       "    </tr>\n",
       "    <tr>\n",
       "      <th>1</th>\n",
       "      <td>February</td>\n",
       "      <td>0.215650</td>\n",
       "      <td>0.209804</td>\n",
       "      <td>56.524162</td>\n",
       "      <td>55.750883</td>\n",
       "    </tr>\n",
       "    <tr>\n",
       "      <th>2</th>\n",
       "      <td>March</td>\n",
       "      <td>0.199513</td>\n",
       "      <td>0.186395</td>\n",
       "      <td>55.900842</td>\n",
       "      <td>55.222067</td>\n",
       "    </tr>\n",
       "    <tr>\n",
       "      <th>3</th>\n",
       "      <td>April</td>\n",
       "      <td>0.179019</td>\n",
       "      <td>0.174432</td>\n",
       "      <td>54.795227</td>\n",
       "      <td>53.647523</td>\n",
       "    </tr>\n",
       "    <tr>\n",
       "      <th>4</th>\n",
       "      <td>May</td>\n",
       "      <td>0.186128</td>\n",
       "      <td>0.182134</td>\n",
       "      <td>55.896611</td>\n",
       "      <td>55.676295</td>\n",
       "    </tr>\n",
       "    <tr>\n",
       "      <th>5</th>\n",
       "      <td>June</td>\n",
       "      <td>0.239530</td>\n",
       "      <td>0.239995</td>\n",
       "      <td>60.954467</td>\n",
       "      <td>60.718715</td>\n",
       "    </tr>\n",
       "    <tr>\n",
       "      <th>6</th>\n",
       "      <td>July</td>\n",
       "      <td>0.225045</td>\n",
       "      <td>0.221496</td>\n",
       "      <td>60.885143</td>\n",
       "      <td>60.189522</td>\n",
       "    </tr>\n",
       "    <tr>\n",
       "      <th>7</th>\n",
       "      <td>August</td>\n",
       "      <td>0.200899</td>\n",
       "      <td>0.193962</td>\n",
       "      <td>57.612562</td>\n",
       "      <td>57.487072</td>\n",
       "    </tr>\n",
       "    <tr>\n",
       "      <th>8</th>\n",
       "      <td>September</td>\n",
       "      <td>0.158473</td>\n",
       "      <td>0.143640</td>\n",
       "      <td>53.446794</td>\n",
       "      <td>53.535769</td>\n",
       "    </tr>\n",
       "    <tr>\n",
       "      <th>9</th>\n",
       "      <td>October</td>\n",
       "      <td>0.173353</td>\n",
       "      <td>0.154455</td>\n",
       "      <td>52.747688</td>\n",
       "      <td>53.133315</td>\n",
       "    </tr>\n",
       "    <tr>\n",
       "      <th>10</th>\n",
       "      <td>November</td>\n",
       "      <td>0.161040</td>\n",
       "      <td>0.153679</td>\n",
       "      <td>54.096190</td>\n",
       "      <td>53.469453</td>\n",
       "    </tr>\n",
       "    <tr>\n",
       "      <th>11</th>\n",
       "      <td>December</td>\n",
       "      <td>0.255249</td>\n",
       "      <td>0.242300</td>\n",
       "      <td>59.173179</td>\n",
       "      <td>57.543641</td>\n",
       "    </tr>\n",
       "  </tbody>\n",
       "</table>\n",
       "</div>"
      ],
      "text/plain": [
       "        month  avg_percent_delayed  median_percent_delayed  avg_time_delay  \\\n",
       "0     January             0.216022                0.210417       57.473489   \n",
       "1    February             0.215650                0.209804       56.524162   \n",
       "2       March             0.199513                0.186395       55.900842   \n",
       "3       April             0.179019                0.174432       54.795227   \n",
       "4         May             0.186128                0.182134       55.896611   \n",
       "5        June             0.239530                0.239995       60.954467   \n",
       "6        July             0.225045                0.221496       60.885143   \n",
       "7      August             0.200899                0.193962       57.612562   \n",
       "8   September             0.158473                0.143640       53.446794   \n",
       "9     October             0.173353                0.154455       52.747688   \n",
       "10   November             0.161040                0.153679       54.096190   \n",
       "11   December             0.255249                0.242300       59.173179   \n",
       "\n",
       "    median_time_delay  \n",
       "0           56.125798  \n",
       "1           55.750883  \n",
       "2           55.222067  \n",
       "3           53.647523  \n",
       "4           55.676295  \n",
       "5           60.718715  \n",
       "6           60.189522  \n",
       "7           57.487072  \n",
       "8           53.535769  \n",
       "9           53.133315  \n",
       "10          53.469453  \n",
       "11          57.543641  "
      ]
     },
     "execution_count": 20,
     "metadata": {},
     "output_type": "execute_result"
    }
   ],
   "source": [
    "by_month = (\n",
    "    worst.groupby(\"month\", observed=True)\n",
    "    .agg(\n",
    "        avg_percent_delayed=(\"ratio_delayed\", \"mean\"),\n",
    "        median_percent_delayed=(\"ratio_delayed\", \"median\"),\n",
    "        avg_time_delay=(\"mins_per_delay\", \"mean\"),\n",
    "        median_time_delay=(\"mins_per_delay\", \"median\"),\n",
    "    )\n",
    "    .reset_index()\n",
    ")\n",
    "\n",
    "by_month"
   ]
  },
  {
   "cell_type": "code",
   "execution_count": 21,
   "metadata": {},
   "outputs": [
    {
     "data": {
      "application/vnd.plotly.v1+json": {
       "config": {
        "plotlyServerURL": "https://plot.ly"
       },
       "data": [
        {
         "alignmentgroup": "True",
         "customdata": [
          [
           0.21041666666666667
          ],
          [
           0.20980385882955235
          ],
          [
           0.18639495110083346
          ],
          [
           0.17443174682908452
          ],
          [
           0.18213371664972128
          ],
          [
           0.23999531259155094
          ],
          [
           0.22149575590731818
          ],
          [
           0.19396195202646815
          ],
          [
           0.14364018621414626
          ],
          [
           0.1544548505033305
          ],
          [
           0.1536789297658863
          ],
          [
           0.24229995979091273
          ]
         ],
         "hovertemplate": "Month=%{x}<br>Average=%{y}<br>Median=%{marker.color}<extra></extra>",
         "legendgroup": "",
         "marker": {
          "color": [
           0.21041666666666667,
           0.20980385882955235,
           0.18639495110083346,
           0.17443174682908452,
           0.18213371664972128,
           0.23999531259155094,
           0.22149575590731818,
           0.19396195202646815,
           0.14364018621414626,
           0.1544548505033305,
           0.1536789297658863,
           0.24229995979091273
          ],
          "coloraxis": "coloraxis",
          "pattern": {
           "shape": ""
          }
         },
         "name": "",
         "offsetgroup": "",
         "orientation": "v",
         "showlegend": false,
         "textposition": "auto",
         "texttemplate": "%{y:.1%}",
         "type": "bar",
         "x": [
          "January",
          "February",
          "March",
          "April",
          "May",
          "June",
          "July",
          "August",
          "September",
          "October",
          "November",
          "December"
         ],
         "xaxis": "x",
         "y": [
          0.21602187774779344,
          0.21564973692523456,
          0.19951330474344917,
          0.17901876502001474,
          0.18612779136525687,
          0.23952997171780416,
          0.225044851906852,
          0.2008988869250297,
          0.15847327232945876,
          0.17335321482452096,
          0.16104031993743423,
          0.2552489202421074
         ],
         "yaxis": "y"
        }
       ],
       "layout": {
        "barmode": "relative",
        "coloraxis": {
         "colorbar": {
          "tickformat": ".0%",
          "title": {
           "text": "Median"
          }
         },
         "colorscale": [
          [
           0,
           "#0d0887"
          ],
          [
           0.1111111111111111,
           "#46039f"
          ],
          [
           0.2222222222222222,
           "#7201a8"
          ],
          [
           0.3333333333333333,
           "#9c179e"
          ],
          [
           0.4444444444444444,
           "#bd3786"
          ],
          [
           0.5555555555555556,
           "#d8576b"
          ],
          [
           0.6666666666666666,
           "#ed7953"
          ],
          [
           0.7777777777777778,
           "#fb9f3a"
          ],
          [
           0.8888888888888888,
           "#fdca26"
          ],
          [
           1,
           "#f0f921"
          ]
         ]
        },
        "legend": {
         "tracegroupgap": 0
        },
        "margin": {
         "t": 60
        },
        "template": {
         "data": {
          "bar": [
           {
            "error_x": {
             "color": "#2a3f5f"
            },
            "error_y": {
             "color": "#2a3f5f"
            },
            "marker": {
             "line": {
              "color": "#E5ECF6",
              "width": 0.5
             },
             "pattern": {
              "fillmode": "overlay",
              "size": 10,
              "solidity": 0.2
             }
            },
            "type": "bar"
           }
          ],
          "barpolar": [
           {
            "marker": {
             "line": {
              "color": "#E5ECF6",
              "width": 0.5
             },
             "pattern": {
              "fillmode": "overlay",
              "size": 10,
              "solidity": 0.2
             }
            },
            "type": "barpolar"
           }
          ],
          "carpet": [
           {
            "aaxis": {
             "endlinecolor": "#2a3f5f",
             "gridcolor": "white",
             "linecolor": "white",
             "minorgridcolor": "white",
             "startlinecolor": "#2a3f5f"
            },
            "baxis": {
             "endlinecolor": "#2a3f5f",
             "gridcolor": "white",
             "linecolor": "white",
             "minorgridcolor": "white",
             "startlinecolor": "#2a3f5f"
            },
            "type": "carpet"
           }
          ],
          "choropleth": [
           {
            "colorbar": {
             "outlinewidth": 0,
             "ticks": ""
            },
            "type": "choropleth"
           }
          ],
          "contour": [
           {
            "colorbar": {
             "outlinewidth": 0,
             "ticks": ""
            },
            "colorscale": [
             [
              0,
              "#0d0887"
             ],
             [
              0.1111111111111111,
              "#46039f"
             ],
             [
              0.2222222222222222,
              "#7201a8"
             ],
             [
              0.3333333333333333,
              "#9c179e"
             ],
             [
              0.4444444444444444,
              "#bd3786"
             ],
             [
              0.5555555555555556,
              "#d8576b"
             ],
             [
              0.6666666666666666,
              "#ed7953"
             ],
             [
              0.7777777777777778,
              "#fb9f3a"
             ],
             [
              0.8888888888888888,
              "#fdca26"
             ],
             [
              1,
              "#f0f921"
             ]
            ],
            "type": "contour"
           }
          ],
          "contourcarpet": [
           {
            "colorbar": {
             "outlinewidth": 0,
             "ticks": ""
            },
            "type": "contourcarpet"
           }
          ],
          "heatmap": [
           {
            "colorbar": {
             "outlinewidth": 0,
             "ticks": ""
            },
            "colorscale": [
             [
              0,
              "#0d0887"
             ],
             [
              0.1111111111111111,
              "#46039f"
             ],
             [
              0.2222222222222222,
              "#7201a8"
             ],
             [
              0.3333333333333333,
              "#9c179e"
             ],
             [
              0.4444444444444444,
              "#bd3786"
             ],
             [
              0.5555555555555556,
              "#d8576b"
             ],
             [
              0.6666666666666666,
              "#ed7953"
             ],
             [
              0.7777777777777778,
              "#fb9f3a"
             ],
             [
              0.8888888888888888,
              "#fdca26"
             ],
             [
              1,
              "#f0f921"
             ]
            ],
            "type": "heatmap"
           }
          ],
          "heatmapgl": [
           {
            "colorbar": {
             "outlinewidth": 0,
             "ticks": ""
            },
            "colorscale": [
             [
              0,
              "#0d0887"
             ],
             [
              0.1111111111111111,
              "#46039f"
             ],
             [
              0.2222222222222222,
              "#7201a8"
             ],
             [
              0.3333333333333333,
              "#9c179e"
             ],
             [
              0.4444444444444444,
              "#bd3786"
             ],
             [
              0.5555555555555556,
              "#d8576b"
             ],
             [
              0.6666666666666666,
              "#ed7953"
             ],
             [
              0.7777777777777778,
              "#fb9f3a"
             ],
             [
              0.8888888888888888,
              "#fdca26"
             ],
             [
              1,
              "#f0f921"
             ]
            ],
            "type": "heatmapgl"
           }
          ],
          "histogram": [
           {
            "marker": {
             "pattern": {
              "fillmode": "overlay",
              "size": 10,
              "solidity": 0.2
             }
            },
            "type": "histogram"
           }
          ],
          "histogram2d": [
           {
            "colorbar": {
             "outlinewidth": 0,
             "ticks": ""
            },
            "colorscale": [
             [
              0,
              "#0d0887"
             ],
             [
              0.1111111111111111,
              "#46039f"
             ],
             [
              0.2222222222222222,
              "#7201a8"
             ],
             [
              0.3333333333333333,
              "#9c179e"
             ],
             [
              0.4444444444444444,
              "#bd3786"
             ],
             [
              0.5555555555555556,
              "#d8576b"
             ],
             [
              0.6666666666666666,
              "#ed7953"
             ],
             [
              0.7777777777777778,
              "#fb9f3a"
             ],
             [
              0.8888888888888888,
              "#fdca26"
             ],
             [
              1,
              "#f0f921"
             ]
            ],
            "type": "histogram2d"
           }
          ],
          "histogram2dcontour": [
           {
            "colorbar": {
             "outlinewidth": 0,
             "ticks": ""
            },
            "colorscale": [
             [
              0,
              "#0d0887"
             ],
             [
              0.1111111111111111,
              "#46039f"
             ],
             [
              0.2222222222222222,
              "#7201a8"
             ],
             [
              0.3333333333333333,
              "#9c179e"
             ],
             [
              0.4444444444444444,
              "#bd3786"
             ],
             [
              0.5555555555555556,
              "#d8576b"
             ],
             [
              0.6666666666666666,
              "#ed7953"
             ],
             [
              0.7777777777777778,
              "#fb9f3a"
             ],
             [
              0.8888888888888888,
              "#fdca26"
             ],
             [
              1,
              "#f0f921"
             ]
            ],
            "type": "histogram2dcontour"
           }
          ],
          "mesh3d": [
           {
            "colorbar": {
             "outlinewidth": 0,
             "ticks": ""
            },
            "type": "mesh3d"
           }
          ],
          "parcoords": [
           {
            "line": {
             "colorbar": {
              "outlinewidth": 0,
              "ticks": ""
             }
            },
            "type": "parcoords"
           }
          ],
          "pie": [
           {
            "automargin": true,
            "type": "pie"
           }
          ],
          "scatter": [
           {
            "fillpattern": {
             "fillmode": "overlay",
             "size": 10,
             "solidity": 0.2
            },
            "type": "scatter"
           }
          ],
          "scatter3d": [
           {
            "line": {
             "colorbar": {
              "outlinewidth": 0,
              "ticks": ""
             }
            },
            "marker": {
             "colorbar": {
              "outlinewidth": 0,
              "ticks": ""
             }
            },
            "type": "scatter3d"
           }
          ],
          "scattercarpet": [
           {
            "marker": {
             "colorbar": {
              "outlinewidth": 0,
              "ticks": ""
             }
            },
            "type": "scattercarpet"
           }
          ],
          "scattergeo": [
           {
            "marker": {
             "colorbar": {
              "outlinewidth": 0,
              "ticks": ""
             }
            },
            "type": "scattergeo"
           }
          ],
          "scattergl": [
           {
            "marker": {
             "colorbar": {
              "outlinewidth": 0,
              "ticks": ""
             }
            },
            "type": "scattergl"
           }
          ],
          "scattermapbox": [
           {
            "marker": {
             "colorbar": {
              "outlinewidth": 0,
              "ticks": ""
             }
            },
            "type": "scattermapbox"
           }
          ],
          "scatterpolar": [
           {
            "marker": {
             "colorbar": {
              "outlinewidth": 0,
              "ticks": ""
             }
            },
            "type": "scatterpolar"
           }
          ],
          "scatterpolargl": [
           {
            "marker": {
             "colorbar": {
              "outlinewidth": 0,
              "ticks": ""
             }
            },
            "type": "scatterpolargl"
           }
          ],
          "scatterternary": [
           {
            "marker": {
             "colorbar": {
              "outlinewidth": 0,
              "ticks": ""
             }
            },
            "type": "scatterternary"
           }
          ],
          "surface": [
           {
            "colorbar": {
             "outlinewidth": 0,
             "ticks": ""
            },
            "colorscale": [
             [
              0,
              "#0d0887"
             ],
             [
              0.1111111111111111,
              "#46039f"
             ],
             [
              0.2222222222222222,
              "#7201a8"
             ],
             [
              0.3333333333333333,
              "#9c179e"
             ],
             [
              0.4444444444444444,
              "#bd3786"
             ],
             [
              0.5555555555555556,
              "#d8576b"
             ],
             [
              0.6666666666666666,
              "#ed7953"
             ],
             [
              0.7777777777777778,
              "#fb9f3a"
             ],
             [
              0.8888888888888888,
              "#fdca26"
             ],
             [
              1,
              "#f0f921"
             ]
            ],
            "type": "surface"
           }
          ],
          "table": [
           {
            "cells": {
             "fill": {
              "color": "#EBF0F8"
             },
             "line": {
              "color": "white"
             }
            },
            "header": {
             "fill": {
              "color": "#C8D4E3"
             },
             "line": {
              "color": "white"
             }
            },
            "type": "table"
           }
          ]
         },
         "layout": {
          "annotationdefaults": {
           "arrowcolor": "#2a3f5f",
           "arrowhead": 0,
           "arrowwidth": 1
          },
          "autotypenumbers": "strict",
          "coloraxis": {
           "colorbar": {
            "outlinewidth": 0,
            "ticks": ""
           }
          },
          "colorscale": {
           "diverging": [
            [
             0,
             "#8e0152"
            ],
            [
             0.1,
             "#c51b7d"
            ],
            [
             0.2,
             "#de77ae"
            ],
            [
             0.3,
             "#f1b6da"
            ],
            [
             0.4,
             "#fde0ef"
            ],
            [
             0.5,
             "#f7f7f7"
            ],
            [
             0.6,
             "#e6f5d0"
            ],
            [
             0.7,
             "#b8e186"
            ],
            [
             0.8,
             "#7fbc41"
            ],
            [
             0.9,
             "#4d9221"
            ],
            [
             1,
             "#276419"
            ]
           ],
           "sequential": [
            [
             0,
             "#0d0887"
            ],
            [
             0.1111111111111111,
             "#46039f"
            ],
            [
             0.2222222222222222,
             "#7201a8"
            ],
            [
             0.3333333333333333,
             "#9c179e"
            ],
            [
             0.4444444444444444,
             "#bd3786"
            ],
            [
             0.5555555555555556,
             "#d8576b"
            ],
            [
             0.6666666666666666,
             "#ed7953"
            ],
            [
             0.7777777777777778,
             "#fb9f3a"
            ],
            [
             0.8888888888888888,
             "#fdca26"
            ],
            [
             1,
             "#f0f921"
            ]
           ],
           "sequentialminus": [
            [
             0,
             "#0d0887"
            ],
            [
             0.1111111111111111,
             "#46039f"
            ],
            [
             0.2222222222222222,
             "#7201a8"
            ],
            [
             0.3333333333333333,
             "#9c179e"
            ],
            [
             0.4444444444444444,
             "#bd3786"
            ],
            [
             0.5555555555555556,
             "#d8576b"
            ],
            [
             0.6666666666666666,
             "#ed7953"
            ],
            [
             0.7777777777777778,
             "#fb9f3a"
            ],
            [
             0.8888888888888888,
             "#fdca26"
            ],
            [
             1,
             "#f0f921"
            ]
           ]
          },
          "colorway": [
           "#636efa",
           "#EF553B",
           "#00cc96",
           "#ab63fa",
           "#FFA15A",
           "#19d3f3",
           "#FF6692",
           "#B6E880",
           "#FF97FF",
           "#FECB52"
          ],
          "font": {
           "color": "#2a3f5f"
          },
          "geo": {
           "bgcolor": "white",
           "lakecolor": "white",
           "landcolor": "#E5ECF6",
           "showlakes": true,
           "showland": true,
           "subunitcolor": "white"
          },
          "hoverlabel": {
           "align": "left"
          },
          "hovermode": "closest",
          "mapbox": {
           "style": "light"
          },
          "paper_bgcolor": "white",
          "plot_bgcolor": "#E5ECF6",
          "polar": {
           "angularaxis": {
            "gridcolor": "white",
            "linecolor": "white",
            "ticks": ""
           },
           "bgcolor": "#E5ECF6",
           "radialaxis": {
            "gridcolor": "white",
            "linecolor": "white",
            "ticks": ""
           }
          },
          "scene": {
           "xaxis": {
            "backgroundcolor": "#E5ECF6",
            "gridcolor": "white",
            "gridwidth": 2,
            "linecolor": "white",
            "showbackground": true,
            "ticks": "",
            "zerolinecolor": "white"
           },
           "yaxis": {
            "backgroundcolor": "#E5ECF6",
            "gridcolor": "white",
            "gridwidth": 2,
            "linecolor": "white",
            "showbackground": true,
            "ticks": "",
            "zerolinecolor": "white"
           },
           "zaxis": {
            "backgroundcolor": "#E5ECF6",
            "gridcolor": "white",
            "gridwidth": 2,
            "linecolor": "white",
            "showbackground": true,
            "ticks": "",
            "zerolinecolor": "white"
           }
          },
          "shapedefaults": {
           "line": {
            "color": "#2a3f5f"
           }
          },
          "ternary": {
           "aaxis": {
            "gridcolor": "white",
            "linecolor": "white",
            "ticks": ""
           },
           "baxis": {
            "gridcolor": "white",
            "linecolor": "white",
            "ticks": ""
           },
           "bgcolor": "#E5ECF6",
           "caxis": {
            "gridcolor": "white",
            "linecolor": "white",
            "ticks": ""
           }
          },
          "title": {
           "x": 0.05
          },
          "xaxis": {
           "automargin": true,
           "gridcolor": "white",
           "linecolor": "white",
           "ticks": "",
           "title": {
            "standoff": 15
           },
           "zerolinecolor": "white",
           "zerolinewidth": 2
          },
          "yaxis": {
           "automargin": true,
           "gridcolor": "white",
           "linecolor": "white",
           "ticks": "",
           "title": {
            "standoff": 15
           },
           "zerolinecolor": "white",
           "zerolinewidth": 2
          }
         }
        },
        "title": {
         "text": "Percent of Flights Delayed by Month"
        },
        "xaxis": {
         "anchor": "y",
         "domain": [
          0,
          1
         ],
         "title": {
          "text": "Month"
         }
        },
        "yaxis": {
         "anchor": "x",
         "domain": [
          0,
          1
         ],
         "range": [
          0.14,
          0.26
         ],
         "tickformat": ".0%",
         "title": {
          "text": "Average"
         }
        }
       }
      }
     },
     "metadata": {},
     "output_type": "display_data"
    }
   ],
   "source": [
    "fig = px.bar(\n",
    "    by_month,\n",
    "    x=\"month\",\n",
    "    y=\"avg_percent_delayed\",\n",
    "    range_y=[0.14, 0.26],\n",
    "    color=\"median_percent_delayed\",\n",
    "    text_auto=\".1%\",\n",
    "    hover_data=[\"avg_percent_delayed\", \"median_percent_delayed\"],\n",
    "    labels={\n",
    "        \"avg_percent_delayed\": \"Average\",\n",
    "        \"median_percent_delayed\": \"Median\",\n",
    "        \"month\": \"Month\",\n",
    "    },\n",
    ")\n",
    "\n",
    "fig.update_layout(title_text=\"Percent of Flights Delayed by Month\")\n",
    "\n",
    "fig.update_yaxes(tickformat=\".0%\")\n",
    "\n",
    "fig.update_coloraxes(colorbar_tickformat=\".0%\")\n",
    "\n",
    "\n",
    "fig.show()"
   ]
  },
  {
   "cell_type": "code",
   "execution_count": 22,
   "metadata": {},
   "outputs": [
    {
     "data": {
      "application/vnd.plotly.v1+json": {
       "config": {
        "plotlyServerURL": "https://plot.ly"
       },
       "data": [
        {
         "alignmentgroup": "True",
         "customdata": [
          [
           56.12579821200511
          ],
          [
           55.7508826125331
          ],
          [
           55.22206703910614
          ],
          [
           53.64752252252252
          ],
          [
           55.67629482071713
          ],
          [
           60.71871469812979
          ],
          [
           60.18952234206471
          ],
          [
           57.48707197763802
          ],
          [
           53.535768645357685
          ],
          [
           53.13331515812432
          ],
          [
           53.46945269410267
          ],
          [
           57.54364089775561
          ]
         ],
         "hovertemplate": "Month=%{x}<br>Average=%{y}<br>Median=%{marker.color}<extra></extra>",
         "legendgroup": "",
         "marker": {
          "color": [
           56.12579821200511,
           55.7508826125331,
           55.22206703910614,
           53.64752252252252,
           55.67629482071713,
           60.71871469812979,
           60.18952234206471,
           57.48707197763802,
           53.535768645357685,
           53.13331515812432,
           53.46945269410267,
           57.54364089775561
          ],
          "coloraxis": "coloraxis",
          "pattern": {
           "shape": ""
          }
         },
         "name": "",
         "offsetgroup": "",
         "orientation": "v",
         "showlegend": false,
         "textposition": "auto",
         "texttemplate": "%{y:.1f}",
         "type": "bar",
         "x": [
          "January",
          "February",
          "March",
          "April",
          "May",
          "June",
          "July",
          "August",
          "September",
          "October",
          "November",
          "December"
         ],
         "xaxis": "x",
         "y": [
          57.473489135361724,
          56.5241616379821,
          55.90084247853573,
          54.79522682071909,
          55.89661078333258,
          60.954466892015084,
          60.885142624970015,
          57.61256246632442,
          53.4467935864672,
          52.74768767445284,
          54.096189647941856,
          59.173179221409555
         ],
         "yaxis": "y"
        }
       ],
       "layout": {
        "barmode": "relative",
        "coloraxis": {
         "colorbar": {
          "title": {
           "text": "Median"
          }
         },
         "colorscale": [
          [
           0,
           "#0d0887"
          ],
          [
           0.1111111111111111,
           "#46039f"
          ],
          [
           0.2222222222222222,
           "#7201a8"
          ],
          [
           0.3333333333333333,
           "#9c179e"
          ],
          [
           0.4444444444444444,
           "#bd3786"
          ],
          [
           0.5555555555555556,
           "#d8576b"
          ],
          [
           0.6666666666666666,
           "#ed7953"
          ],
          [
           0.7777777777777778,
           "#fb9f3a"
          ],
          [
           0.8888888888888888,
           "#fdca26"
          ],
          [
           1,
           "#f0f921"
          ]
         ]
        },
        "legend": {
         "tracegroupgap": 0
        },
        "margin": {
         "t": 60
        },
        "template": {
         "data": {
          "bar": [
           {
            "error_x": {
             "color": "#2a3f5f"
            },
            "error_y": {
             "color": "#2a3f5f"
            },
            "marker": {
             "line": {
              "color": "#E5ECF6",
              "width": 0.5
             },
             "pattern": {
              "fillmode": "overlay",
              "size": 10,
              "solidity": 0.2
             }
            },
            "type": "bar"
           }
          ],
          "barpolar": [
           {
            "marker": {
             "line": {
              "color": "#E5ECF6",
              "width": 0.5
             },
             "pattern": {
              "fillmode": "overlay",
              "size": 10,
              "solidity": 0.2
             }
            },
            "type": "barpolar"
           }
          ],
          "carpet": [
           {
            "aaxis": {
             "endlinecolor": "#2a3f5f",
             "gridcolor": "white",
             "linecolor": "white",
             "minorgridcolor": "white",
             "startlinecolor": "#2a3f5f"
            },
            "baxis": {
             "endlinecolor": "#2a3f5f",
             "gridcolor": "white",
             "linecolor": "white",
             "minorgridcolor": "white",
             "startlinecolor": "#2a3f5f"
            },
            "type": "carpet"
           }
          ],
          "choropleth": [
           {
            "colorbar": {
             "outlinewidth": 0,
             "ticks": ""
            },
            "type": "choropleth"
           }
          ],
          "contour": [
           {
            "colorbar": {
             "outlinewidth": 0,
             "ticks": ""
            },
            "colorscale": [
             [
              0,
              "#0d0887"
             ],
             [
              0.1111111111111111,
              "#46039f"
             ],
             [
              0.2222222222222222,
              "#7201a8"
             ],
             [
              0.3333333333333333,
              "#9c179e"
             ],
             [
              0.4444444444444444,
              "#bd3786"
             ],
             [
              0.5555555555555556,
              "#d8576b"
             ],
             [
              0.6666666666666666,
              "#ed7953"
             ],
             [
              0.7777777777777778,
              "#fb9f3a"
             ],
             [
              0.8888888888888888,
              "#fdca26"
             ],
             [
              1,
              "#f0f921"
             ]
            ],
            "type": "contour"
           }
          ],
          "contourcarpet": [
           {
            "colorbar": {
             "outlinewidth": 0,
             "ticks": ""
            },
            "type": "contourcarpet"
           }
          ],
          "heatmap": [
           {
            "colorbar": {
             "outlinewidth": 0,
             "ticks": ""
            },
            "colorscale": [
             [
              0,
              "#0d0887"
             ],
             [
              0.1111111111111111,
              "#46039f"
             ],
             [
              0.2222222222222222,
              "#7201a8"
             ],
             [
              0.3333333333333333,
              "#9c179e"
             ],
             [
              0.4444444444444444,
              "#bd3786"
             ],
             [
              0.5555555555555556,
              "#d8576b"
             ],
             [
              0.6666666666666666,
              "#ed7953"
             ],
             [
              0.7777777777777778,
              "#fb9f3a"
             ],
             [
              0.8888888888888888,
              "#fdca26"
             ],
             [
              1,
              "#f0f921"
             ]
            ],
            "type": "heatmap"
           }
          ],
          "heatmapgl": [
           {
            "colorbar": {
             "outlinewidth": 0,
             "ticks": ""
            },
            "colorscale": [
             [
              0,
              "#0d0887"
             ],
             [
              0.1111111111111111,
              "#46039f"
             ],
             [
              0.2222222222222222,
              "#7201a8"
             ],
             [
              0.3333333333333333,
              "#9c179e"
             ],
             [
              0.4444444444444444,
              "#bd3786"
             ],
             [
              0.5555555555555556,
              "#d8576b"
             ],
             [
              0.6666666666666666,
              "#ed7953"
             ],
             [
              0.7777777777777778,
              "#fb9f3a"
             ],
             [
              0.8888888888888888,
              "#fdca26"
             ],
             [
              1,
              "#f0f921"
             ]
            ],
            "type": "heatmapgl"
           }
          ],
          "histogram": [
           {
            "marker": {
             "pattern": {
              "fillmode": "overlay",
              "size": 10,
              "solidity": 0.2
             }
            },
            "type": "histogram"
           }
          ],
          "histogram2d": [
           {
            "colorbar": {
             "outlinewidth": 0,
             "ticks": ""
            },
            "colorscale": [
             [
              0,
              "#0d0887"
             ],
             [
              0.1111111111111111,
              "#46039f"
             ],
             [
              0.2222222222222222,
              "#7201a8"
             ],
             [
              0.3333333333333333,
              "#9c179e"
             ],
             [
              0.4444444444444444,
              "#bd3786"
             ],
             [
              0.5555555555555556,
              "#d8576b"
             ],
             [
              0.6666666666666666,
              "#ed7953"
             ],
             [
              0.7777777777777778,
              "#fb9f3a"
             ],
             [
              0.8888888888888888,
              "#fdca26"
             ],
             [
              1,
              "#f0f921"
             ]
            ],
            "type": "histogram2d"
           }
          ],
          "histogram2dcontour": [
           {
            "colorbar": {
             "outlinewidth": 0,
             "ticks": ""
            },
            "colorscale": [
             [
              0,
              "#0d0887"
             ],
             [
              0.1111111111111111,
              "#46039f"
             ],
             [
              0.2222222222222222,
              "#7201a8"
             ],
             [
              0.3333333333333333,
              "#9c179e"
             ],
             [
              0.4444444444444444,
              "#bd3786"
             ],
             [
              0.5555555555555556,
              "#d8576b"
             ],
             [
              0.6666666666666666,
              "#ed7953"
             ],
             [
              0.7777777777777778,
              "#fb9f3a"
             ],
             [
              0.8888888888888888,
              "#fdca26"
             ],
             [
              1,
              "#f0f921"
             ]
            ],
            "type": "histogram2dcontour"
           }
          ],
          "mesh3d": [
           {
            "colorbar": {
             "outlinewidth": 0,
             "ticks": ""
            },
            "type": "mesh3d"
           }
          ],
          "parcoords": [
           {
            "line": {
             "colorbar": {
              "outlinewidth": 0,
              "ticks": ""
             }
            },
            "type": "parcoords"
           }
          ],
          "pie": [
           {
            "automargin": true,
            "type": "pie"
           }
          ],
          "scatter": [
           {
            "fillpattern": {
             "fillmode": "overlay",
             "size": 10,
             "solidity": 0.2
            },
            "type": "scatter"
           }
          ],
          "scatter3d": [
           {
            "line": {
             "colorbar": {
              "outlinewidth": 0,
              "ticks": ""
             }
            },
            "marker": {
             "colorbar": {
              "outlinewidth": 0,
              "ticks": ""
             }
            },
            "type": "scatter3d"
           }
          ],
          "scattercarpet": [
           {
            "marker": {
             "colorbar": {
              "outlinewidth": 0,
              "ticks": ""
             }
            },
            "type": "scattercarpet"
           }
          ],
          "scattergeo": [
           {
            "marker": {
             "colorbar": {
              "outlinewidth": 0,
              "ticks": ""
             }
            },
            "type": "scattergeo"
           }
          ],
          "scattergl": [
           {
            "marker": {
             "colorbar": {
              "outlinewidth": 0,
              "ticks": ""
             }
            },
            "type": "scattergl"
           }
          ],
          "scattermapbox": [
           {
            "marker": {
             "colorbar": {
              "outlinewidth": 0,
              "ticks": ""
             }
            },
            "type": "scattermapbox"
           }
          ],
          "scatterpolar": [
           {
            "marker": {
             "colorbar": {
              "outlinewidth": 0,
              "ticks": ""
             }
            },
            "type": "scatterpolar"
           }
          ],
          "scatterpolargl": [
           {
            "marker": {
             "colorbar": {
              "outlinewidth": 0,
              "ticks": ""
             }
            },
            "type": "scatterpolargl"
           }
          ],
          "scatterternary": [
           {
            "marker": {
             "colorbar": {
              "outlinewidth": 0,
              "ticks": ""
             }
            },
            "type": "scatterternary"
           }
          ],
          "surface": [
           {
            "colorbar": {
             "outlinewidth": 0,
             "ticks": ""
            },
            "colorscale": [
             [
              0,
              "#0d0887"
             ],
             [
              0.1111111111111111,
              "#46039f"
             ],
             [
              0.2222222222222222,
              "#7201a8"
             ],
             [
              0.3333333333333333,
              "#9c179e"
             ],
             [
              0.4444444444444444,
              "#bd3786"
             ],
             [
              0.5555555555555556,
              "#d8576b"
             ],
             [
              0.6666666666666666,
              "#ed7953"
             ],
             [
              0.7777777777777778,
              "#fb9f3a"
             ],
             [
              0.8888888888888888,
              "#fdca26"
             ],
             [
              1,
              "#f0f921"
             ]
            ],
            "type": "surface"
           }
          ],
          "table": [
           {
            "cells": {
             "fill": {
              "color": "#EBF0F8"
             },
             "line": {
              "color": "white"
             }
            },
            "header": {
             "fill": {
              "color": "#C8D4E3"
             },
             "line": {
              "color": "white"
             }
            },
            "type": "table"
           }
          ]
         },
         "layout": {
          "annotationdefaults": {
           "arrowcolor": "#2a3f5f",
           "arrowhead": 0,
           "arrowwidth": 1
          },
          "autotypenumbers": "strict",
          "coloraxis": {
           "colorbar": {
            "outlinewidth": 0,
            "ticks": ""
           }
          },
          "colorscale": {
           "diverging": [
            [
             0,
             "#8e0152"
            ],
            [
             0.1,
             "#c51b7d"
            ],
            [
             0.2,
             "#de77ae"
            ],
            [
             0.3,
             "#f1b6da"
            ],
            [
             0.4,
             "#fde0ef"
            ],
            [
             0.5,
             "#f7f7f7"
            ],
            [
             0.6,
             "#e6f5d0"
            ],
            [
             0.7,
             "#b8e186"
            ],
            [
             0.8,
             "#7fbc41"
            ],
            [
             0.9,
             "#4d9221"
            ],
            [
             1,
             "#276419"
            ]
           ],
           "sequential": [
            [
             0,
             "#0d0887"
            ],
            [
             0.1111111111111111,
             "#46039f"
            ],
            [
             0.2222222222222222,
             "#7201a8"
            ],
            [
             0.3333333333333333,
             "#9c179e"
            ],
            [
             0.4444444444444444,
             "#bd3786"
            ],
            [
             0.5555555555555556,
             "#d8576b"
            ],
            [
             0.6666666666666666,
             "#ed7953"
            ],
            [
             0.7777777777777778,
             "#fb9f3a"
            ],
            [
             0.8888888888888888,
             "#fdca26"
            ],
            [
             1,
             "#f0f921"
            ]
           ],
           "sequentialminus": [
            [
             0,
             "#0d0887"
            ],
            [
             0.1111111111111111,
             "#46039f"
            ],
            [
             0.2222222222222222,
             "#7201a8"
            ],
            [
             0.3333333333333333,
             "#9c179e"
            ],
            [
             0.4444444444444444,
             "#bd3786"
            ],
            [
             0.5555555555555556,
             "#d8576b"
            ],
            [
             0.6666666666666666,
             "#ed7953"
            ],
            [
             0.7777777777777778,
             "#fb9f3a"
            ],
            [
             0.8888888888888888,
             "#fdca26"
            ],
            [
             1,
             "#f0f921"
            ]
           ]
          },
          "colorway": [
           "#636efa",
           "#EF553B",
           "#00cc96",
           "#ab63fa",
           "#FFA15A",
           "#19d3f3",
           "#FF6692",
           "#B6E880",
           "#FF97FF",
           "#FECB52"
          ],
          "font": {
           "color": "#2a3f5f"
          },
          "geo": {
           "bgcolor": "white",
           "lakecolor": "white",
           "landcolor": "#E5ECF6",
           "showlakes": true,
           "showland": true,
           "subunitcolor": "white"
          },
          "hoverlabel": {
           "align": "left"
          },
          "hovermode": "closest",
          "mapbox": {
           "style": "light"
          },
          "paper_bgcolor": "white",
          "plot_bgcolor": "#E5ECF6",
          "polar": {
           "angularaxis": {
            "gridcolor": "white",
            "linecolor": "white",
            "ticks": ""
           },
           "bgcolor": "#E5ECF6",
           "radialaxis": {
            "gridcolor": "white",
            "linecolor": "white",
            "ticks": ""
           }
          },
          "scene": {
           "xaxis": {
            "backgroundcolor": "#E5ECF6",
            "gridcolor": "white",
            "gridwidth": 2,
            "linecolor": "white",
            "showbackground": true,
            "ticks": "",
            "zerolinecolor": "white"
           },
           "yaxis": {
            "backgroundcolor": "#E5ECF6",
            "gridcolor": "white",
            "gridwidth": 2,
            "linecolor": "white",
            "showbackground": true,
            "ticks": "",
            "zerolinecolor": "white"
           },
           "zaxis": {
            "backgroundcolor": "#E5ECF6",
            "gridcolor": "white",
            "gridwidth": 2,
            "linecolor": "white",
            "showbackground": true,
            "ticks": "",
            "zerolinecolor": "white"
           }
          },
          "shapedefaults": {
           "line": {
            "color": "#2a3f5f"
           }
          },
          "ternary": {
           "aaxis": {
            "gridcolor": "white",
            "linecolor": "white",
            "ticks": ""
           },
           "baxis": {
            "gridcolor": "white",
            "linecolor": "white",
            "ticks": ""
           },
           "bgcolor": "#E5ECF6",
           "caxis": {
            "gridcolor": "white",
            "linecolor": "white",
            "ticks": ""
           }
          },
          "title": {
           "x": 0.05
          },
          "xaxis": {
           "automargin": true,
           "gridcolor": "white",
           "linecolor": "white",
           "ticks": "",
           "title": {
            "standoff": 15
           },
           "zerolinecolor": "white",
           "zerolinewidth": 2
          },
          "yaxis": {
           "automargin": true,
           "gridcolor": "white",
           "linecolor": "white",
           "ticks": "",
           "title": {
            "standoff": 15
           },
           "zerolinecolor": "white",
           "zerolinewidth": 2
          }
         }
        },
        "title": {
         "text": "Average Delay Time by Month"
        },
        "xaxis": {
         "anchor": "y",
         "domain": [
          0,
          1
         ],
         "title": {
          "text": "Month"
         }
        },
        "yaxis": {
         "anchor": "x",
         "domain": [
          0,
          1
         ],
         "range": [
          50,
          62
         ],
         "title": {
          "text": "Average"
         }
        }
       }
      }
     },
     "metadata": {},
     "output_type": "display_data"
    }
   ],
   "source": [
    "fig = px.bar(\n",
    "    by_month,\n",
    "    x=\"month\",\n",
    "    y=\"avg_time_delay\",\n",
    "    range_y=[50, 62],\n",
    "    color=\"median_time_delay\",\n",
    "    text_auto=\".1f\",\n",
    "    hover_data=[\"avg_time_delay\", \"median_time_delay\"],\n",
    "    labels={\n",
    "        \"avg_time_delay\": \"Average\",\n",
    "        \"median_time_delay\": \"Median\",\n",
    "        \"month\": \"Month\",\n",
    "    },\n",
    ")\n",
    "\n",
    "fig.update_layout(title_text=\"Average Delay Time by Month\")\n",
    "\n",
    "fig.show()"
   ]
  },
  {
   "cell_type": "code",
   "execution_count": 23,
   "metadata": {},
   "outputs": [
    {
     "name": "stderr",
     "output_type": "stream",
     "text": [
      "C:\\Users\\brand\\AppData\\Local\\Temp\\ipykernel_11588\\608203999.py:15: SettingWithCopyWarning:\n",
      "\n",
      "\n",
      "A value is trying to be set on a copy of a slice from a DataFrame\n",
      "\n",
      "See the caveats in the documentation: https://pandas.pydata.org/pandas-docs/stable/user_guide/indexing.html#returning-a-view-versus-a-copy\n",
      "\n"
     ]
    },
    {
     "data": {
      "text/html": [
       "<div>\n",
       "<style scoped>\n",
       "    .dataframe tbody tr th:only-of-type {\n",
       "        vertical-align: middle;\n",
       "    }\n",
       "\n",
       "    .dataframe tbody tr th {\n",
       "        vertical-align: top;\n",
       "    }\n",
       "\n",
       "    .dataframe thead th {\n",
       "        text-align: right;\n",
       "    }\n",
       "</style>\n",
       "<table border=\"1\" class=\"dataframe\">\n",
       "  <thead>\n",
       "    <tr style=\"text-align: right;\">\n",
       "      <th></th>\n",
       "      <th>code</th>\n",
       "      <th>month</th>\n",
       "      <th>year</th>\n",
       "      <th>total_flights</th>\n",
       "      <th>total_delays</th>\n",
       "      <th>late_aircraft_delays</th>\n",
       "      <th>nas_delays</th>\n",
       "      <th>weather_delays</th>\n",
       "      <th>total_weather_delays</th>\n",
       "      <th>percent_weather_delays</th>\n",
       "    </tr>\n",
       "  </thead>\n",
       "  <tbody>\n",
       "    <tr>\n",
       "      <th>0</th>\n",
       "      <td>ATL</td>\n",
       "      <td>January</td>\n",
       "      <td>2005</td>\n",
       "      <td>35048</td>\n",
       "      <td>8355</td>\n",
       "      <td>1109.104072</td>\n",
       "      <td>4598</td>\n",
       "      <td>448</td>\n",
       "      <td>3769.0</td>\n",
       "      <td>0.451107</td>\n",
       "    </tr>\n",
       "    <tr>\n",
       "      <th>1</th>\n",
       "      <td>DEN</td>\n",
       "      <td>January</td>\n",
       "      <td>2005</td>\n",
       "      <td>12687</td>\n",
       "      <td>3153</td>\n",
       "      <td>928.000000</td>\n",
       "      <td>935</td>\n",
       "      <td>233</td>\n",
       "      <td>1119.0</td>\n",
       "      <td>0.354900</td>\n",
       "    </tr>\n",
       "    <tr>\n",
       "      <th>2</th>\n",
       "      <td>IAD</td>\n",
       "      <td>January</td>\n",
       "      <td>2005</td>\n",
       "      <td>12381</td>\n",
       "      <td>2430</td>\n",
       "      <td>1058.000000</td>\n",
       "      <td>895</td>\n",
       "      <td>61</td>\n",
       "      <td>960.0</td>\n",
       "      <td>0.395062</td>\n",
       "    </tr>\n",
       "    <tr>\n",
       "      <th>3</th>\n",
       "      <td>ORD</td>\n",
       "      <td>January</td>\n",
       "      <td>2005</td>\n",
       "      <td>28194</td>\n",
       "      <td>9178</td>\n",
       "      <td>2255.000000</td>\n",
       "      <td>5415</td>\n",
       "      <td>306</td>\n",
       "      <td>4502.0</td>\n",
       "      <td>0.490521</td>\n",
       "    </tr>\n",
       "    <tr>\n",
       "      <th>4</th>\n",
       "      <td>SAN</td>\n",
       "      <td>January</td>\n",
       "      <td>2005</td>\n",
       "      <td>7283</td>\n",
       "      <td>1952</td>\n",
       "      <td>680.000000</td>\n",
       "      <td>638</td>\n",
       "      <td>56</td>\n",
       "      <td>675.0</td>\n",
       "      <td>0.345799</td>\n",
       "    </tr>\n",
       "  </tbody>\n",
       "</table>\n",
       "</div>"
      ],
      "text/plain": [
       "  code    month  year  total_flights  total_delays  late_aircraft_delays  \\\n",
       "0  ATL  January  2005          35048          8355           1109.104072   \n",
       "1  DEN  January  2005          12687          3153            928.000000   \n",
       "2  IAD  January  2005          12381          2430           1058.000000   \n",
       "3  ORD  January  2005          28194          9178           2255.000000   \n",
       "4  SAN  January  2005           7283          1952            680.000000   \n",
       "\n",
       "   nas_delays  weather_delays  total_weather_delays  percent_weather_delays  \n",
       "0        4598             448                3769.0                0.451107  \n",
       "1         935             233                1119.0                0.354900  \n",
       "2         895              61                 960.0                0.395062  \n",
       "3        5415             306                4502.0                0.490521  \n",
       "4         638              56                 675.0                0.345799  "
      ]
     },
     "execution_count": 23,
     "metadata": {},
     "output_type": "execute_result"
    }
   ],
   "source": [
    "months = [\"April\", \"May\", \"June\", \"July\", \"August\"]\n",
    "\n",
    "weather = df[\n",
    "    [\n",
    "        \"code\",\n",
    "        \"month\",\n",
    "        \"year\",\n",
    "        \"total_flights\",\n",
    "        \"total_delays\",\n",
    "        \"late_aircraft_delays\",\n",
    "        \"nas_delays\",\n",
    "        \"weather_delays\",\n",
    "    ]\n",
    "]\n",
    "weather.late_aircraft_delays.fillna(\n",
    "    weather.late_aircraft_delays.mean(), inplace=True)\n",
    "weather = weather.assign(\n",
    "    total_weather_delays=lambda x: np.round(\n",
    "        x.weather_delays\n",
    "        + (x.late_aircraft_delays * 0.3)\n",
    "        + (x.nas_delays * np.where((x.month.isin(months)), 0.4, 0.65))\n",
    "    ),\n",
    "    percent_weather_delays=lambda x: x.total_weather_delays / x.total_delays,\n",
    ")\n",
    "weather.head()"
   ]
  },
  {
   "cell_type": "code",
   "execution_count": 24,
   "metadata": {},
   "outputs": [
    {
     "data": {
      "text/html": [
       "<div>\n",
       "<style scoped>\n",
       "    .dataframe tbody tr th:only-of-type {\n",
       "        vertical-align: middle;\n",
       "    }\n",
       "\n",
       "    .dataframe tbody tr th {\n",
       "        vertical-align: top;\n",
       "    }\n",
       "\n",
       "    .dataframe thead th {\n",
       "        text-align: right;\n",
       "    }\n",
       "</style>\n",
       "<table border=\"1\" class=\"dataframe\">\n",
       "  <thead>\n",
       "    <tr style=\"text-align: right;\">\n",
       "      <th></th>\n",
       "      <th>code</th>\n",
       "      <th>avg_ratio_weather_delays</th>\n",
       "    </tr>\n",
       "  </thead>\n",
       "  <tbody>\n",
       "    <tr>\n",
       "      <th>0</th>\n",
       "      <td>ATL</td>\n",
       "      <td>0.347733</td>\n",
       "    </tr>\n",
       "    <tr>\n",
       "      <th>1</th>\n",
       "      <td>DEN</td>\n",
       "      <td>0.316976</td>\n",
       "    </tr>\n",
       "    <tr>\n",
       "      <th>2</th>\n",
       "      <td>IAD</td>\n",
       "      <td>0.301014</td>\n",
       "    </tr>\n",
       "    <tr>\n",
       "      <th>3</th>\n",
       "      <td>ORD</td>\n",
       "      <td>0.369628</td>\n",
       "    </tr>\n",
       "    <tr>\n",
       "      <th>4</th>\n",
       "      <td>SAN</td>\n",
       "      <td>0.278841</td>\n",
       "    </tr>\n",
       "    <tr>\n",
       "      <th>5</th>\n",
       "      <td>SFO</td>\n",
       "      <td>0.371091</td>\n",
       "    </tr>\n",
       "    <tr>\n",
       "      <th>6</th>\n",
       "      <td>SLC</td>\n",
       "      <td>0.290095</td>\n",
       "    </tr>\n",
       "  </tbody>\n",
       "</table>\n",
       "</div>"
      ],
      "text/plain": [
       "  code  avg_ratio_weather_delays\n",
       "0  ATL                  0.347733\n",
       "1  DEN                  0.316976\n",
       "2  IAD                  0.301014\n",
       "3  ORD                  0.369628\n",
       "4  SAN                  0.278841\n",
       "5  SFO                  0.371091\n",
       "6  SLC                  0.290095"
      ]
     },
     "execution_count": 24,
     "metadata": {},
     "output_type": "execute_result"
    }
   ],
   "source": [
    "dat = (\n",
    "    weather.groupby(\"code\", observed=True)\n",
    "    .agg(avg_ratio_weather_delays=(\"percent_weather_delays\", \"mean\"))\n",
    "    .reset_index()\n",
    ")\n",
    "\n",
    "dat"
   ]
  },
  {
   "cell_type": "code",
   "execution_count": 25,
   "metadata": {},
   "outputs": [
    {
     "data": {
      "application/vnd.plotly.v1+json": {
       "config": {
        "plotlyServerURL": "https://plot.ly"
       },
       "data": [
        {
         "alignmentgroup": "True",
         "hovertemplate": "Airport=%{x}<br>Percent=%{y}<extra></extra>",
         "legendgroup": "",
         "marker": {
          "color": "#636efa",
          "pattern": {
           "shape": ""
          }
         },
         "name": "",
         "offsetgroup": "",
         "orientation": "v",
         "showlegend": false,
         "textposition": "auto",
         "texttemplate": "%{y:.1%}",
         "type": "bar",
         "x": [
          "ATL",
          "DEN",
          "IAD",
          "ORD",
          "SAN",
          "SFO",
          "SLC"
         ],
         "xaxis": "x",
         "y": [
          0.34773311343715,
          0.31697627397210953,
          0.3010141776955674,
          0.3696276021103926,
          0.27884125326555215,
          0.3710914342736256,
          0.29009515514769146
         ],
         "yaxis": "y"
        }
       ],
       "layout": {
        "barmode": "relative",
        "legend": {
         "tracegroupgap": 0
        },
        "margin": {
         "t": 60
        },
        "template": {
         "data": {
          "bar": [
           {
            "error_x": {
             "color": "#2a3f5f"
            },
            "error_y": {
             "color": "#2a3f5f"
            },
            "marker": {
             "line": {
              "color": "#E5ECF6",
              "width": 0.5
             },
             "pattern": {
              "fillmode": "overlay",
              "size": 10,
              "solidity": 0.2
             }
            },
            "type": "bar"
           }
          ],
          "barpolar": [
           {
            "marker": {
             "line": {
              "color": "#E5ECF6",
              "width": 0.5
             },
             "pattern": {
              "fillmode": "overlay",
              "size": 10,
              "solidity": 0.2
             }
            },
            "type": "barpolar"
           }
          ],
          "carpet": [
           {
            "aaxis": {
             "endlinecolor": "#2a3f5f",
             "gridcolor": "white",
             "linecolor": "white",
             "minorgridcolor": "white",
             "startlinecolor": "#2a3f5f"
            },
            "baxis": {
             "endlinecolor": "#2a3f5f",
             "gridcolor": "white",
             "linecolor": "white",
             "minorgridcolor": "white",
             "startlinecolor": "#2a3f5f"
            },
            "type": "carpet"
           }
          ],
          "choropleth": [
           {
            "colorbar": {
             "outlinewidth": 0,
             "ticks": ""
            },
            "type": "choropleth"
           }
          ],
          "contour": [
           {
            "colorbar": {
             "outlinewidth": 0,
             "ticks": ""
            },
            "colorscale": [
             [
              0,
              "#0d0887"
             ],
             [
              0.1111111111111111,
              "#46039f"
             ],
             [
              0.2222222222222222,
              "#7201a8"
             ],
             [
              0.3333333333333333,
              "#9c179e"
             ],
             [
              0.4444444444444444,
              "#bd3786"
             ],
             [
              0.5555555555555556,
              "#d8576b"
             ],
             [
              0.6666666666666666,
              "#ed7953"
             ],
             [
              0.7777777777777778,
              "#fb9f3a"
             ],
             [
              0.8888888888888888,
              "#fdca26"
             ],
             [
              1,
              "#f0f921"
             ]
            ],
            "type": "contour"
           }
          ],
          "contourcarpet": [
           {
            "colorbar": {
             "outlinewidth": 0,
             "ticks": ""
            },
            "type": "contourcarpet"
           }
          ],
          "heatmap": [
           {
            "colorbar": {
             "outlinewidth": 0,
             "ticks": ""
            },
            "colorscale": [
             [
              0,
              "#0d0887"
             ],
             [
              0.1111111111111111,
              "#46039f"
             ],
             [
              0.2222222222222222,
              "#7201a8"
             ],
             [
              0.3333333333333333,
              "#9c179e"
             ],
             [
              0.4444444444444444,
              "#bd3786"
             ],
             [
              0.5555555555555556,
              "#d8576b"
             ],
             [
              0.6666666666666666,
              "#ed7953"
             ],
             [
              0.7777777777777778,
              "#fb9f3a"
             ],
             [
              0.8888888888888888,
              "#fdca26"
             ],
             [
              1,
              "#f0f921"
             ]
            ],
            "type": "heatmap"
           }
          ],
          "heatmapgl": [
           {
            "colorbar": {
             "outlinewidth": 0,
             "ticks": ""
            },
            "colorscale": [
             [
              0,
              "#0d0887"
             ],
             [
              0.1111111111111111,
              "#46039f"
             ],
             [
              0.2222222222222222,
              "#7201a8"
             ],
             [
              0.3333333333333333,
              "#9c179e"
             ],
             [
              0.4444444444444444,
              "#bd3786"
             ],
             [
              0.5555555555555556,
              "#d8576b"
             ],
             [
              0.6666666666666666,
              "#ed7953"
             ],
             [
              0.7777777777777778,
              "#fb9f3a"
             ],
             [
              0.8888888888888888,
              "#fdca26"
             ],
             [
              1,
              "#f0f921"
             ]
            ],
            "type": "heatmapgl"
           }
          ],
          "histogram": [
           {
            "marker": {
             "pattern": {
              "fillmode": "overlay",
              "size": 10,
              "solidity": 0.2
             }
            },
            "type": "histogram"
           }
          ],
          "histogram2d": [
           {
            "colorbar": {
             "outlinewidth": 0,
             "ticks": ""
            },
            "colorscale": [
             [
              0,
              "#0d0887"
             ],
             [
              0.1111111111111111,
              "#46039f"
             ],
             [
              0.2222222222222222,
              "#7201a8"
             ],
             [
              0.3333333333333333,
              "#9c179e"
             ],
             [
              0.4444444444444444,
              "#bd3786"
             ],
             [
              0.5555555555555556,
              "#d8576b"
             ],
             [
              0.6666666666666666,
              "#ed7953"
             ],
             [
              0.7777777777777778,
              "#fb9f3a"
             ],
             [
              0.8888888888888888,
              "#fdca26"
             ],
             [
              1,
              "#f0f921"
             ]
            ],
            "type": "histogram2d"
           }
          ],
          "histogram2dcontour": [
           {
            "colorbar": {
             "outlinewidth": 0,
             "ticks": ""
            },
            "colorscale": [
             [
              0,
              "#0d0887"
             ],
             [
              0.1111111111111111,
              "#46039f"
             ],
             [
              0.2222222222222222,
              "#7201a8"
             ],
             [
              0.3333333333333333,
              "#9c179e"
             ],
             [
              0.4444444444444444,
              "#bd3786"
             ],
             [
              0.5555555555555556,
              "#d8576b"
             ],
             [
              0.6666666666666666,
              "#ed7953"
             ],
             [
              0.7777777777777778,
              "#fb9f3a"
             ],
             [
              0.8888888888888888,
              "#fdca26"
             ],
             [
              1,
              "#f0f921"
             ]
            ],
            "type": "histogram2dcontour"
           }
          ],
          "mesh3d": [
           {
            "colorbar": {
             "outlinewidth": 0,
             "ticks": ""
            },
            "type": "mesh3d"
           }
          ],
          "parcoords": [
           {
            "line": {
             "colorbar": {
              "outlinewidth": 0,
              "ticks": ""
             }
            },
            "type": "parcoords"
           }
          ],
          "pie": [
           {
            "automargin": true,
            "type": "pie"
           }
          ],
          "scatter": [
           {
            "fillpattern": {
             "fillmode": "overlay",
             "size": 10,
             "solidity": 0.2
            },
            "type": "scatter"
           }
          ],
          "scatter3d": [
           {
            "line": {
             "colorbar": {
              "outlinewidth": 0,
              "ticks": ""
             }
            },
            "marker": {
             "colorbar": {
              "outlinewidth": 0,
              "ticks": ""
             }
            },
            "type": "scatter3d"
           }
          ],
          "scattercarpet": [
           {
            "marker": {
             "colorbar": {
              "outlinewidth": 0,
              "ticks": ""
             }
            },
            "type": "scattercarpet"
           }
          ],
          "scattergeo": [
           {
            "marker": {
             "colorbar": {
              "outlinewidth": 0,
              "ticks": ""
             }
            },
            "type": "scattergeo"
           }
          ],
          "scattergl": [
           {
            "marker": {
             "colorbar": {
              "outlinewidth": 0,
              "ticks": ""
             }
            },
            "type": "scattergl"
           }
          ],
          "scattermapbox": [
           {
            "marker": {
             "colorbar": {
              "outlinewidth": 0,
              "ticks": ""
             }
            },
            "type": "scattermapbox"
           }
          ],
          "scatterpolar": [
           {
            "marker": {
             "colorbar": {
              "outlinewidth": 0,
              "ticks": ""
             }
            },
            "type": "scatterpolar"
           }
          ],
          "scatterpolargl": [
           {
            "marker": {
             "colorbar": {
              "outlinewidth": 0,
              "ticks": ""
             }
            },
            "type": "scatterpolargl"
           }
          ],
          "scatterternary": [
           {
            "marker": {
             "colorbar": {
              "outlinewidth": 0,
              "ticks": ""
             }
            },
            "type": "scatterternary"
           }
          ],
          "surface": [
           {
            "colorbar": {
             "outlinewidth": 0,
             "ticks": ""
            },
            "colorscale": [
             [
              0,
              "#0d0887"
             ],
             [
              0.1111111111111111,
              "#46039f"
             ],
             [
              0.2222222222222222,
              "#7201a8"
             ],
             [
              0.3333333333333333,
              "#9c179e"
             ],
             [
              0.4444444444444444,
              "#bd3786"
             ],
             [
              0.5555555555555556,
              "#d8576b"
             ],
             [
              0.6666666666666666,
              "#ed7953"
             ],
             [
              0.7777777777777778,
              "#fb9f3a"
             ],
             [
              0.8888888888888888,
              "#fdca26"
             ],
             [
              1,
              "#f0f921"
             ]
            ],
            "type": "surface"
           }
          ],
          "table": [
           {
            "cells": {
             "fill": {
              "color": "#EBF0F8"
             },
             "line": {
              "color": "white"
             }
            },
            "header": {
             "fill": {
              "color": "#C8D4E3"
             },
             "line": {
              "color": "white"
             }
            },
            "type": "table"
           }
          ]
         },
         "layout": {
          "annotationdefaults": {
           "arrowcolor": "#2a3f5f",
           "arrowhead": 0,
           "arrowwidth": 1
          },
          "autotypenumbers": "strict",
          "coloraxis": {
           "colorbar": {
            "outlinewidth": 0,
            "ticks": ""
           }
          },
          "colorscale": {
           "diverging": [
            [
             0,
             "#8e0152"
            ],
            [
             0.1,
             "#c51b7d"
            ],
            [
             0.2,
             "#de77ae"
            ],
            [
             0.3,
             "#f1b6da"
            ],
            [
             0.4,
             "#fde0ef"
            ],
            [
             0.5,
             "#f7f7f7"
            ],
            [
             0.6,
             "#e6f5d0"
            ],
            [
             0.7,
             "#b8e186"
            ],
            [
             0.8,
             "#7fbc41"
            ],
            [
             0.9,
             "#4d9221"
            ],
            [
             1,
             "#276419"
            ]
           ],
           "sequential": [
            [
             0,
             "#0d0887"
            ],
            [
             0.1111111111111111,
             "#46039f"
            ],
            [
             0.2222222222222222,
             "#7201a8"
            ],
            [
             0.3333333333333333,
             "#9c179e"
            ],
            [
             0.4444444444444444,
             "#bd3786"
            ],
            [
             0.5555555555555556,
             "#d8576b"
            ],
            [
             0.6666666666666666,
             "#ed7953"
            ],
            [
             0.7777777777777778,
             "#fb9f3a"
            ],
            [
             0.8888888888888888,
             "#fdca26"
            ],
            [
             1,
             "#f0f921"
            ]
           ],
           "sequentialminus": [
            [
             0,
             "#0d0887"
            ],
            [
             0.1111111111111111,
             "#46039f"
            ],
            [
             0.2222222222222222,
             "#7201a8"
            ],
            [
             0.3333333333333333,
             "#9c179e"
            ],
            [
             0.4444444444444444,
             "#bd3786"
            ],
            [
             0.5555555555555556,
             "#d8576b"
            ],
            [
             0.6666666666666666,
             "#ed7953"
            ],
            [
             0.7777777777777778,
             "#fb9f3a"
            ],
            [
             0.8888888888888888,
             "#fdca26"
            ],
            [
             1,
             "#f0f921"
            ]
           ]
          },
          "colorway": [
           "#636efa",
           "#EF553B",
           "#00cc96",
           "#ab63fa",
           "#FFA15A",
           "#19d3f3",
           "#FF6692",
           "#B6E880",
           "#FF97FF",
           "#FECB52"
          ],
          "font": {
           "color": "#2a3f5f"
          },
          "geo": {
           "bgcolor": "white",
           "lakecolor": "white",
           "landcolor": "#E5ECF6",
           "showlakes": true,
           "showland": true,
           "subunitcolor": "white"
          },
          "hoverlabel": {
           "align": "left"
          },
          "hovermode": "closest",
          "mapbox": {
           "style": "light"
          },
          "paper_bgcolor": "white",
          "plot_bgcolor": "#E5ECF6",
          "polar": {
           "angularaxis": {
            "gridcolor": "white",
            "linecolor": "white",
            "ticks": ""
           },
           "bgcolor": "#E5ECF6",
           "radialaxis": {
            "gridcolor": "white",
            "linecolor": "white",
            "ticks": ""
           }
          },
          "scene": {
           "xaxis": {
            "backgroundcolor": "#E5ECF6",
            "gridcolor": "white",
            "gridwidth": 2,
            "linecolor": "white",
            "showbackground": true,
            "ticks": "",
            "zerolinecolor": "white"
           },
           "yaxis": {
            "backgroundcolor": "#E5ECF6",
            "gridcolor": "white",
            "gridwidth": 2,
            "linecolor": "white",
            "showbackground": true,
            "ticks": "",
            "zerolinecolor": "white"
           },
           "zaxis": {
            "backgroundcolor": "#E5ECF6",
            "gridcolor": "white",
            "gridwidth": 2,
            "linecolor": "white",
            "showbackground": true,
            "ticks": "",
            "zerolinecolor": "white"
           }
          },
          "shapedefaults": {
           "line": {
            "color": "#2a3f5f"
           }
          },
          "ternary": {
           "aaxis": {
            "gridcolor": "white",
            "linecolor": "white",
            "ticks": ""
           },
           "baxis": {
            "gridcolor": "white",
            "linecolor": "white",
            "ticks": ""
           },
           "bgcolor": "#E5ECF6",
           "caxis": {
            "gridcolor": "white",
            "linecolor": "white",
            "ticks": ""
           }
          },
          "title": {
           "x": 0.05
          },
          "xaxis": {
           "automargin": true,
           "gridcolor": "white",
           "linecolor": "white",
           "ticks": "",
           "title": {
            "standoff": 15
           },
           "zerolinecolor": "white",
           "zerolinewidth": 2
          },
          "yaxis": {
           "automargin": true,
           "gridcolor": "white",
           "linecolor": "white",
           "ticks": "",
           "title": {
            "standoff": 15
           },
           "zerolinecolor": "white",
           "zerolinewidth": 2
          }
         }
        },
        "title": {
         "text": "Percent of Total Delays caused by Weather"
        },
        "xaxis": {
         "anchor": "y",
         "domain": [
          0,
          1
         ],
         "title": {
          "text": "Airport"
         }
        },
        "yaxis": {
         "anchor": "x",
         "domain": [
          0,
          1
         ],
         "range": [
          0.25,
          0.4
         ],
         "tickformat": ".0%",
         "title": {
          "text": "Percent"
         }
        }
       }
      }
     },
     "metadata": {},
     "output_type": "display_data"
    }
   ],
   "source": [
    "fig = px.bar(\n",
    "    dat,\n",
    "    x=\"code\",\n",
    "    y=\"avg_ratio_weather_delays\",\n",
    "    range_y=[0.25, 0.4],\n",
    "    text_auto=\".1%\",\n",
    "    labels={\"avg_ratio_weather_delays\": \"Percent\", \"code\": \"Airport\"},\n",
    ")\n",
    "\n",
    "fig.update_layout(title_text=\"Percent of Total Delays caused by Weather\")\n",
    "\n",
    "fig.update_yaxes(tickformat=\".0%\")\n",
    "\n",
    "fig.show()"
   ]
  }
 ],
 "metadata": {
  "kernelspec": {
   "display_name": "Python 3",
   "language": "python",
   "name": "python3"
  },
  "language_info": {
   "codemirror_mode": {
    "name": "ipython",
    "version": 3
   },
   "file_extension": ".py",
   "mimetype": "text/x-python",
   "name": "python",
   "nbconvert_exporter": "python",
   "pygments_lexer": "ipython3",
   "version": "3.12.3"
  }
 },
 "nbformat": 4,
 "nbformat_minor": 2
}
